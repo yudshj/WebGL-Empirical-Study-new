{
 "cells": [
  {
   "cell_type": "code",
   "execution_count": 1,
   "metadata": {},
   "outputs": [],
   "source": [
    "import multiprocessing as mp\n",
    "import subprocess as sp\n",
    "import tempfile as tmp\n",
    "from typing import Literal, Optional, Tuple\n",
    "\n",
    "import pandas as pd\n",
    "from tqdm import tqdm"
   ]
  },
  {
   "cell_type": "code",
   "execution_count": 2,
   "metadata": {},
   "outputs": [],
   "source": [
    "df_c = pd.read_pickle('./output/1_df_b_shaders-win-0924.pkl.zstd', compression='zstd')\n",
    "df_p = pd.read_pickle('../performance/output/df_performance-win-0924.pkl.zstd', compression='zstd')\n",
    "idx = df_p[df_p['status'] == 'Ok'].index\n",
    "df = df_c[df_c.index_webapp.isin(idx)].copy()\n",
    "df['type'] = df['type'].map(lambda x: 'vert' if x > 35632.5 else 'frag')\n",
    "df.to_pickle('./output/df_shaders_joined-win-0924.pkl.zstd', compression='zstd')"
   ]
  },
  {
   "cell_type": "code",
   "execution_count": 3,
   "metadata": {},
   "outputs": [
    {
     "data": {
      "text/plain": [
       "(type\n",
       " frag    15512\n",
       " vert     7548\n",
       " Name: translatedSource, dtype: int64,\n",
       " type\n",
       " frag    46385\n",
       " vert    44039\n",
       " Name: translatedSource, dtype: int64)"
      ]
     },
     "execution_count": 3,
     "metadata": {},
     "output_type": "execute_result"
    }
   ],
   "source": [
    "a = df.groupby('type')['translatedSource']\n",
    "a.nunique(), a.count()"
   ]
  },
  {
   "cell_type": "code",
   "execution_count": 4,
   "metadata": {},
   "outputs": [],
   "source": [
    "NAGA = '/home/yudonghan/.cargo/bin/naga'\n",
    "ANGLE = '/home/yudonghan/.local/bin/angle_shader_translator'\n",
    "TINT = '/home/yudonghan/tint/out/Release/tint'\n",
    "SPVAS = '/usr/bin/spirv-as'"
   ]
  },
  {
   "cell_type": "code",
   "execution_count": 5,
   "metadata": {},
   "outputs": [],
   "source": [
    "def naga_compile(shader: str, type: Literal['vert', 'frag']) -> Tuple[str, bytes, bytes, int, Optional[str]]:\n",
    "    with tmp.NamedTemporaryFile(suffix='.' + type) as tmpfile:\n",
    "        with tmp.NamedTemporaryFile(mode='r+b', suffix='.wgsl') as tmpfile2:\n",
    "            tmpfile.write(shader.encode())\n",
    "            tmpfile.flush()\n",
    "            cmd = [NAGA, tmpfile.name, tmpfile2.name, \"--entry-point\", 'main']\n",
    "            process = sp.Popen(cmd, stdout=sp.PIPE, stderr=sp.PIPE)\n",
    "            stdout, stderr = process.communicate()\n",
    "            code = process.wait()\n",
    "            wgsl = tmpfile2.read().decode()\n",
    "            return ' '.join(cmd), stdout, stderr, code, wgsl"
   ]
  },
  {
   "cell_type": "code",
   "execution_count": 6,
   "metadata": {},
   "outputs": [],
   "source": [
    "def angle_spirv(shader: str, type: Literal['vert', 'frag'], step2: Literal['naga', 'tint'], webgl_version: Literal[1, 2]) -> Tuple[str, bytes, bytes, int, Optional[str]]:\n",
    "    swarg = '-s=w' if webgl_version == 1 else '-s=w2'\n",
    "    with tmp.NamedTemporaryFile(suffix='.' + type) as tmpfile:\n",
    "        tmpfile.write(shader.encode())\n",
    "        tmpfile.flush()\n",
    "        cmd = [ANGLE, swarg, '-b=v', '-o', '-u', tmpfile.name]\n",
    "        process = sp.Popen(cmd, stdout=sp.PIPE, stderr=sp.PIPE)\n",
    "        stdout, stderr = process.communicate()\n",
    "        code = process.wait()\n",
    "    if code != 0:\n",
    "        return ' '.join(cmd), stdout, stderr, code, None\n",
    "    t = stdout.splitlines()\n",
    "    begin = t.index(b'#### BEGIN COMPILER 0 OBJ CODE ####')\n",
    "    end = t.index(b'#### END COMPILER 0 OBJ CODE ####')\n",
    "    spirv_asm = b'\\n'.join(t[begin + 1: end])\n",
    "\n",
    "    if step2=='naga':\n",
    "        cmd = [SPVAS, '-o', '-', '-']\n",
    "    else:\n",
    "        cmd = [SPVAS, '--target-env', 'spv1.3', '-o', '-', '-']\n",
    "    with tmp.NamedTemporaryFile(suffix='.spv') as tmpfile:\n",
    "        process = sp.Popen(cmd, stdout=tmpfile, stderr=sp.PIPE, stdin=sp.PIPE)\n",
    "        _, stderr = process.communicate(input=spirv_asm)\n",
    "        code = process.wait()\n",
    "        if code != 0:\n",
    "            return ' '.join(cmd), stdout, stderr, code, None\n",
    "        \n",
    "        tmpfile.flush()\n",
    "        with tmp.NamedTemporaryFile(mode='r+b', suffix='.wgsl') as tmpfile2:\n",
    "            if step2 == 'naga':\n",
    "                cmd = [NAGA, tmpfile.name, tmpfile2.name]\n",
    "                process = sp.Popen(cmd, stdout=sp.PIPE, stderr=sp.PIPE)\n",
    "                stdout, stderr = process.communicate()\n",
    "                code = process.wait()\n",
    "                if code != 0:\n",
    "                    return ' '.join(cmd), stdout, stderr, code, None\n",
    "                tmpfile2.seek(0)\n",
    "                wgsl = tmpfile2.read().decode()\n",
    "            else:\n",
    "                cmd = [TINT, '--format', 'wgsl', '-o', '-', tmpfile.name]\n",
    "                process = sp.Popen(cmd, stdout=sp.PIPE, stderr=sp.PIPE)\n",
    "                stdout, stderr = process.communicate()\n",
    "                code = process.wait()\n",
    "                if code != 0:\n",
    "                    return ' '.join(cmd), stdout, stderr, code, None\n",
    "                wgsl = stdout.decode()\n",
    "    return ' '.join(cmd), stdout, stderr, code, wgsl"
   ]
  },
  {
   "cell_type": "code",
   "execution_count": 7,
   "metadata": {},
   "outputs": [],
   "source": [
    "def angle_glsl(shader: str, type: Literal['vert', 'frag'], step2: Literal['naga', 'tint'], webgl_version: Literal[1, 2]) -> Tuple[str, bytes, bytes, int, Optional[str]]:\n",
    "    swarg = '-s=w' if webgl_version == 1 else '-s=w2'\n",
    "    with tmp.NamedTemporaryFile(suffix='.' + type) as tmpfile:\n",
    "        tmpfile.write(shader.encode())\n",
    "        tmpfile.flush()\n",
    "        cmd = [ANGLE, swarg, '-b=g440', '-o', '-u', tmpfile.name]\n",
    "        process = sp.Popen(cmd, stdout=sp.PIPE, stderr=sp.PIPE)\n",
    "        stdout, stderr = process.communicate()\n",
    "        code = process.wait()\n",
    "    if code != 0:\n",
    "        return ' '.join(cmd), stdout, stderr, code, None\n",
    "    t = stdout.splitlines()\n",
    "    begin = t.index(b'#### BEGIN COMPILER 0 OBJ CODE ####')\n",
    "    end = t.index(b'#### END COMPILER 0 OBJ CODE ####')\n",
    "    glsl_code = b'\\n'.join(t[begin + 1: end])\n",
    "\n",
    "    with tmp.NamedTemporaryFile(suffix='.' + type if step2=='naga' else '.glsl') as tmpfile:\n",
    "        tmpfile.write(glsl_code)\n",
    "        tmpfile.flush()\n",
    "        with tmp.NamedTemporaryFile(mode='r+b', suffix='.wgsl') as tmpfile2:\n",
    "            if step2 == 'naga':\n",
    "                cmd = [NAGA, tmpfile.name, tmpfile2.name]\n",
    "                process = sp.Popen(cmd, stdout=sp.PIPE, stderr=sp.PIPE)\n",
    "                stdout, stderr = process.communicate()\n",
    "                code = process.wait()\n",
    "                if code != 0:\n",
    "                    return ' '.join(cmd), stdout, stderr, code, None\n",
    "                tmpfile2.seek(0)\n",
    "                wgsl = tmpfile2.read().decode()\n",
    "            else:\n",
    "                cmd = [TINT, '--format', 'wgsl', '-o', '-', tmpfile.name]\n",
    "                process = sp.Popen(cmd, stdout=sp.PIPE, stderr=sp.PIPE)\n",
    "                stdout, stderr = process.communicate()\n",
    "                code = process.wait()\n",
    "                if code != 0:\n",
    "                    return ' '.join(cmd), stdout, stderr, code, None\n",
    "                wgsl = stdout.decode()\n",
    "    return ' '.join(cmd), stdout, stderr, code, wgsl"
   ]
  },
  {
   "cell_type": "code",
   "execution_count": 8,
   "metadata": {},
   "outputs": [],
   "source": [
    "def getall(index_source_type: Tuple[int, str, Literal['vert', 'frag']]):\n",
    "    idx, source, type = index_source_type\n",
    "    naga_result = naga_compile(source, type)\n",
    "    angle_webgl1_naga_glsl = angle_glsl(source, type=type, step2='naga', webgl_version=1)\n",
    "    angle_webgl2_naga_glsl = angle_glsl(source, type=type, step2='naga', webgl_version=2)\n",
    "    angle_webgl1_naga_spirv = angle_spirv(source, type=type, step2='naga', webgl_version=1)\n",
    "    angle_webgl2_naga_spirv = angle_spirv(source, type=type, step2='naga', webgl_version=2)\n",
    "    angle_webgl1_tint_spirv = angle_spirv(source, type=type, step2='tint', webgl_version=1)\n",
    "    angle_webgl2_tint_spirv = angle_spirv(source, type=type, step2='tint', webgl_version=2)\n",
    "    return [idx, type, source, *naga_result,\n",
    "            *angle_webgl1_naga_glsl, *angle_webgl2_naga_glsl,\n",
    "            *angle_webgl1_naga_spirv, *angle_webgl2_naga_spirv,\n",
    "            *angle_webgl1_tint_spirv, *angle_webgl2_tint_spirv]"
   ]
  },
  {
   "cell_type": "code",
   "execution_count": 9,
   "metadata": {},
   "outputs": [],
   "source": [
    "inputs = [[row.Index, row.source, row.type] for row in list(df.itertuples())]"
   ]
  },
  {
   "cell_type": "code",
   "execution_count": 10,
   "metadata": {},
   "outputs": [
    {
     "name": "stderr",
     "output_type": "stream",
     "text": [
      "100%|██████████| 90424/90424 [04:18<00:00, 349.63it/s]\n"
     ]
    }
   ],
   "source": [
    "with mp.Pool(32) as pool:\n",
    "    results = list(tqdm(pool.imap_unordered(getall, inputs), total=len(inputs))) # type: ignore"
   ]
  },
  {
   "cell_type": "code",
   "execution_count": 61,
   "metadata": {},
   "outputs": [],
   "source": [
    "df_compile = pd.DataFrame(results, columns=[\n",
    "    'index_shader',\n",
    "    'type',\n",
    "    'source',\n",
    "    'naga_cmd',\n",
    "    'naga_stdout',\n",
    "    'naga_stderr',\n",
    "    'naga_code',\n",
    "    'naga_wgsl',\n",
    "    'angle_webgl1_naga_glsl_cmd',\n",
    "    'angle_webgl1_naga_glsl_stdout',\n",
    "    'angle_webgl1_naga_glsl_stderr',\n",
    "    'angle_webgl1_naga_glsl_code',\n",
    "    'angle_webgl1_naga_glsl_wgsl',\n",
    "    'angle_webgl2_naga_glsl_cmd',\n",
    "    'angle_webgl2_naga_glsl_stdout',\n",
    "    'angle_webgl2_naga_glsl_stderr',\n",
    "    'angle_webgl2_naga_glsl_code',\n",
    "    'angle_webgl2_naga_glsl_wgsl',\n",
    "    'angle_webgl1_naga_spirv_cmd',\n",
    "    'angle_webgl1_naga_spirv_stdout',\n",
    "    'angle_webgl1_naga_spirv_stderr',\n",
    "    'angle_webgl1_naga_spirv_code',\n",
    "    'angle_webgl1_naga_spirv_wgsl',\n",
    "    'angle_webgl2_naga_spirv_cmd',\n",
    "    'angle_webgl2_naga_spirv_stdout',\n",
    "    'angle_webgl2_naga_spirv_stderr',\n",
    "    'angle_webgl2_naga_spirv_code',\n",
    "    'angle_webgl2_naga_spirv_wgsl',\n",
    "    'angle_webgl1_tint_spirv_cmd',\n",
    "    'angle_webgl1_tint_spirv_stdout',\n",
    "    'angle_webgl1_tint_spirv_stderr',\n",
    "    'angle_webgl1_tint_spirv_code',\n",
    "    'angle_webgl1_tint_spirv_wgsl',\n",
    "    'angle_webgl2_tint_spirv_cmd',\n",
    "    'angle_webgl2_tint_spirv_stdout',\n",
    "    'angle_webgl\"2_tint_spirv_stderr',\n",
    "    'angle_webgl2_tint_spirv_code',\n",
    "    'angle_webgl2_tint_spirv_wgsl',\n",
    "]).set_index('index_shader')\n",
    "df_compile['index_webapp'] = df['index_webapp']"
   ]
  },
  {
   "cell_type": "code",
   "execution_count": 62,
   "metadata": {},
   "outputs": [
    {
     "data": {
      "text/html": [
       "<div>\n",
       "<style scoped>\n",
       "    .dataframe tbody tr th:only-of-type {\n",
       "        vertical-align: middle;\n",
       "    }\n",
       "\n",
       "    .dataframe tbody tr th {\n",
       "        vertical-align: top;\n",
       "    }\n",
       "\n",
       "    .dataframe thead th {\n",
       "        text-align: right;\n",
       "    }\n",
       "</style>\n",
       "<table border=\"1\" class=\"dataframe\">\n",
       "  <thead>\n",
       "    <tr style=\"text-align: right;\">\n",
       "      <th></th>\n",
       "      <th>index_webapp</th>\n",
       "      <th>type</th>\n",
       "      <th>naga_code</th>\n",
       "      <th>angle_naga_glsl</th>\n",
       "      <th>angle_naga_spirv</th>\n",
       "      <th>angle_tint_spirv</th>\n",
       "    </tr>\n",
       "    <tr>\n",
       "      <th>index_shader</th>\n",
       "      <th></th>\n",
       "      <th></th>\n",
       "      <th></th>\n",
       "      <th></th>\n",
       "      <th></th>\n",
       "      <th></th>\n",
       "    </tr>\n",
       "  </thead>\n",
       "  <tbody>\n",
       "    <tr>\n",
       "      <th>1</th>\n",
       "      <td>2</td>\n",
       "      <td>frag</td>\n",
       "      <td>1</td>\n",
       "      <td>1</td>\n",
       "      <td>1</td>\n",
       "      <td>1</td>\n",
       "    </tr>\n",
       "    <tr>\n",
       "      <th>19</th>\n",
       "      <td>2</td>\n",
       "      <td>vert</td>\n",
       "      <td>1</td>\n",
       "      <td>1</td>\n",
       "      <td>0</td>\n",
       "      <td>1</td>\n",
       "    </tr>\n",
       "    <tr>\n",
       "      <th>12</th>\n",
       "      <td>2</td>\n",
       "      <td>vert</td>\n",
       "      <td>1</td>\n",
       "      <td>1</td>\n",
       "      <td>0</td>\n",
       "      <td>1</td>\n",
       "    </tr>\n",
       "    <tr>\n",
       "      <th>10</th>\n",
       "      <td>2</td>\n",
       "      <td>vert</td>\n",
       "      <td>1</td>\n",
       "      <td>1</td>\n",
       "      <td>0</td>\n",
       "      <td>1</td>\n",
       "    </tr>\n",
       "    <tr>\n",
       "      <th>14</th>\n",
       "      <td>2</td>\n",
       "      <td>vert</td>\n",
       "      <td>1</td>\n",
       "      <td>1</td>\n",
       "      <td>0</td>\n",
       "      <td>1</td>\n",
       "    </tr>\n",
       "    <tr>\n",
       "      <th>...</th>\n",
       "      <td>...</td>\n",
       "      <td>...</td>\n",
       "      <td>...</td>\n",
       "      <td>...</td>\n",
       "      <td>...</td>\n",
       "      <td>...</td>\n",
       "    </tr>\n",
       "    <tr>\n",
       "      <th>150198</th>\n",
       "      <td>29235</td>\n",
       "      <td>frag</td>\n",
       "      <td>1</td>\n",
       "      <td>1</td>\n",
       "      <td>1</td>\n",
       "      <td>1</td>\n",
       "    </tr>\n",
       "    <tr>\n",
       "      <th>150197</th>\n",
       "      <td>29235</td>\n",
       "      <td>vert</td>\n",
       "      <td>1</td>\n",
       "      <td>1</td>\n",
       "      <td>1</td>\n",
       "      <td>1</td>\n",
       "    </tr>\n",
       "    <tr>\n",
       "      <th>150204</th>\n",
       "      <td>29235</td>\n",
       "      <td>frag</td>\n",
       "      <td>1</td>\n",
       "      <td>1</td>\n",
       "      <td>1</td>\n",
       "      <td>1</td>\n",
       "    </tr>\n",
       "    <tr>\n",
       "      <th>150203</th>\n",
       "      <td>29235</td>\n",
       "      <td>vert</td>\n",
       "      <td>1</td>\n",
       "      <td>1</td>\n",
       "      <td>0</td>\n",
       "      <td>1</td>\n",
       "    </tr>\n",
       "    <tr>\n",
       "      <th>150205</th>\n",
       "      <td>29235</td>\n",
       "      <td>vert</td>\n",
       "      <td>1</td>\n",
       "      <td>1</td>\n",
       "      <td>0</td>\n",
       "      <td>1</td>\n",
       "    </tr>\n",
       "  </tbody>\n",
       "</table>\n",
       "<p>90424 rows × 6 columns</p>\n",
       "</div>"
      ],
      "text/plain": [
       "              index_webapp  type  naga_code  angle_naga_glsl   \n",
       "index_shader                                                   \n",
       "1                        2  frag          1                1  \\\n",
       "19                       2  vert          1                1   \n",
       "12                       2  vert          1                1   \n",
       "10                       2  vert          1                1   \n",
       "14                       2  vert          1                1   \n",
       "...                    ...   ...        ...              ...   \n",
       "150198               29235  frag          1                1   \n",
       "150197               29235  vert          1                1   \n",
       "150204               29235  frag          1                1   \n",
       "150203               29235  vert          1                1   \n",
       "150205               29235  vert          1                1   \n",
       "\n",
       "              angle_naga_spirv  angle_tint_spirv  \n",
       "index_shader                                      \n",
       "1                            1                 1  \n",
       "19                           0                 1  \n",
       "12                           0                 1  \n",
       "10                           0                 1  \n",
       "14                           0                 1  \n",
       "...                        ...               ...  \n",
       "150198                       1                 1  \n",
       "150197                       1                 1  \n",
       "150204                       1                 1  \n",
       "150203                       0                 1  \n",
       "150205                       0                 1  \n",
       "\n",
       "[90424 rows x 6 columns]"
      ]
     },
     "execution_count": 62,
     "metadata": {},
     "output_type": "execute_result"
    }
   ],
   "source": [
    "df_t = df_compile[[\n",
    "    'index_webapp',\n",
    "    'type',\n",
    "    'naga_code',\n",
    "]].copy()\n",
    "\n",
    "df_t['angle_naga_glsl'] = df_compile['angle_webgl1_naga_glsl_code'] * df_compile['angle_webgl2_naga_glsl_code']\n",
    "df_t['angle_naga_spirv'] = df_compile['angle_webgl1_naga_spirv_code'] * df_compile['angle_webgl2_naga_spirv_code']\n",
    "df_t['angle_tint_spirv'] = df_compile['angle_webgl1_tint_spirv_code'] * df_compile['angle_webgl2_tint_spirv_code']\n",
    "df_t"
   ]
  },
  {
   "cell_type": "code",
   "execution_count": 82,
   "metadata": {},
   "outputs": [
    {
     "data": {
      "text/plain": [
       "type  angle_naga_spirv  angle_naga_glsl  naga_code\n",
       "frag  False             False            False        35702\n",
       "                        True             False          140\n",
       "      True              False            False         7771\n",
       "                        True             False         2767\n",
       "                                         True             5\n",
       "vert  False             False            False         4443\n",
       "                        True             False            1\n",
       "      True              False            False        37985\n",
       "                        True             False         1609\n",
       "                                         True             1\n",
       "Name: count, dtype: int64"
      ]
     },
     "execution_count": 82,
     "metadata": {},
     "output_type": "execute_result"
    }
   ],
   "source": [
    "tmp = df_t[['angle_naga_spirv', 'angle_naga_glsl', 'naga_code']]==0\n",
    "tmp['type'] = df_t['type']\n",
    "tmp = tmp[['type', 'angle_naga_spirv', 'angle_naga_glsl', 'naga_code']]\n",
    "tmp.value_counts().sort_index()"
   ]
  },
  {
   "cell_type": "code",
   "execution_count": 68,
   "metadata": {},
   "outputs": [],
   "source": [
    "df_app = df_t.drop(columns=['type']).groupby('index_webapp').sum()\n",
    "# df_app['overall'] = df_app.prod(axis=1)\n",
    "df_app = df_app == 0"
   ]
  },
  {
   "cell_type": "code",
   "execution_count": null,
   "metadata": {},
   "outputs": [],
   "source": []
  },
  {
   "cell_type": "code",
   "execution_count": 69,
   "metadata": {},
   "outputs": [],
   "source": [
    "tt=df_app.sum(axis=0)"
   ]
  },
  {
   "cell_type": "code",
   "execution_count": 70,
   "metadata": {},
   "outputs": [
    {
     "data": {
      "text/plain": [
       "<Axes: title={'center': 'Number of shaders compiled successfully'}>"
      ]
     },
     "execution_count": 70,
     "metadata": {},
     "output_type": "execute_result"
    },
    {
     "data": {
      "image/png": "[encoded data removed]",
      "text/plain": [
       "<Figure size 720x288 with 1 Axes>"
      ]
     },
     "metadata": {
      "needs_background": "light"
     },
     "output_type": "display_data"
    }
   ],
   "source": [
    "tt.plot(kind='barh', figsize=(10, 4), title='Number of shaders compiled successfully')"
   ]
  },
  {
   "cell_type": "code",
   "execution_count": null,
   "metadata": {},
   "outputs": [],
   "source": [
    "import numpy as np\n",
    "import matplotlib.pyplot as plt"
   ]
  },
  {
   "cell_type": "code",
   "execution_count": null,
   "metadata": {},
   "outputs": [],
   "source": [
    "plt.bar(np.arange(len(tt)), tt.values, color=\"#ddd\", edgecolor=\"black\", hatch='//')\n",
    "plt.xticks(np.arange(len(tt)), tt.index, rotation=70, ha='right')\n",
    "plt.title('Texture Types', fontsize=14)"
   ]
  },
  {
   "cell_type": "code",
   "execution_count": 36,
   "metadata": {},
   "outputs": [],
   "source": [
    "df_t[['naga_code', 'angle_naga_glsl', 'angle_naga_spirv', 'angle_tint_spirv']] = df_t[['naga_code', 'angle_naga_glsl', 'angle_naga_spirv', 'angle_tint_spirv']] == 0"
   ]
  },
  {
   "cell_type": "code",
   "execution_count": 37,
   "metadata": {},
   "outputs": [
    {
     "data": {
      "text/html": [
       "<div>\n",
       "<style scoped>\n",
       "    .dataframe tbody tr th:only-of-type {\n",
       "        vertical-align: middle;\n",
       "    }\n",
       "\n",
       "    .dataframe tbody tr th {\n",
       "        vertical-align: top;\n",
       "    }\n",
       "\n",
       "    .dataframe thead th {\n",
       "        text-align: right;\n",
       "    }\n",
       "</style>\n",
       "<table border=\"1\" class=\"dataframe\">\n",
       "  <thead>\n",
       "    <tr style=\"text-align: right;\">\n",
       "      <th></th>\n",
       "      <th>type</th>\n",
       "      <th>naga_code</th>\n",
       "      <th>angle_naga_glsl</th>\n",
       "      <th>angle_naga_spirv</th>\n",
       "      <th>angle_tint_spirv</th>\n",
       "    </tr>\n",
       "  </thead>\n",
       "  <tbody>\n",
       "    <tr>\n",
       "      <th>0</th>\n",
       "      <td>frag</td>\n",
       "      <td>False</td>\n",
       "      <td>False</td>\n",
       "      <td>False</td>\n",
       "      <td>False</td>\n",
       "    </tr>\n",
       "    <tr>\n",
       "      <th>1</th>\n",
       "      <td>vert</td>\n",
       "      <td>False</td>\n",
       "      <td>False</td>\n",
       "      <td>True</td>\n",
       "      <td>False</td>\n",
       "    </tr>\n",
       "    <tr>\n",
       "      <th>2</th>\n",
       "      <td>vert</td>\n",
       "      <td>False</td>\n",
       "      <td>False</td>\n",
       "      <td>True</td>\n",
       "      <td>False</td>\n",
       "    </tr>\n",
       "    <tr>\n",
       "      <th>3</th>\n",
       "      <td>vert</td>\n",
       "      <td>False</td>\n",
       "      <td>False</td>\n",
       "      <td>True</td>\n",
       "      <td>False</td>\n",
       "    </tr>\n",
       "    <tr>\n",
       "      <th>4</th>\n",
       "      <td>vert</td>\n",
       "      <td>False</td>\n",
       "      <td>False</td>\n",
       "      <td>True</td>\n",
       "      <td>False</td>\n",
       "    </tr>\n",
       "    <tr>\n",
       "      <th>...</th>\n",
       "      <td>...</td>\n",
       "      <td>...</td>\n",
       "      <td>...</td>\n",
       "      <td>...</td>\n",
       "      <td>...</td>\n",
       "    </tr>\n",
       "    <tr>\n",
       "      <th>90419</th>\n",
       "      <td>frag</td>\n",
       "      <td>False</td>\n",
       "      <td>False</td>\n",
       "      <td>False</td>\n",
       "      <td>False</td>\n",
       "    </tr>\n",
       "    <tr>\n",
       "      <th>90420</th>\n",
       "      <td>vert</td>\n",
       "      <td>False</td>\n",
       "      <td>False</td>\n",
       "      <td>False</td>\n",
       "      <td>False</td>\n",
       "    </tr>\n",
       "    <tr>\n",
       "      <th>90421</th>\n",
       "      <td>frag</td>\n",
       "      <td>False</td>\n",
       "      <td>False</td>\n",
       "      <td>False</td>\n",
       "      <td>False</td>\n",
       "    </tr>\n",
       "    <tr>\n",
       "      <th>90422</th>\n",
       "      <td>vert</td>\n",
       "      <td>False</td>\n",
       "      <td>False</td>\n",
       "      <td>True</td>\n",
       "      <td>False</td>\n",
       "    </tr>\n",
       "    <tr>\n",
       "      <th>90423</th>\n",
       "      <td>vert</td>\n",
       "      <td>False</td>\n",
       "      <td>False</td>\n",
       "      <td>True</td>\n",
       "      <td>False</td>\n",
       "    </tr>\n",
       "  </tbody>\n",
       "</table>\n",
       "<p>90424 rows × 5 columns</p>\n",
       "</div>"
      ],
      "text/plain": [
       "       type  naga_code  angle_naga_glsl  angle_naga_spirv  angle_tint_spirv\n",
       "0      frag      False            False             False             False\n",
       "1      vert      False            False              True             False\n",
       "2      vert      False            False              True             False\n",
       "3      vert      False            False              True             False\n",
       "4      vert      False            False              True             False\n",
       "...     ...        ...              ...               ...               ...\n",
       "90419  frag      False            False             False             False\n",
       "90420  vert      False            False             False             False\n",
       "90421  frag      False            False             False             False\n",
       "90422  vert      False            False              True             False\n",
       "90423  vert      False            False              True             False\n",
       "\n",
       "[90424 rows x 5 columns]"
      ]
     },
     "execution_count": 37,
     "metadata": {},
     "output_type": "execute_result"
    }
   ],
   "source": [
    "df_t"
   ]
  },
  {
   "cell_type": "code",
   "execution_count": null,
   "metadata": {},
   "outputs": [],
   "source": [
    "sns.countplot(data=df_t, x='type', hue='type')"
   ]
  },
  {
   "cell_type": "code",
   "execution_count": 13,
   "metadata": {},
   "outputs": [],
   "source": [
    "df_compile.to_pickle('./output/df_compile-win-1001.pkl.zstd', compression='zstd')"
   ]
  },
  {
   "cell_type": "markdown",
   "metadata": {},
   "source": [
    "# ANALYZE"
   ]
  },
  {
   "cell_type": "markdown",
   "metadata": {},
   "source": [
    "## WebAPP"
   ]
  },
  {
   "cell_type": "code",
   "execution_count": 16,
   "metadata": {},
   "outputs": [],
   "source": [
    "# tmp = df_compile[['type', 'angle_naga_webgl2_code']].copy()\n",
    "# tmp['angle_naga_webgl2_code'] = tmp['angle_naga_webgl2_code'].map(lambda x: 'Ok' if x == 0 else 'Err')\n",
    "# tmp = tmp.value_counts().sort_index()\n",
    "# # 2x2 grid"
   ]
  },
  {
   "cell_type": "code",
   "execution_count": 17,
   "metadata": {},
   "outputs": [],
   "source": [
    "import matplotlib.pyplot as plt\n",
    "import numpy as np"
   ]
  },
  {
   "cell_type": "code",
   "execution_count": null,
   "metadata": {},
   "outputs": [],
   "source": [
    "fig, ax = plt.subplots(1, 2, figsize=(8, 3), sharey=True)\n",
    "a = df_compile[df_compile.type=='vert'].dropna()['angle_naga_webgl2_wgsl'].map(lambda x: len(x)).to_numpy()\n",
    "b = df_compile[df_compile.type=='vert'].dropna()['source'].map(lambda x: len(x)).to_numpy()\n",
    "a = np.sort(a)\n",
    "b = np.sort(b)\n",
    "ax[0].grid()\n",
    "ax[0].plot(a, np.arange(len(a)) / len(a), color='tab:blue')\n",
    "ax[0].plot(b, np.arange(len(b)) / len(b), color='tab:red')\n",
    "ax[0].set_xscale('log')\n",
    "ax[0].set_ylabel('Fraction of Shaders', fontsize=14)\n",
    "ax[0].set_xlabel('Length of a Vertex Shader (Byte)', fontsize=14)\n",
    "# ax[0].legend(['WebGPU Shader', 'WebGL Shader'], fontsize=14)\n",
    "a = df_compile[df_compile.type=='frag'].dropna()['angle_naga_webgl2_wgsl'].map(lambda x: len(x)).to_numpy()\n",
    "b = df_compile[df_compile.type=='frag'].dropna()['source'].map(lambda x: len(x)).to_numpy()\n",
    "a = np.sort(a)\n",
    "b = np.sort(b)\n",
    "ax[1].grid()\n",
    "ax[1].plot(a, np.arange(len(a)) / len(a), color='tab:blue')\n",
    "ax[1].plot(b, np.arange(len(b)) / len(b), color='tab:red')\n",
    "ax[1].set_xscale('log')\n",
    "# ax[1].set_ylabel('Fraction of Shaders', fontsize=14)\n",
    "ax[1].set_xlabel('Length of a Fragment Shader (Byte)', fontsize=14)\n",
    "ax[1].legend(['WebGPU Shader', 'WebGL Shader'], fontsize=14, ncol=2, loc='upper center', bbox_to_anchor=(-0.1, 1.22))\n",
    "# plt.tight_layout()\n",
    "plt.savefig('./output/fig/3_length.pdf', bbox_inches='tight')"
   ]
  },
  {
   "cell_type": "code",
   "execution_count": null,
   "metadata": {},
   "outputs": [],
   "source": [
    "df_compile.naga_code.value_counts()"
   ]
  },
  {
   "cell_type": "code",
   "execution_count": null,
   "metadata": {},
   "outputs": [],
   "source": [
    "df_compile.loc[100]"
   ]
  },
  {
   "cell_type": "code",
   "execution_count": null,
   "metadata": {},
   "outputs": [],
   "source": []
  }
 ],
 "metadata": {
  "kernelspec": {
   "display_name": "Python 3",
   "language": "python",
   "name": "python3"
  },
  "language_info": {
   "codemirror_mode": {
    "name": "ipython",
    "version": 3
   },
   "file_extension": ".py",
   "mimetype": "text/x-python",
   "name": "python",
   "nbconvert_exporter": "python",
   "pygments_lexer": "ipython3",
   "version": "3.10.12"
  },
  "orig_nbformat": 4
 },
 "nbformat": 4,
 "nbformat_minor": 2
}
