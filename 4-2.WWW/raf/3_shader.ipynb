{
 "cells": [
  {
   "cell_type": "code",
   "execution_count": 1,
   "metadata": {},
   "outputs": [],
   "source": [
    "import multiprocessing as mp\n",
    "import subprocess as sp\n",
    "import tempfile as tmp\n",
    "from typing import Literal, Optional, Tuple\n",
    "\n",
    "import pandas as pd\n",
    "from tqdm import tqdm"
   ]
  },
  {
   "cell_type": "code",
   "execution_count": 2,
   "metadata": {},
   "outputs": [],
   "source": [
    "df_c = pd.read_pickle('./output/1_df_b_shaders-win-0924.pkl.zstd', compression='zstd')\n",
    "df_p = pd.read_pickle('../performance/output/df_performance-win-0924.pkl.zstd', compression='zstd')\n",
    "idx = df_p[df_p['status'] == 'Ok'].index\n",
    "df = df_c[df_c.index_webapp.isin(idx)].copy()\n",
    "df['type'] = df['type'].map(lambda x: 'vert' if x > 35632.5 else 'frag')\n",
    "df.to_pickle('./output/df_shaders_joined-win-0924.pkl.zstd', compression='zstd')"
   ]
  },
  {
   "cell_type": "code",
   "execution_count": 3,
   "metadata": {},
   "outputs": [],
   "source": [
    "NAGA = '/home/yudonghan/.cargo/bin/naga'\n",
    "ANGLE = '/home/yudonghan/.local/bin/angle_shader_translator'\n",
    "SPVAS = '/usr/bin/spirv-as'"
   ]
  },
  {
   "cell_type": "code",
   "execution_count": 4,
   "metadata": {},
   "outputs": [],
   "source": [
    "def naga_compile(shader: str, type: Literal['vert', 'frag']) -> Tuple[str, bytes, bytes, int, Optional[str]]:\n",
    "    with tmp.NamedTemporaryFile(suffix='.' + type) as tmpfile:\n",
    "        with tmp.NamedTemporaryFile(mode='r+b', suffix='.wgsl') as tmpfile2:\n",
    "            cmd = [NAGA, tmpfile.name, tmpfile2.name]\n",
    "            process = sp.Popen(cmd, stdout=sp.PIPE, stderr=sp.PIPE)\n",
    "            stdout, stderr = process.communicate()\n",
    "            code = process.wait()\n",
    "            wgsl = tmpfile2.read().decode()\n",
    "            return ' '.join(cmd), stdout, stderr, code, wgsl"
   ]
  },
  {
   "cell_type": "code",
   "execution_count": 5,
   "metadata": {},
   "outputs": [],
   "source": [
    "def angle_webgl_compile(shader: str, type: Literal['vert', 'frag'], webgl_version: Literal[1, 2]) -> Tuple[str, bytes, bytes, int, Optional[str]]:\n",
    "    swarg = '-s=w' if webgl_version == 1 else '-s=w2'\n",
    "    with tmp.NamedTemporaryFile(suffix='.' + type) as tmpfile:\n",
    "        tmpfile.write(shader.encode())\n",
    "        tmpfile.flush()\n",
    "        cmd = [ANGLE, swarg, '-b=v', '-o', '-u', tmpfile.name]\n",
    "        process = sp.Popen(cmd, stdout=sp.PIPE, stderr=sp.PIPE)\n",
    "        stdout, stderr = process.communicate()\n",
    "        code = process.wait()\n",
    "    if code != 0:\n",
    "        return ' '.join(cmd), stdout, stderr, code, None\n",
    "    t = stdout.splitlines()\n",
    "    begin = t.index(b'#### BEGIN COMPILER 0 OBJ CODE ####')\n",
    "    end = t.index(b'#### END COMPILER 0 OBJ CODE ####')\n",
    "    spirv_asm = b'\\n'.join(t[begin + 1: end])\n",
    "\n",
    "    cmd = [SPVAS, '-o', '-', '-']\n",
    "    with tmp.NamedTemporaryFile(suffix='.spv') as tmpfile:\n",
    "        process = sp.Popen(cmd, stdout=tmpfile, stderr=sp.PIPE, stdin=sp.PIPE)\n",
    "        _, stderr = process.communicate(input=spirv_asm)\n",
    "        code = process.wait()\n",
    "        if code != 0:\n",
    "            return ' '.join(cmd), stdout, stderr, code, None\n",
    "        \n",
    "        tmpfile.flush()\n",
    "        with tmp.NamedTemporaryFile(mode='r+b', suffix='.wgsl') as tmpfile2:\n",
    "            cmd = [NAGA, tmpfile.name, tmpfile2.name]\n",
    "            process = sp.Popen(cmd, stdout=sp.PIPE, stderr=sp.PIPE)\n",
    "            stdout, stderr = process.communicate()\n",
    "            code = process.wait()\n",
    "            if code != 0:\n",
    "                return ' '.join(cmd), stdout, stderr, code, None\n",
    "            tmpfile2.seek(0)\n",
    "            wgsl = tmpfile2.read().decode()\n",
    "    return ' '.join(cmd), stdout, stderr, code, wgsl"
   ]
  },
  {
   "cell_type": "code",
   "execution_count": 6,
   "metadata": {},
   "outputs": [],
   "source": [
    "def getall(index_source_type: Tuple[int, str, Literal['vert', 'frag']]):\n",
    "    idx, source, type = index_source_type\n",
    "    naga_result = naga_compile(source, type)\n",
    "    angle_naga_webgl1_result = angle_webgl_compile(source, type, 1)\n",
    "    angle_naga_webgl2_result = angle_webgl_compile(source, type, 2)\n",
    "    return [idx, type, source, *naga_result, *angle_naga_webgl1_result, *angle_naga_webgl2_result]"
   ]
  },
  {
   "cell_type": "code",
   "execution_count": 7,
   "metadata": {},
   "outputs": [],
   "source": [
    "inputs = [[row.Index, row.source, row.type] for row in df.itertuples()]"
   ]
  },
  {
   "cell_type": "code",
   "execution_count": 8,
   "metadata": {},
   "outputs": [
    {
     "name": "stderr",
     "output_type": "stream",
     "text": [
      "100%|██████████| 90424/90424 [01:20<00:00, 1123.61it/s]\n"
     ]
    }
   ],
   "source": [
    "with mp.Pool(32) as pool:\n",
    "    results = list(tqdm(pool.imap_unordered(getall, inputs), total=len(inputs))) # type: ignore"
   ]
  },
  {
   "cell_type": "code",
   "execution_count": 11,
   "metadata": {},
   "outputs": [],
   "source": [
    "df_compile = pd.DataFrame(results, columns=['index_webapp', 'type', 'source', 'naga_cmd', 'naga_stdout', 'naga_stderr', 'naga_code', 'naga_wgsl', 'angle_naga_webgl1_cmd', 'angle_naga_webgl1_stdout', 'angle_naga_webgl1_stderr', 'angle_naga_webgl1_code', 'angle_naga_webgl1_wgsl', 'angle_naga_webgl2_cmd', 'angle_naga_webgl2_stdout', 'angle_naga_webgl2_stderr', 'angle_naga_webgl2_code', 'angle_naga_webgl2_wgsl'])"
   ]
  },
  {
   "cell_type": "code",
   "execution_count": null,
   "metadata": {},
   "outputs": [],
   "source": []
  },
  {
   "cell_type": "code",
   "execution_count": 49,
   "metadata": {},
   "outputs": [
    {
     "data": {
      "text/plain": [
       "'precision lowp float;\\n\\n#define GLSLIFY 1\\nvarying vec2 vTexCoord;\\n\\nuniform sampler2D tTex1;\\n\\n#define HAS_alpha1 1\\n\\n#define alpha1(k) VAL_tTex1vTexCoord.r\\nuniform sampler2D tTex2;\\n\\n#define HAS_alpha2 1\\n\\n#define alpha2(k) VAL_tTex2vTexCoord.r\\nuniform float uMix;\\n\\n#define HAS_tmix 1\\n\\n#define tmix(k) uMix\\nuniform float uAlpha;\\n\\n#define HAS_talpha 1\\n\\n#define talpha(k) uAlpha\\nuniform sampler2D tShadow;\\n\\n#define HAS_tshadow 1\\n\\n#define tshadow(k) VAL_tShadowvTexCoord.r\\nuniform float uShadow;\\n\\n#define HAS_shadow 1\\n\\n#define shadow(k) uShadow\\n\\n\\nvoid main( void ){\\n  vec4 VAL_tTex1vTexCoord = texture2D( tTex1, vTexCoord);\\n\\nvec4 VAL_tTex2vTexCoord = texture2D( tTex2, vTexCoord);\\n\\nvec4 VAL_tShadowvTexCoord = texture2D( tShadow, vTexCoord);\\n\\n\\n\\n  // black alpha\\n  float xshadow = tshadow() * shadow() * .08;\\n\\n  // white alpha\\n  float lum = talpha() * mix( alpha1(), alpha2(), tmix() );\\n\\n  \\n  gl_FragColor = vec4( vec3(lum), (1.0 - lum) * (1.0 - xshadow ) );\\n}'"
      ]
     },
     "execution_count": 49,
     "metadata": {},
     "output_type": "execute_result"
    }
   ],
   "source": [
    "df_compile.loc[344, 'source']"
   ]
  },
  {
   "cell_type": "markdown",
   "metadata": {},
   "source": [
    "# ANALYZE"
   ]
  },
  {
   "cell_type": "markdown",
   "metadata": {},
   "source": [
    "## WebAPP"
   ]
  },
  {
   "cell_type": "code",
   "execution_count": 53,
   "metadata": {},
   "outputs": [
    {
     "data": {
      "text/plain": [
       "angle_naga_webgl2_code\n",
       "0    47038\n",
       "1    30526\n",
       "2    12860\n",
       "Name: count, dtype: int64"
      ]
     },
     "execution_count": 53,
     "metadata": {},
     "output_type": "execute_result"
    }
   ],
   "source": [
    "df_compile.groupby('index_webapp')['angle_naga_webgl2_code'].sum().value_counts()"
   ]
  },
  {
   "cell_type": "code",
   "execution_count": 39,
   "metadata": {},
   "outputs": [
    {
     "data": {
      "text/plain": [
       "type  angle_naga_webgl2_code\n",
       "frag  Err                       38942\n",
       "      Ok                         7443\n",
       "vert  Err                        4444\n",
       "      Ok                        39595\n",
       "Name: count, dtype: int64"
      ]
     },
     "execution_count": 39,
     "metadata": {},
     "output_type": "execute_result"
    }
   ],
   "source": [
    "tmp = df_compile[['type', 'angle_naga_webgl2_code']].copy()\n",
    "tmp['angle_naga_webgl2_code'] = tmp['angle_naga_webgl2_code'].map(lambda x: 'Ok' if x == 0 else 'Err')\n",
    "tmp = tmp.value_counts().sort_index()\n",
    "# 2x2 grid"
   ]
  },
  {
   "cell_type": "code",
   "execution_count": 23,
   "metadata": {},
   "outputs": [],
   "source": [
    "a = df_compile.dropna()['angle_naga_webgl2_wgsl'].map(lambda x: len(x)).to_numpy()\n",
    "b = df_compile.dropna()['source'].map(lambda x: len(x)).to_numpy()"
   ]
  },
  {
   "cell_type": "code",
   "execution_count": 29,
   "metadata": {},
   "outputs": [],
   "source": [
    "import matplotlib.pyplot as plt\n",
    "import numpy as np"
   ]
  },
  {
   "cell_type": "code",
   "execution_count": 30,
   "metadata": {},
   "outputs": [],
   "source": [
    "a = np.sort(a)\n",
    "b = np.sort(b)"
   ]
  },
  {
   "cell_type": "code",
   "execution_count": 35,
   "metadata": {},
   "outputs": [
    {
     "data": {
      "text/plain": [
       "<matplotlib.legend.Legend at 0x7facec8784f0>"
      ]
     },
     "execution_count": 35,
     "metadata": {},
     "output_type": "execute_result"
    },
    {
     "data": {
      "image/png": "[encoded data removed]",
      "text/plain": [
       "<Figure size 432x288 with 1 Axes>"
      ]
     },
     "metadata": {
      "needs_background": "light"
     },
     "output_type": "display_data"
    }
   ],
   "source": [
    "plt.plot(a, np.arange(len(a)) / len(a))\n",
    "plt.plot(b, np.arange(len(b)) / len(b))\n",
    "plt.xscale('log')\n",
    "plt.legend(['WebGPU Shader Length', 'WebGL Shader Length'])"
   ]
  },
  {
   "cell_type": "code",
   "execution_count": null,
   "metadata": {},
   "outputs": [],
   "source": []
  }
 ],
 "metadata": {
  "kernelspec": {
   "display_name": "Python 3",
   "language": "python",
   "name": "python3"
  },
  "language_info": {
   "codemirror_mode": {
    "name": "ipython",
    "version": 3
   },
   "file_extension": ".py",
   "mimetype": "text/x-python",
   "name": "python",
   "nbconvert_exporter": "python",
   "pygments_lexer": "ipython3",
   "version": "3.10.12"
  },
  "orig_nbformat": 4
 },
 "nbformat": 4,
 "nbformat_minor": 2
}
