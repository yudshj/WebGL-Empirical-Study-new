{
 "cells": [
  {
   "cell_type": "code",
   "execution_count": 1,
   "metadata": {},
   "outputs": [],
   "source": [
    "import pandas as pd\n",
    "import matplotlib.pyplot as plt\n",
    "import numpy as np"
   ]
  },
  {
   "cell_type": "code",
   "execution_count": 2,
   "metadata": {},
   "outputs": [],
   "source": [
    "df_ab = pd.read_pickle('./output/1_df_raf_final-win-0924.pkl.zstd', compression='zstd')\n",
    "\n",
    "df_b = pd.read_pickle('output/1_df_b_rafs_new-win-0924.pkl.zstd', compression='zstd')\n",
    "df_b_shaders = pd.read_pickle('./output/1_df_b_shaders-win-0924.pkl.zstd', compression='zstd')\n",
    "df_b_offscreen = pd.read_pickle('./output/1_df_raf_offscreen-win-0924.pkl.zstd', compression='zstd')\n",
    "df_b_extensions = pd.read_pickle('./output/1_df_raf_extensions-win-0924.pkl.zstd', compression='zstd')\n"
   ]
  },
  {
   "cell_type": "code",
   "execution_count": 3,
   "metadata": {},
   "outputs": [],
   "source": [
    "df_b_programs = pd.read_pickle('./output/1_df_programs-win-0924.pkl.zstd', compression='zstd')"
   ]
  },
  {
   "cell_type": "code",
   "execution_count": 4,
   "metadata": {},
   "outputs": [],
   "source": [
    "df_perf = pd.read_pickle('../performance/output/df_performance-mac-15s-0924.pkl.zstd', compression='zstd')\n",
    "df_perf = df_perf[df_perf.status == 'Ok'].drop(columns='status')\n",
    "ok_index = df_perf.index"
   ]
  },
  {
   "cell_type": "code",
   "execution_count": 5,
   "metadata": {},
   "outputs": [
    {
     "data": {
      "text/html": [
       "<div>\n",
       "<style scoped>\n",
       "    .dataframe tbody tr th:only-of-type {\n",
       "        vertical-align: middle;\n",
       "    }\n",
       "\n",
       "    .dataframe tbody tr th {\n",
       "        vertical-align: top;\n",
       "    }\n",
       "\n",
       "    .dataframe thead th {\n",
       "        text-align: right;\n",
       "    }\n",
       "</style>\n",
       "<table border=\"1\" class=\"dataframe\">\n",
       "  <thead>\n",
       "    <tr style=\"text-align: right;\">\n",
       "      <th></th>\n",
       "      <th>cpu_real</th>\n",
       "      <th>cpu_full</th>\n",
       "      <th>gpu_real</th>\n",
       "      <th>gpu_full</th>\n",
       "      <th>webgl_time</th>\n",
       "      <th>dropped_frame_duration</th>\n",
       "      <th>frames_count</th>\n",
       "    </tr>\n",
       "  </thead>\n",
       "  <tbody>\n",
       "    <tr>\n",
       "      <th>1145</th>\n",
       "      <td>0.958737</td>\n",
       "      <td>1.425565</td>\n",
       "      <td>0.192862</td>\n",
       "      <td>0.311119</td>\n",
       "      <td>0.001377</td>\n",
       "      <td>0.183337</td>\n",
       "      <td>[588, 599]</td>\n",
       "    </tr>\n",
       "    <tr>\n",
       "      <th>1604</th>\n",
       "      <td>0.865457</td>\n",
       "      <td>1.133949</td>\n",
       "      <td>0.926193</td>\n",
       "      <td>1.075975</td>\n",
       "      <td>0.574131</td>\n",
       "      <td>-1.000000</td>\n",
       "      <td>[600, 600]</td>\n",
       "    </tr>\n",
       "    <tr>\n",
       "      <th>3175</th>\n",
       "      <td>1.662112</td>\n",
       "      <td>1.839336</td>\n",
       "      <td>0.192349</td>\n",
       "      <td>0.210991</td>\n",
       "      <td>0.000728</td>\n",
       "      <td>-1.000000</td>\n",
       "      <td>[1, 599]</td>\n",
       "    </tr>\n",
       "    <tr>\n",
       "      <th>8481</th>\n",
       "      <td>0.984098</td>\n",
       "      <td>1.038842</td>\n",
       "      <td>0.152714</td>\n",
       "      <td>0.163260</td>\n",
       "      <td>0.000931</td>\n",
       "      <td>0.016667</td>\n",
       "      <td>[2, 600]</td>\n",
       "    </tr>\n",
       "    <tr>\n",
       "      <th>9106</th>\n",
       "      <td>1.306788</td>\n",
       "      <td>1.637622</td>\n",
       "      <td>0.254110</td>\n",
       "      <td>0.363724</td>\n",
       "      <td>0.002124</td>\n",
       "      <td>0.100002</td>\n",
       "      <td>[593, 1]</td>\n",
       "    </tr>\n",
       "    <tr>\n",
       "      <th>9419</th>\n",
       "      <td>1.508511</td>\n",
       "      <td>1.654305</td>\n",
       "      <td>0.867174</td>\n",
       "      <td>0.883343</td>\n",
       "      <td>0.557905</td>\n",
       "      <td>-1.000000</td>\n",
       "      <td>[600, 600]</td>\n",
       "    </tr>\n",
       "    <tr>\n",
       "      <th>9481</th>\n",
       "      <td>0.589448</td>\n",
       "      <td>0.605619</td>\n",
       "      <td>0.053000</td>\n",
       "      <td>0.054462</td>\n",
       "      <td>0.025514</td>\n",
       "      <td>-1.000000</td>\n",
       "      <td>[600, 600]</td>\n",
       "    </tr>\n",
       "    <tr>\n",
       "      <th>9487</th>\n",
       "      <td>1.613241</td>\n",
       "      <td>10.235114</td>\n",
       "      <td>9.796485</td>\n",
       "      <td>9.848244</td>\n",
       "      <td>8.262141</td>\n",
       "      <td>9.417441</td>\n",
       "      <td>[39, 600]</td>\n",
       "    </tr>\n",
       "    <tr>\n",
       "      <th>12383</th>\n",
       "      <td>1.201412</td>\n",
       "      <td>1.689972</td>\n",
       "      <td>0.344326</td>\n",
       "      <td>0.486775</td>\n",
       "      <td>0.001619</td>\n",
       "      <td>0.483343</td>\n",
       "      <td>[571, 600]</td>\n",
       "    </tr>\n",
       "    <tr>\n",
       "      <th>14386</th>\n",
       "      <td>1.979177</td>\n",
       "      <td>2.113516</td>\n",
       "      <td>2.107894</td>\n",
       "      <td>3.735524</td>\n",
       "      <td>3.487784</td>\n",
       "      <td>-1.000000</td>\n",
       "      <td>[600, 600]</td>\n",
       "    </tr>\n",
       "    <tr>\n",
       "      <th>18841</th>\n",
       "      <td>0.830188</td>\n",
       "      <td>0.880606</td>\n",
       "      <td>0.131099</td>\n",
       "      <td>0.136366</td>\n",
       "      <td>0.000913</td>\n",
       "      <td>0.016667</td>\n",
       "      <td>[2, 599]</td>\n",
       "    </tr>\n",
       "    <tr>\n",
       "      <th>19976</th>\n",
       "      <td>1.331378</td>\n",
       "      <td>1.380580</td>\n",
       "      <td>0.176958</td>\n",
       "      <td>0.185601</td>\n",
       "      <td>0.001139</td>\n",
       "      <td>0.016667</td>\n",
       "      <td>[1, 600]</td>\n",
       "    </tr>\n",
       "    <tr>\n",
       "      <th>21369</th>\n",
       "      <td>1.560356</td>\n",
       "      <td>2.020718</td>\n",
       "      <td>0.248082</td>\n",
       "      <td>0.291684</td>\n",
       "      <td>0.063364</td>\n",
       "      <td>-1.000000</td>\n",
       "      <td>[17, 558]</td>\n",
       "    </tr>\n",
       "    <tr>\n",
       "      <th>26120</th>\n",
       "      <td>1.048903</td>\n",
       "      <td>1.102670</td>\n",
       "      <td>0.169330</td>\n",
       "      <td>0.178926</td>\n",
       "      <td>0.001350</td>\n",
       "      <td>0.016667</td>\n",
       "      <td>[2, 600]</td>\n",
       "    </tr>\n",
       "    <tr>\n",
       "      <th>26813</th>\n",
       "      <td>0.657424</td>\n",
       "      <td>0.750320</td>\n",
       "      <td>0.649911</td>\n",
       "      <td>0.677784</td>\n",
       "      <td>0.161636</td>\n",
       "      <td>-1.000000</td>\n",
       "      <td>[600, 600]</td>\n",
       "    </tr>\n",
       "    <tr>\n",
       "      <th>27244</th>\n",
       "      <td>0.923101</td>\n",
       "      <td>0.980099</td>\n",
       "      <td>0.129188</td>\n",
       "      <td>0.136725</td>\n",
       "      <td>0.000953</td>\n",
       "      <td>0.016667</td>\n",
       "      <td>[2, 600]</td>\n",
       "    </tr>\n",
       "  </tbody>\n",
       "</table>\n",
       "</div>"
      ],
      "text/plain": [
       "       cpu_real   cpu_full  gpu_real  gpu_full  webgl_time   \n",
       "1145   0.958737   1.425565  0.192862  0.311119    0.001377  \\\n",
       "1604   0.865457   1.133949  0.926193  1.075975    0.574131   \n",
       "3175   1.662112   1.839336  0.192349  0.210991    0.000728   \n",
       "8481   0.984098   1.038842  0.152714  0.163260    0.000931   \n",
       "9106   1.306788   1.637622  0.254110  0.363724    0.002124   \n",
       "9419   1.508511   1.654305  0.867174  0.883343    0.557905   \n",
       "9481   0.589448   0.605619  0.053000  0.054462    0.025514   \n",
       "9487   1.613241  10.235114  9.796485  9.848244    8.262141   \n",
       "12383  1.201412   1.689972  0.344326  0.486775    0.001619   \n",
       "14386  1.979177   2.113516  2.107894  3.735524    3.487784   \n",
       "18841  0.830188   0.880606  0.131099  0.136366    0.000913   \n",
       "19976  1.331378   1.380580  0.176958  0.185601    0.001139   \n",
       "21369  1.560356   2.020718  0.248082  0.291684    0.063364   \n",
       "26120  1.048903   1.102670  0.169330  0.178926    0.001350   \n",
       "26813  0.657424   0.750320  0.649911  0.677784    0.161636   \n",
       "27244  0.923101   0.980099  0.129188  0.136725    0.000953   \n",
       "\n",
       "       dropped_frame_duration frames_count  \n",
       "1145                 0.183337   [588, 599]  \n",
       "1604                -1.000000   [600, 600]  \n",
       "3175                -1.000000     [1, 599]  \n",
       "8481                 0.016667     [2, 600]  \n",
       "9106                 0.100002     [593, 1]  \n",
       "9419                -1.000000   [600, 600]  \n",
       "9481                -1.000000   [600, 600]  \n",
       "9487                 9.417441    [39, 600]  \n",
       "12383                0.483343   [571, 600]  \n",
       "14386               -1.000000   [600, 600]  \n",
       "18841                0.016667     [2, 599]  \n",
       "19976                0.016667     [1, 600]  \n",
       "21369               -1.000000    [17, 558]  \n",
       "26120                0.016667     [2, 600]  \n",
       "26813               -1.000000   [600, 600]  \n",
       "27244                0.016667     [2, 600]  "
      ]
     },
     "execution_count": 5,
     "metadata": {},
     "output_type": "execute_result"
    }
   ],
   "source": [
    "df_perf[df_perf['frames_count'].str.len() > 1]"
   ]
  },
  {
   "cell_type": "code",
   "execution_count": 6,
   "metadata": {},
   "outputs": [],
   "source": [
    "idx = [1145, 9487,12383]\n",
    "df_perf.loc[idx, 'frames_count'] = df_perf.loc[idx,'frames_count'].apply(lambda x: [max(600, min(x))])"
   ]
  },
  {
   "cell_type": "code",
   "execution_count": 7,
   "metadata": {},
   "outputs": [],
   "source": [
    "df_perf['FPS'] = df_perf['frames_count'].map(lambda x: min(600, max(x)) / 10)"
   ]
  },
  {
   "cell_type": "code",
   "execution_count": 8,
   "metadata": {},
   "outputs": [],
   "source": [
    "df_ab = df_ab.join(df_perf[[]], how='right', lsuffix='_ab', rsuffix='_perf').fillna(0)"
   ]
  },
  {
   "cell_type": "code",
   "execution_count": 9,
   "metadata": {},
   "outputs": [],
   "source": [
    "df_b_shaders = df_b_shaders[df_b_shaders['index_webapp'].isin(ok_index)]"
   ]
  },
  {
   "cell_type": "code",
   "execution_count": 10,
   "metadata": {},
   "outputs": [],
   "source": [
    "df_b = df_b.join(df_perf[[]], how='right', on='index_webapp', lsuffix='_b', rsuffix='_perf').fillna(0)\n",
    "df_b = df_b[df_b['index_webapp'].isin(ok_index)]"
   ]
  },
  {
   "cell_type": "code",
   "execution_count": 11,
   "metadata": {},
   "outputs": [],
   "source": [
    "df_b_offscreen = pd.DataFrame(df_b_offscreen).join(df_perf[[]], how='right', on='index_webapp', lsuffix='_b', rsuffix='_perf').fillna(0)\n",
    "df_b_offscreen = df_b_offscreen[df_b_offscreen['index_webapp'].isin(ok_index)].set_index('index_webapp')"
   ]
  },
  {
   "cell_type": "code",
   "execution_count": 12,
   "metadata": {},
   "outputs": [],
   "source": [
    "df_b_extensions = pd.DataFrame(df_b_extensions).join(df_perf[[]], how='right', on='index_webapp', lsuffix='_b', rsuffix='_perf').fillna(0)\n",
    "df_b_extensions = df_b_extensions[df_b_extensions['index_webapp'].isin(ok_index)]"
   ]
  },
  {
   "cell_type": "code",
   "execution_count": 13,
   "metadata": {},
   "outputs": [],
   "source": [
    "df_b_programs = df_b_programs[df_b_programs['index_webapp'].isin(ok_index)]"
   ]
  },
  {
   "cell_type": "code",
   "execution_count": 39,
   "metadata": {},
   "outputs": [],
   "source": [
    "def plot_cdf(arr, *args, ax, **kwargs):\n",
    "    arr = np.sort(arr)\n",
    "    y = np.arange(len(arr)) / float(len(arr))\n",
    "    if ax is None:\n",
    "        plt.plot(arr, y, *args, **kwargs)\n",
    "    else:\n",
    "        ax.plot(arr, y, *args, **kwargs)"
   ]
  },
  {
   "cell_type": "markdown",
   "metadata": {},
   "source": [
    "# Draw Calls, Vertex Count, Texture Size, Texture Count, Shader Count, Shader Length"
   ]
  },
  {
   "cell_type": "code",
   "execution_count": 35,
   "metadata": {},
   "outputs": [
    {
     "data": {
      "text/plain": [
       "1.0                                                       []\n",
       "2.0                                                       []\n",
       "3.0        [[6408, 1, 1], [6408, 1, 1], [6408, 1, 1], [64...\n",
       "4.0        [[6408, 1, 1], [6408, 1, 1], [6408, 1, 1], [64...\n",
       "5.0        [[6408, 1, 1], [6408, 1, 1], [6408, 1, 1], [64...\n",
       "                                 ...                        \n",
       "32719.0                                                   []\n",
       "32720.0                                    [[6408, 160, 20]]\n",
       "32721.0                                                   []\n",
       "32722.0    [[6407, 1, 1], [6408, 512, 512], [6408, 512, 5...\n",
       "32725.0                                       [[6408, 1, 1]]\n",
       "Name: maghsk.counter.textureFormat, Length: 12843, dtype: object"
      ]
     },
     "execution_count": 35,
     "metadata": {},
     "output_type": "execute_result"
    }
   ],
   "source": [
    "df_b['maghsk.counter.textureFormat']"
   ]
  },
  {
   "cell_type": "code",
   "execution_count": 36,
   "metadata": {},
   "outputs": [],
   "source": [
    "fps = df_perf['FPS']"
   ]
  },
  {
   "cell_type": "code",
   "execution_count": 55,
   "metadata": {},
   "outputs": [
    {
     "data": {
      "text/html": [
       "<div>\n",
       "<style scoped>\n",
       "    .dataframe tbody tr th:only-of-type {\n",
       "        vertical-align: middle;\n",
       "    }\n",
       "\n",
       "    .dataframe tbody tr th {\n",
       "        vertical-align: top;\n",
       "    }\n",
       "\n",
       "    .dataframe thead th {\n",
       "        text-align: right;\n",
       "    }\n",
       "</style>\n",
       "<table border=\"1\" class=\"dataframe\">\n",
       "  <thead>\n",
       "    <tr style=\"text-align: right;\">\n",
       "      <th></th>\n",
       "      <th>FPS</th>\n",
       "      <th>Draw Calls</th>\n",
       "      <th>Vertex Count</th>\n",
       "      <th>Texture Count</th>\n",
       "      <th>Texture Resolution</th>\n",
       "      <th>Shader Count</th>\n",
       "      <th>Shader Length</th>\n",
       "    </tr>\n",
       "  </thead>\n",
       "  <tbody>\n",
       "    <tr>\n",
       "      <th>2</th>\n",
       "      <td>60.0</td>\n",
       "      <td>2508.0</td>\n",
       "      <td>99396.0</td>\n",
       "      <td>115.0</td>\n",
       "      <td>28.0</td>\n",
       "      <td>36.0</td>\n",
       "      <td>37038.0</td>\n",
       "    </tr>\n",
       "    <tr>\n",
       "      <th>11</th>\n",
       "      <td>60.0</td>\n",
       "      <td>59400.0</td>\n",
       "      <td>568800.0</td>\n",
       "      <td>4.0</td>\n",
       "      <td>1048576.0</td>\n",
       "      <td>12.0</td>\n",
       "      <td>4901.0</td>\n",
       "    </tr>\n",
       "    <tr>\n",
       "      <th>15</th>\n",
       "      <td>29.5</td>\n",
       "      <td>39732.0</td>\n",
       "      <td>940324.0</td>\n",
       "      <td>22.0</td>\n",
       "      <td>14.0</td>\n",
       "      <td>22.0</td>\n",
       "      <td>14394.0</td>\n",
       "    </tr>\n",
       "    <tr>\n",
       "      <th>17</th>\n",
       "      <td>45.6</td>\n",
       "      <td>45269.0</td>\n",
       "      <td>12953871.0</td>\n",
       "      <td>886.0</td>\n",
       "      <td>0.0</td>\n",
       "      <td>54.0</td>\n",
       "      <td>143560.0</td>\n",
       "    </tr>\n",
       "    <tr>\n",
       "      <th>20</th>\n",
       "      <td>60.0</td>\n",
       "      <td>28896.0</td>\n",
       "      <td>6130768.0</td>\n",
       "      <td>43.0</td>\n",
       "      <td>1900544.0</td>\n",
       "      <td>100.0</td>\n",
       "      <td>150832.0</td>\n",
       "    </tr>\n",
       "    <tr>\n",
       "      <th>...</th>\n",
       "      <td>...</td>\n",
       "      <td>...</td>\n",
       "      <td>...</td>\n",
       "      <td>...</td>\n",
       "      <td>...</td>\n",
       "      <td>...</td>\n",
       "      <td>...</td>\n",
       "    </tr>\n",
       "    <tr>\n",
       "      <th>29217</th>\n",
       "      <td>60.0</td>\n",
       "      <td>7826.0</td>\n",
       "      <td>5964616.0</td>\n",
       "      <td>39.0</td>\n",
       "      <td>7.0</td>\n",
       "      <td>54.0</td>\n",
       "      <td>549818.0</td>\n",
       "    </tr>\n",
       "    <tr>\n",
       "      <th>29219</th>\n",
       "      <td>60.0</td>\n",
       "      <td>7800.0</td>\n",
       "      <td>104400.0</td>\n",
       "      <td>15.0</td>\n",
       "      <td>1.0</td>\n",
       "      <td>17.0</td>\n",
       "      <td>10366.0</td>\n",
       "    </tr>\n",
       "    <tr>\n",
       "      <th>29221</th>\n",
       "      <td>60.0</td>\n",
       "      <td>7774.0</td>\n",
       "      <td>46644.0</td>\n",
       "      <td>32.0</td>\n",
       "      <td>3200.0</td>\n",
       "      <td>6.0</td>\n",
       "      <td>1760.0</td>\n",
       "    </tr>\n",
       "    <tr>\n",
       "      <th>29224</th>\n",
       "      <td>60.0</td>\n",
       "      <td>4439.0</td>\n",
       "      <td>26514.0</td>\n",
       "      <td>74.0</td>\n",
       "      <td>1572865.0</td>\n",
       "      <td>41.0</td>\n",
       "      <td>27214.0</td>\n",
       "    </tr>\n",
       "    <tr>\n",
       "      <th>29235</th>\n",
       "      <td>60.0</td>\n",
       "      <td>0.0</td>\n",
       "      <td>0.0</td>\n",
       "      <td>54.0</td>\n",
       "      <td>1.0</td>\n",
       "      <td>16.0</td>\n",
       "      <td>127071.0</td>\n",
       "    </tr>\n",
       "  </tbody>\n",
       "</table>\n",
       "<p>6042 rows × 7 columns</p>\n",
       "</div>"
      ],
      "text/plain": [
       "        FPS  Draw Calls  Vertex Count  Texture Count  Texture Resolution   \n",
       "2      60.0      2508.0       99396.0          115.0                28.0  \\\n",
       "11     60.0     59400.0      568800.0            4.0           1048576.0   \n",
       "15     29.5     39732.0      940324.0           22.0                14.0   \n",
       "17     45.6     45269.0    12953871.0          886.0                 0.0   \n",
       "20     60.0     28896.0     6130768.0           43.0           1900544.0   \n",
       "...     ...         ...           ...            ...                 ...   \n",
       "29217  60.0      7826.0     5964616.0           39.0                 7.0   \n",
       "29219  60.0      7800.0      104400.0           15.0                 1.0   \n",
       "29221  60.0      7774.0       46644.0           32.0              3200.0   \n",
       "29224  60.0      4439.0       26514.0           74.0           1572865.0   \n",
       "29235  60.0         0.0           0.0           54.0                 1.0   \n",
       "\n",
       "       Shader Count  Shader Length  \n",
       "2              36.0        37038.0  \n",
       "11             12.0         4901.0  \n",
       "15             22.0        14394.0  \n",
       "17             54.0       143560.0  \n",
       "20            100.0       150832.0  \n",
       "...             ...            ...  \n",
       "29217          54.0       549818.0  \n",
       "29219          17.0        10366.0  \n",
       "29221           6.0         1760.0  \n",
       "29224          41.0        27214.0  \n",
       "29235          16.0       127071.0  \n",
       "\n",
       "[6042 rows x 7 columns]"
      ]
     },
     "execution_count": 55,
     "metadata": {},
     "output_type": "execute_result"
    }
   ],
   "source": [
    "draw_calls = df_ab[['maghsk.counter.funcCount.drawArrays', 'maghsk.counter.funcCount.drawElements', 'maghsk.counter.funcCount.drawArraysInstanced', 'maghsk.counter.funcCount.drawElementsInstanced']].sum(axis=1)\n",
    "vertex_count = df_ab['maghsk.counter.vertexCount']\n",
    "texture_count = df_ab['maghsk.counter.resources.Texture']\n",
    "shader_count = df_ab['maghsk.counter.resources.Shader']\n",
    "texture_size = df_ab['textureSize']\n",
    "shader_length = df_b_shaders.groupby('index_webapp')['source'].apply(lambda x: sum(len(y) for y in x))\n",
    "dfs = [fps, draw_calls, vertex_count, texture_count, texture_size, shader_count, shader_length]\n",
    "df_plot = pd.concat(dfs, axis=1, keys=['FPS', 'Draw Calls', 'Vertex Count', 'Texture Count', 'Texture Resolution', 'Shader Count', 'Shader Length (KB)'])\n",
    "df_plot"
   ]
  },
  {
   "cell_type": "code",
   "execution_count": 95,
   "metadata": {},
   "outputs": [
    {
     "data": {
      "image/png": "[encoded data removed]",
      "text/plain": [
       "<Figure size 1368x216 with 6 Axes>"
      ]
     },
     "metadata": {
      "needs_background": "light"
     },
     "output_type": "display_data"
    }
   ],
   "source": [
    "fig, ax = plt.subplots(nrows=1, ncols=6, figsize=(19, 3), sharey=True)\n",
    "for i, col in enumerate(df_plot.columns[1:]):\n",
    "    plot_cdf(df_plot.loc[(df_plot.FPS>40), col], 'o-', ax=ax[i], markersize=2, color='tab:green')\n",
    "    plot_cdf(df_plot.loc[(df_plot.FPS>20) & (df_plot.FPS<=40), col], 's-', ax=ax[i], markersize=2, color='tab:blue')\n",
    "    plot_cdf(df_plot.loc[(df_plot.FPS<=20), col], '^-', ax=ax[i], markersize=2, color='tab:red')\n",
    "    ax[i].set_title(col, fontsize=14)\n",
    "    ax[i].set_xscale('log')\n",
    "    # grid on\n",
    "    ax[i].grid()\n",
    "    ax[i].set_axisbelow(True)\n",
    "    # ax[i].set_ylabel('Fraction of Web Apps', fontsize=13)\n",
    "plt.tight_layout()\n",
    "ax[0].set_ylabel('Fraction of Web Apps', fontsize=13)\n",
    "# ax[-1].set_xlabel('Bytes', fontsize=13)\n",
    "ax[0].legend(['40-60FPS', '20-40FPS', '0-20FPS'], loc='lower center', bbox_to_anchor=(3, -0.4), ncol=3, fontsize=13)\n",
    "plt.savefig('output/fig/complexity_cdf.pdf', bbox_inches='tight')"
   ]
  },
  {
   "cell_type": "markdown",
   "metadata": {},
   "source": [
    "-----"
   ]
  },
  {
   "cell_type": "markdown",
   "metadata": {},
   "source": [
    "# process"
   ]
  },
  {
   "cell_type": "code",
   "execution_count": 51,
   "metadata": {},
   "outputs": [
    {
     "data": {
      "text/plain": [
       "maghsk.createArguments.0\n",
       "webgl                 9421\n",
       "webgl2                3792\n",
       "experimental-webgl     335\n",
       "0                      122\n",
       "Name: count, dtype: int64"
      ]
     },
     "execution_count": 51,
     "metadata": {},
     "output_type": "execute_result"
    }
   ],
   "source": [
    "df_b['maghsk.createArguments.0'].value_counts()"
   ]
  },
  {
   "cell_type": "code",
   "execution_count": 66,
   "metadata": {},
   "outputs": [],
   "source": [
    "import hashlib"
   ]
  },
  {
   "cell_type": "code",
   "execution_count": 67,
   "metadata": {},
   "outputs": [],
   "source": [
    "tmp = (df_b_programs['vertexShaderSouceTranslated'] + df_b_programs['fragmentShaderSouceTranslated'])\n",
    "df_b_programs['hash'] = tmp.apply(lambda x: hashlib.sha256(x.encode('utf-8')).hexdigest())"
   ]
  },
  {
   "cell_type": "code",
   "execution_count": 86,
   "metadata": {},
   "outputs": [
    {
     "data": {
      "image/png": "[encoded data removed]",
      "text/plain": [
       "<Figure size 864x288 with 2 Axes>"
      ]
     },
     "metadata": {
      "needs_background": "light"
     },
     "output_type": "display_data"
    }
   ],
   "source": [
    "t = df_b_programs.groupby('index_webapp')['hash']\n",
    "tt1 = t.count() - t.nunique()\n",
    "tt2 = t.nunique() / t.count()\n",
    "plt.figure(figsize=(12, 4))\n",
    "plt.subplot(121)\n",
    "tt1.plot.hist(bins=100, title='Number of duplicated programs', logy=True)\n",
    "plt.subplot(122)\n",
    "tt2.plot.hist(bins=100, title='Fraction of unique programs', logy=True)\n",
    "plt.savefig('output/fig/2_programs.png', dpi=300, bbox_inches='tight')"
   ]
  },
  {
   "cell_type": "code",
   "execution_count": 85,
   "metadata": {},
   "outputs": [
    {
     "data": {
      "text/plain": [
       "(17330, 45600)"
      ]
     },
     "execution_count": 85,
     "metadata": {},
     "output_type": "execute_result"
    }
   ],
   "source": [
    "df_b_programs['hash'].nunique(), df_b_programs['hash'].count()"
   ]
  },
  {
   "cell_type": "code",
   "execution_count": 9,
   "metadata": {},
   "outputs": [
    {
     "data": {
      "image/png": "[encoded data removed]",
      "text/plain": [
       "<Figure size 432x288 with 1 Axes>"
      ]
     },
     "metadata": {
      "needs_background": "light"
     },
     "output_type": "display_data"
    }
   ],
   "source": [
    "df_b_shaders.source.map(lambda x: len(x)).plot(kind='hist', bins=100, logy=True, title='Length of shaders per app', alpha=0.5)\n",
    "df_b_shaders.translatedSource.map(lambda x: len(x)).plot(kind='hist', bins=100, logy=True, title='Length of shaders per app', color='orange', alpha=0.5)\n",
    "plt.legend(['shaders', 'translated-shaders'])\n",
    "plt.savefig('output/fig/2_shaders_length.png', dpi=300)"
   ]
  },
  {
   "cell_type": "code",
   "execution_count": 10,
   "metadata": {},
   "outputs": [
    {
     "data": {
      "text/plain": [
       "(90424, 23059)"
      ]
     },
     "execution_count": 10,
     "metadata": {},
     "output_type": "execute_result"
    }
   ],
   "source": [
    "df_b_shaders.translatedSource.count(), df_b_shaders.translatedSource.nunique()"
   ]
  },
  {
   "cell_type": "code",
   "execution_count": 17,
   "metadata": {},
   "outputs": [
    {
     "data": {
      "image/png": "[encoded data removed]",
      "text/plain": [
       "<Figure size 432x288 with 1 Axes>"
      ]
     },
     "metadata": {
      "needs_background": "light"
     },
     "output_type": "display_data"
    }
   ],
   "source": [
    "df_ab['maghsk.counter.vertexCount'].plot(kind='hist', bins=100, logy=True, title='Number of vertices per app')\n",
    "plt.savefig('output/fig/2_vertices.png', dpi=300)"
   ]
  },
  {
   "cell_type": "code",
   "execution_count": 14,
   "metadata": {},
   "outputs": [],
   "source": [
    "df_ab['maghsk.counter.primitiveCount'] = df_ab['maghsk.counter.primitiveCount.0'] + (df_ab['maghsk.counter.primitiveCount.1'] + df_ab['maghsk.counter.primitiveCount.2'] + df_ab['maghsk.counter.primitiveCount.3']) / 2 + (df_ab['maghsk.counter.primitiveCount.4'] + df_ab['maghsk.counter.primitiveCount.5'] + df_ab['maghsk.counter.primitiveCount.6']) / 3"
   ]
  },
  {
   "cell_type": "code",
   "execution_count": 15,
   "metadata": {},
   "outputs": [
    {
     "data": {
      "text/plain": [
       "<Axes: title={'center': 'Number of primitives per app'}, ylabel='Frequency'>"
      ]
     },
     "execution_count": 15,
     "metadata": {},
     "output_type": "execute_result"
    },
    {
     "data": {
      "image/png": "[encoded data removed]",
      "text/plain": [
       "<Figure size 432x288 with 1 Axes>"
      ]
     },
     "metadata": {
      "needs_background": "light"
     },
     "output_type": "display_data"
    }
   ],
   "source": [
    "df_ab['maghsk.counter.primitiveCount'].plot(kind='hist', bins=100, logy=True, title='Number of primitives per app')"
   ]
  },
  {
   "cell_type": "code",
   "execution_count": 21,
   "metadata": {},
   "outputs": [
    {
     "data": {
      "image/png": "[encoded data removed]",
      "text/plain": [
       "<Figure size 432x288 with 1 Axes>"
      ]
     },
     "metadata": {
      "needs_background": "light"
     },
     "output_type": "display_data"
    }
   ],
   "source": [
    "df_ab['textureSize'].plot(kind='hist', bins=100, logy=True, title='Texture size per app')\n",
    "plt.savefig('output/fig/2_texture_size.png', dpi=300)"
   ]
  },
  {
   "cell_type": "code",
   "execution_count": 23,
   "metadata": {},
   "outputs": [
    {
     "data": {
      "image/png": "[encoded data removed]",
      "text/plain": [
       "<Figure size 432x288 with 1 Axes>"
      ]
     },
     "metadata": {
      "needs_background": "light"
     },
     "output_type": "display_data"
    }
   ],
   "source": [
    "df_ab['canvasSize'].plot(kind='hist', bins=100, logy=True, title='Canvas size per app')\n",
    "plt.savefig('output/fig/2_canvas_size.png', dpi=300)"
   ]
  },
  {
   "cell_type": "code",
   "execution_count": 14,
   "metadata": {},
   "outputs": [
    {
     "data": {
      "image/png": "[encoded data removed]",
      "text/plain": [
       "<Figure size 432x288 with 1 Axes>"
      ]
     },
     "metadata": {
      "needs_background": "light"
     },
     "output_type": "display_data"
    }
   ],
   "source": [
    "df_ab[['maghsk.counter.funcCount.drawArrays', 'maghsk.counter.funcCount.drawArraysInstanced', 'maghsk.counter.funcCount.drawElements', 'maghsk.counter.funcCount.drawElementsInstanced']].sum(axis=1).plot(kind='hist', bins=100, logy=True, title='Number of draw calls per app')\n",
    "plt.savefig('output/fig/2_draw_calls.png', dpi=300)"
   ]
  },
  {
   "cell_type": "code",
   "execution_count": 29,
   "metadata": {},
   "outputs": [
    {
     "data": {
      "text/plain": [
       "counter.usedOffScreenCanvas\n",
       "[]                     3939\n",
       "[2d]                   2458\n",
       "[webgl2]                  5\n",
       "[webgl, webgl2]           2\n",
       "[webgl]                   1\n",
       "[2d, webgl, webgl2]       1\n",
       "Name: count, dtype: int64"
      ]
     },
     "execution_count": 29,
     "metadata": {},
     "output_type": "execute_result"
    }
   ],
   "source": [
    "df_b_offscreen['counter.usedOffScreenCanvas'].map(lambda x: [] if x == 0 else sorted(x)).value_counts()"
   ]
  },
  {
   "cell_type": "markdown",
   "metadata": {},
   "source": [
    "# performance"
   ]
  },
  {
   "cell_type": "code",
   "execution_count": 40,
   "metadata": {},
   "outputs": [],
   "source": [
    "df_perf = df_perf[df_perf['frames_count'] < 700]"
   ]
  },
  {
   "cell_type": "code",
   "execution_count": 48,
   "metadata": {},
   "outputs": [
    {
     "data": {
      "image/png": "[encoded data removed]",
      "text/plain": [
       "<Figure size 432x288 with 1 Axes>"
      ]
     },
     "metadata": {
      "needs_background": "light"
     },
     "output_type": "display_data"
    }
   ],
   "source": [
    "df_perf['frames_count'].plot(kind='hist', bins=100, logy=False, title='Number of frames per app')\n",
    "plt.savefig('output/fig/2_frames.png', dpi=300)"
   ]
  },
  {
   "cell_type": "code",
   "execution_count": 49,
   "metadata": {},
   "outputs": [
    {
     "data": {
      "image/png": "[encoded data removed]",
      "text/plain": [
       "<Figure size 432x288 with 1 Axes>"
      ]
     },
     "metadata": {
      "needs_background": "light"
     },
     "output_type": "display_data"
    }
   ],
   "source": [
    "df_perf['cpu_full'].plot(kind='hist', bins=100, logy=False, title='Number of frames per app')\n",
    "plt.savefig('output/fig/2_cpu.png', dpi=300)"
   ]
  },
  {
   "cell_type": "code",
   "execution_count": 50,
   "metadata": {},
   "outputs": [
    {
     "data": {
      "image/png": "[encoded data removed]",
      "text/plain": [
       "<Figure size 432x288 with 1 Axes>"
      ]
     },
     "metadata": {
      "needs_background": "light"
     },
     "output_type": "display_data"
    }
   ],
   "source": [
    "df_perf['gpu_full'].plot(kind='hist', bins=100, logy=False, title='Number of frames per app')\n",
    "plt.savefig('output/fig/2_gpu.png', dpi=300)"
   ]
  },
  {
   "cell_type": "code",
   "execution_count": null,
   "metadata": {},
   "outputs": [],
   "source": []
  }
 ],
 "metadata": {
  "kernelspec": {
   "display_name": "Python 3",
   "language": "python",
   "name": "python3"
  },
  "language_info": {
   "codemirror_mode": {
    "name": "ipython",
    "version": 3
   },
   "file_extension": ".py",
   "mimetype": "text/x-python",
   "name": "python",
   "nbconvert_exporter": "python",
   "pygments_lexer": "ipython3",
   "version": "3.10.12"
  },
  "orig_nbformat": 4
 },
 "nbformat": 4,
 "nbformat_minor": 2
}
