{
 "cells": [
  {
   "cell_type": "code",
   "execution_count": 1,
   "metadata": {},
   "outputs": [],
   "source": [
    "import pandas as pd"
   ]
  },
  {
   "cell_type": "code",
   "execution_count": 16,
   "metadata": {},
   "outputs": [],
   "source": [
    "df_ab = pd.read_pickle('./output/1_df_raf_final-win-0924.pkl.zstd', compression='zstd')\n",
    "\n",
    "df_b = pd.read_pickle('output/1_df_b_rafs_new-win-0924.pkl.zstd', compression='zstd')\n",
    "df_b_shaders = pd.read_pickle('./output/1_df_b_shaders-win-0924.pkl.zstd', compression='zstd')\n",
    "df_b_offscreen = pd.read_pickle('./output/1_df_raf_offscreen-win-0924.pkl.zstd', compression='zstd')\n",
    "df_b_extensions = pd.read_pickle('./output/1_df_raf_extensions-win-0924.pkl.zstd', compression='zstd')"
   ]
  },
  {
   "cell_type": "code",
   "execution_count": 18,
   "metadata": {},
   "outputs": [
    {
     "data": {
      "text/plain": [
       "26169"
      ]
     },
     "execution_count": 18,
     "metadata": {},
     "output_type": "execute_result"
    }
   ],
   "source": [
    "df_b_shaders.translatedSource.nunique()"
   ]
  },
  {
   "cell_type": "code",
   "execution_count": 19,
   "metadata": {},
   "outputs": [
    {
     "data": {
      "text/plain": [
       "37926"
      ]
     },
     "execution_count": 19,
     "metadata": {},
     "output_type": "execute_result"
    }
   ],
   "source": [
    "df_b_shaders.source.nunique()\n"
   ]
  }
 ],
 "metadata": {
  "kernelspec": {
   "display_name": "Python 3",
   "language": "python",
   "name": "python3"
  },
  "language_info": {
   "codemirror_mode": {
    "name": "ipython",
    "version": 3
   },
   "file_extension": ".py",
   "mimetype": "text/x-python",
   "name": "python",
   "nbconvert_exporter": "python",
   "pygments_lexer": "ipython3",
   "version": "3.10.12"
  },
  "orig_nbformat": 4
 },
 "nbformat": 4,
 "nbformat_minor": 2
}
