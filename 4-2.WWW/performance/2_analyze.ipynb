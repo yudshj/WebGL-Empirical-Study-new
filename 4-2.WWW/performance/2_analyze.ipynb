{
 "cells": [
  {
   "cell_type": "code",
   "execution_count": 1,
   "metadata": {},
   "outputs": [],
   "source": [
    "import pandas as pd\n",
    "import pickle\n",
    "import seaborn as sns\n",
    "from sklearn.cluster import KMeans #聚类模块\n",
    "from sklearn.preprocessing import StandardScaler\n",
    "from sklearn.metrics import silhouette_score\n",
    "import matplotlib.pyplot as plt\n",
    "import numpy as np"
   ]
  },
  {
   "cell_type": "code",
   "execution_count": 16,
   "metadata": {},
   "outputs": [],
   "source": [
    "infos = [\n",
    "    {\n",
    "        'name': chr(9311 + 1),\n",
    "        \"OS\": 'win-15s',\n",
    "        \"idx\": [9487,12077,12381]\n",
    "    },\n",
    "    {\n",
    "        'name': chr(9311 + 2),\n",
    "        \"OS\": 'mac-15s',\n",
    "        \"idx\": [9487, 12383, 1145]\n",
    "    },\n",
    "    # {\n",
    "    #     'name': chr(9311 + 3),\n",
    "    #     \"OS\": 'mac-15s',\n",
    "    #     \"idx\": [9487, 12383, 1145]\n",
    "    # }\n",
    "]"
   ]
  },
  {
   "cell_type": "code",
   "execution_count": 17,
   "metadata": {},
   "outputs": [
    {
     "name": "stdout",
     "output_type": "stream",
     "text": [
      "      status  cpu_real  cpu_full  gpu_real  gpu_full  webgl_time   \n",
      "1604      Ok  0.576317  0.861717  0.576562  0.689951    0.255781  \\\n",
      "3280      Ok  2.212492  2.356115  0.365792  0.385714    0.125522   \n",
      "5272      Ok  2.418309  2.687784  3.280816  3.486913    1.895647   \n",
      "5606      Ok  0.370656  0.577769  0.327018  0.455900    0.180585   \n",
      "8481      Ok  0.751085  0.821201  0.071700  0.076889    0.000708   \n",
      "9106      Ok  0.727628  0.804687  0.070498  0.074335    0.000781   \n",
      "9419      Ok  0.779707  0.978167  0.392318  1.521384    1.380418   \n",
      "9481      Ok  0.274990  0.324616  0.011635  0.012369    0.007948   \n",
      "9487      Ok  1.223590  9.967346  9.762705  9.987876    9.742641   \n",
      "10024     Ok  0.546701  0.694539  0.545221  0.600178    0.059421   \n",
      "12077     Ok  0.880988  0.941275  0.043501  0.056589    0.002641   \n",
      "12381     Ok  1.176711  1.567105  0.158312  0.436657    0.003014   \n",
      "14386     Ok  1.739991  1.919689  0.719199  0.803291    0.614700   \n",
      "18841     Ok  0.792420  0.856602  0.073465  0.084506    0.000611   \n",
      "19976     Ok  1.294604  1.727964  0.198223  0.478260    0.002697   \n",
      "21369     Ok  1.425715  1.982992  0.223818  0.486079    0.034678   \n",
      "26120     Ok  0.564995  0.617398  0.068822  0.072188    0.000247   \n",
      "26813     Ok  0.554919  0.715889  0.251983  0.265451    0.053670   \n",
      "27191     Ok  3.934985  4.107534  0.036726  0.038549    0.025180   \n",
      "27244     Ok  1.019592  1.072920  0.083793  0.085951    0.000140   \n",
      "\n",
      "       dropped_frame_duration frames_count  mem_mean_browser   \n",
      "1604                -1.000000   [600, 600]               0.0  \\\n",
      "3280                -1.000000    [39, 600]               0.0   \n",
      "5272                 0.033332   [600, 600]               0.0   \n",
      "5606                -1.000000     [1, 597]               0.0   \n",
      "8481                -1.000000     [2, 600]               0.0   \n",
      "9106                -1.000000     [2, 599]               0.0   \n",
      "9419                -1.000000   [600, 600]               0.0   \n",
      "9481                -1.000000   [600, 600]               0.0   \n",
      "9487                 8.649654    [84, 600]               0.0   \n",
      "10024               -1.000000    [600, 51]               0.0   \n",
      "12077                0.016666   [582, 600]               0.0   \n",
      "12381                0.699972   [557, 584]               0.0   \n",
      "14386               -1.000000   [600, 600]               0.0   \n",
      "18841               -1.000000     [2, 600]               0.0   \n",
      "19976                0.316654     [1, 581]               0.0   \n",
      "21369               -1.000000    [15, 561]               0.0   \n",
      "26120               -1.000000     [1, 599]               0.0   \n",
      "26813               -1.000000   [600, 600]               0.0   \n",
      "27191               -1.000000   [600, 600]               0.0   \n",
      "27244               -1.000000     [2, 600]               0.0   \n",
      "\n",
      "       mem_mean_gpu_process  mem_mean_renderer  mem_mean_other mem_detail  \n",
      "1604                    0.0                0.0             0.0         {}  \n",
      "3280                    0.0                0.0             0.0         {}  \n",
      "5272                    0.0                0.0             0.0         {}  \n",
      "5606                    0.0                0.0             0.0         {}  \n",
      "8481                    0.0                0.0             0.0         {}  \n",
      "9106                    0.0                0.0             0.0         {}  \n",
      "9419                    0.0                0.0             0.0         {}  \n",
      "9481                    0.0                0.0             0.0         {}  \n",
      "9487                    0.0                0.0             0.0         {}  \n",
      "10024                   0.0                0.0             0.0         {}  \n",
      "12077                   0.0                0.0             0.0         {}  \n",
      "12381                   0.0                0.0             0.0         {}  \n",
      "14386                   0.0                0.0             0.0         {}  \n",
      "18841                   0.0                0.0             0.0         {}  \n",
      "19976                   0.0                0.0             0.0         {}  \n",
      "21369                   0.0                0.0             0.0         {}  \n",
      "26120                   0.0                0.0             0.0         {}  \n",
      "26813                   0.0                0.0             0.0         {}  \n",
      "27191                   0.0                0.0             0.0         {}  \n",
      "27244                   0.0                0.0             0.0         {}  \n",
      "      status  cpu_real   cpu_full  gpu_real  gpu_full  webgl_time   \n",
      "1145      Ok  0.958737   1.425565  0.192862  0.311119    0.001377  \\\n",
      "1604      Ok  0.865457   1.133949  0.926193  1.075975    0.574131   \n",
      "3175      Ok  1.662112   1.839336  0.192349  0.210991    0.000728   \n",
      "8481      Ok  0.984098   1.038842  0.152714  0.163260    0.000931   \n",
      "9106      Ok  1.306788   1.637622  0.254110  0.363724    0.002124   \n",
      "9419      Ok  1.508511   1.654305  0.867174  0.883343    0.557905   \n",
      "9481      Ok  0.589448   0.605619  0.053000  0.054462    0.025514   \n",
      "9487      Ok  1.613241  10.235114  9.796485  9.848244    8.262141   \n",
      "12383     Ok  1.201412   1.689972  0.344326  0.486775    0.001619   \n",
      "14386     Ok  1.979177   2.113516  2.107894  3.735524    3.487784   \n",
      "18841     Ok  0.830188   0.880606  0.131099  0.136366    0.000913   \n",
      "19976     Ok  1.331378   1.380580  0.176958  0.185601    0.001139   \n",
      "21369     Ok  1.560356   2.020718  0.248082  0.291684    0.063364   \n",
      "26120     Ok  1.048903   1.102670  0.169330  0.178926    0.001350   \n",
      "26813     Ok  0.657424   0.750320  0.649911  0.677784    0.161636   \n",
      "27244     Ok  0.923101   0.980099  0.129188  0.136725    0.000953   \n",
      "\n",
      "       dropped_frame_duration frames_count  \n",
      "1145                 0.183337   [588, 599]  \n",
      "1604                -1.000000   [600, 600]  \n",
      "3175                -1.000000     [1, 599]  \n",
      "8481                 0.016667     [2, 600]  \n",
      "9106                 0.100002     [593, 1]  \n",
      "9419                -1.000000   [600, 600]  \n",
      "9481                -1.000000   [600, 600]  \n",
      "9487                 9.417441    [39, 600]  \n",
      "12383                0.483343   [571, 600]  \n",
      "14386               -1.000000   [600, 600]  \n",
      "18841                0.016667     [2, 599]  \n",
      "19976                0.016667     [1, 600]  \n",
      "21369               -1.000000    [17, 558]  \n",
      "26120                0.016667     [2, 600]  \n",
      "26813               -1.000000   [600, 600]  \n",
      "27244                0.016667     [2, 600]  \n"
     ]
    }
   ],
   "source": [
    "dfs = []\n",
    "for x in infos:\n",
    "    OS = x['OS']\n",
    "    idx = x['idx']\n",
    "    df = pd.read_pickle(f'./output/df_performance-{OS}-0924.pkl.zstd', compression='zstd')\n",
    "    df_webgl = df[~df.webgl_time.isna()].copy()\n",
    "    print(df_webgl[df_webgl['frames_count'].apply(lambda x: len(x)) == 2])\n",
    "    df_webgl.loc[idx, 'frames_count'] = df_webgl.loc[idx]['frames_count'].map(lambda x: [min(x)])\n",
    "    df_webgl.frames_count = df_webgl.frames_count.apply(lambda x: min(600, max(x)))\n",
    "    dfs.append(df_webgl)"
   ]
  },
  {
   "cell_type": "code",
   "execution_count": 18,
   "metadata": {},
   "outputs": [],
   "source": [
    "def plot_cdf(arr, *args, ax, **kwargs):\n",
    "    arr = np.sort(arr)\n",
    "    y = np.arange(len(arr)) / float(len(arr))\n",
    "    if ax is None:\n",
    "        plt.plot(arr, y, *args, **kwargs)\n",
    "    else:\n",
    "        ax.plot(arr, y, *args, **kwargs)"
   ]
  },
  {
   "cell_type": "code",
   "execution_count": 19,
   "metadata": {},
   "outputs": [
    {
     "data": {
      "text/plain": [
       "Text(0, 0.5, 'CDF')"
      ]
     },
     "execution_count": 19,
     "metadata": {},
     "output_type": "execute_result"
    },
    {
     "data": {
      "image/png": "[encoded data removed]",
      "text/plain": [
       "<Figure size 432x288 with 1 Axes>"
      ]
     },
     "metadata": {
      "needs_background": "light"
     },
     "output_type": "display_data"
    }
   ],
   "source": [
    "# cdf plot (line)\n",
    "plt.xscale('log')\n",
    "plot_cdf(dfs[0].webgl_time, '.-')\n",
    "plot_cdf(dfs[1].webgl_time, '.-')\n",
    "plt.legend([x['name'] for x in infos])\n",
    "plt.xlabel('WebGL Time (s)')\n",
    "plt.ylabel('CDF')"
   ]
  },
  {
   "cell_type": "code",
   "execution_count": 20,
   "metadata": {},
   "outputs": [
    {
     "data": {
      "text/plain": [
       "Text(0, 0.5, 'CDF')"
      ]
     },
     "execution_count": 20,
     "metadata": {},
     "output_type": "execute_result"
    },
    {
     "data": {
      "image/png": "[encoded data removed]",
      "text/plain": [
       "<Figure size 432x288 with 1 Axes>"
      ]
     },
     "metadata": {
      "needs_background": "light"
     },
     "output_type": "display_data"
    }
   ],
   "source": [
    "# cdf plot (line)\n",
    "plt.xscale('log')\n",
    "plot_cdf(dfs[0].frames_count / 600, '.-')\n",
    "plot_cdf(dfs[1].frames_count / 600, '.-')\n",
    "plt.legend([x['name'] for x in infos])\n",
    "plt.xlabel('FPS')\n",
    "plt.ylabel('CDF')"
   ]
  },
  {
   "cell_type": "markdown",
   "metadata": {},
   "source": [
    "# Clustering"
   ]
  },
  {
   "cell_type": "code",
   "execution_count": 46,
   "metadata": {},
   "outputs": [
    {
     "data": {
      "image/png": "[encoded data removed]",
      "text/plain": [
       "<Figure size 1296x216 with 5 Axes>"
      ]
     },
     "metadata": {
      "needs_background": "light"
     },
     "output_type": "display_data"
    }
   ],
   "source": [
    "tmp_infos = infos + infos + [infos[0]]\n",
    "tmp_dfs = dfs + dfs + [dfs[0]]\n",
    "ax, fig = plt.subplots(1, len(tmp_infos), figsize=(18, 3))\n",
    "for i, (info, df) in enumerate(zip(tmp_infos, tmp_dfs)):\n",
    "    tmp_0_20 = (df['frames_count'] <= 200)\n",
    "    tmp_20_40 = (df['frames_count'] > 200) & (df['frames_count'] <= 400)\n",
    "    tmp_40_60 = (df['frames_count'] > 400)\n",
    "\n",
    "    fig[i].scatter(x=df.loc[tmp_40_60, 'gpu_real'] / 10, y=df.loc[tmp_40_60, 'cpu_real'] / 10, s=4, marker='o', c='tab:green')\n",
    "    fig[i].scatter(x=df.loc[tmp_20_40, 'gpu_real'] / 10, y=df.loc[tmp_20_40, 'cpu_real'] / 10, s=4, marker='s', c='tab:blue')\n",
    "    fig[i].scatter(x=df.loc[tmp_0_20, 'gpu_real'] / 10, y=df.loc[tmp_0_20, 'cpu_real'] / 10, s=4, marker='^', c='tab:red')\n",
    "    fig[i].set_xlim(0, 1)\n",
    "    fig[i].set_ylim(0, 1)\n",
    "    fig[i].set_title(info['name'], fontsize=14)\n",
    "    fig[i].set_xlabel('GPU Utilization (%)', fontsize=13)\n",
    "    fig[i].set_ylabel('CPU Utilization (%)', fontsize=13)\n",
    "plt.tight_layout()\n",
    "fig[0].legend(['40-60 FPS', '20-40 FPS', '0-20 FPS'], loc='lower center', bbox_to_anchor=(3.1, -0.5), ncol=3, fontsize=13)\n",
    "plt.savefig(f'./output/figures/performance_distribution.pdf', bbox_inches='tight')"
   ]
  },
  {
   "cell_type": "markdown",
   "metadata": {},
   "source": [
    "# 在性能不好的sample上做聚类 1"
   ]
  },
  {
   "cell_type": "code",
   "execution_count": 91,
   "metadata": {},
   "outputs": [],
   "source": [
    "df_webgl_array = df_webgl_array_[[\n",
    "    'frames_count',\n",
    "    'js_real',\n",
    "    # 'gpu_real',\n",
    "    'webgl_time',\n",
    "    # 'mem_mean_renderer',\n",
    "    # 'mem_mean_gpu_process'\n",
    "]]"
   ]
  },
  {
   "cell_type": "code",
   "execution_count": 65,
   "metadata": {},
   "outputs": [
    {
     "data": {
      "text/plain": [
       "<Axes: >"
      ]
     },
     "execution_count": 65,
     "metadata": {},
     "output_type": "execute_result"
    },
    {
     "data": {
      "image/png": "[encoded data removed]",
      "text/plain": [
       "<Figure size 360x288 with 2 Axes>"
      ]
     },
     "metadata": {
      "needs_background": "light"
     },
     "output_type": "display_data"
    }
   ],
   "source": [
    "heatmap = df_webgl_array.corr()\n",
    "plt.figure(figsize=(5,4))\n",
    "sns.heatmap(heatmap, vmin=-1, vmax=1, square=False, annot=True, cbar=True, fmt='.2f', cmap='crest')"
   ]
  },
  {
   "cell_type": "code",
   "execution_count": 66,
   "metadata": {},
   "outputs": [
    {
     "data": {
      "image/png": "[encoded data removed]",
      "text/plain": [
       "<Figure size 1152x432 with 2 Axes>"
      ]
     },
     "metadata": {
      "needs_background": "light"
     },
     "output_type": "display_data"
    }
   ],
   "source": [
    "std = df_webgl_array.std(axis=0)\n",
    "mean = df_webgl_array.mean(axis=0)\n",
    "# std[0] = 480\n",
    "# std[1:5] = 10\n",
    "# mean[0:5] = 0\n",
    "df_scaled = (df_webgl_array - mean) / std\n",
    "df_scaled.fillna(0, inplace=True)\n",
    "\n",
    "# df_scaled['frames_count'] = 0\n",
    "\n",
    "SSE = []\n",
    "SCORE = []\n",
    "RANGE = range(2, 10)\n",
    "for clusters in RANGE:\n",
    "    km = KMeans(n_clusters=clusters, n_init='auto', random_state=42, max_iter=1000).fit(df_scaled)\n",
    "    SSE.append(km.inertia_)\n",
    "    score = silhouette_score(df_scaled, km.labels_, random_state=42)\n",
    "    SCORE.append(score)\n",
    "SSE = np.array(SSE)\n",
    "SCORE = np.array(SCORE)\n",
    "\n",
    "plt.figure(figsize=(16, 6))\n",
    "plt.subplot(1, 2, 1)\n",
    "plt.plot(RANGE, SSE, 'o-')\n",
    "plt.xlabel('k')\n",
    "plt.ylabel('SSE')\n",
    "plt.xticks(np.arange(min(RANGE), max(RANGE)+1, 1.0))\n",
    "plt.grid(True)\n",
    "plt.title('SSE vs k')\n",
    "plt.subplot(1, 2, 2)\n",
    "plt.plot(RANGE, SCORE, 'o-')\n",
    "plt.xlabel('k')\n",
    "plt.ylabel('SCORE')\n",
    "plt.xticks(np.arange(min(RANGE), max(RANGE)+1, 1.0))\n",
    "plt.grid(True)\n",
    "plt.title('SCORE vs k')\n",
    "plt.savefig('./output/figures/SSE_and_silhouette.png', bbox_inches='tight', dpi=300)"
   ]
  },
  {
   "cell_type": "code",
   "execution_count": 69,
   "metadata": {},
   "outputs": [
    {
     "data": {
      "image/png": "[encoded data removed]",
      "text/plain": [
       "<Figure size 720x576 with 1 Axes>"
      ]
     },
     "metadata": {
      "needs_background": "light"
     },
     "output_type": "display_data"
    }
   ],
   "source": [
    "N = 3\n",
    "km = KMeans(n_clusters=N, n_init='auto', random_state=42, max_iter=1000).fit(df_scaled)\n",
    "center = km.cluster_centers_\n",
    "center_min = center.min(axis=0)\n",
    "center_max = center.max(axis=0)\n",
    "center_01 = (center - center_min) / (center_max - center_min)\n",
    "real_center = (center * std.values) + mean.values\n",
    "# center_01[:, 0] = real_center[:, 0] / 480\n",
    "# center_01[:, 1:4] = real_center[:, 1:4] / 8\n",
    "# real_center_0_1 = (center - center.min(axis=0)) / (center.max(axis=0) - center.min(axis=0)) \n",
    "labels = km.labels_\n",
    "num = pd.Series(labels).value_counts().sort_index().astype(str)\n",
    "r = pd.concat([num, pd.DataFrame(real_center)], axis=1)\n",
    "r.columns = ['num'] + list(df_webgl_array.columns)\n",
    "\n",
    "plt.figure(figsize=(10,8))\n",
    "sns.heatmap(center_01, vmin=0, vmax=1, square=False, annot=real_center, cbar=False, fmt='.2f', cmap='Blues', yticklabels=['{}: {}'.format(x,y) for x, y in zip(num.index, num.values)], xticklabels=df_webgl_array.columns) # type: ignore\n",
    "plt.savefig('./output/figures/heatmap-complexity.pdf', bbox_inches='tight')\n",
    "plt.savefig('./output/figures/heatmap-complexity.png', bbox_inches='tight', dpi=300)"
   ]
  },
  {
   "cell_type": "markdown",
   "metadata": {},
   "source": [
    "# show some"
   ]
  },
  {
   "cell_type": "markdown",
   "metadata": {},
   "source": [
    "bugs:\n",
    "- 18896 https://www.alan-consortium.jp/  水波纹\n",
    "- 27616 https://www.thesheldon.org/  \n",
    "- 20307 5FPS?\n"
   ]
  },
  {
   "cell_type": "code",
   "execution_count": 116,
   "metadata": {},
   "outputs": [
    {
     "data": {
      "text/html": [
       "<div>\n",
       "<style scoped>\n",
       "    .dataframe tbody tr th:only-of-type {\n",
       "        vertical-align: middle;\n",
       "    }\n",
       "\n",
       "    .dataframe tbody tr th {\n",
       "        vertical-align: top;\n",
       "    }\n",
       "\n",
       "    .dataframe thead th {\n",
       "        text-align: right;\n",
       "    }\n",
       "</style>\n",
       "<table border=\"1\" class=\"dataframe\">\n",
       "  <thead>\n",
       "    <tr style=\"text-align: right;\">\n",
       "      <th></th>\n",
       "      <th>frames_count</th>\n",
       "      <th>js_real</th>\n",
       "      <th>gpu_real</th>\n",
       "      <th>webgl_time</th>\n",
       "      <th>mem_mean_renderer</th>\n",
       "      <th>mem_mean_gpu_process</th>\n",
       "    </tr>\n",
       "  </thead>\n",
       "  <tbody>\n",
       "    <tr>\n",
       "      <th>4635</th>\n",
       "      <td>477.0</td>\n",
       "      <td>0.878062</td>\n",
       "      <td>1.438845</td>\n",
       "      <td>1.444285</td>\n",
       "      <td>319.567578</td>\n",
       "      <td>526.980859</td>\n",
       "    </tr>\n",
       "    <tr>\n",
       "      <th>16416</th>\n",
       "      <td>322.0</td>\n",
       "      <td>0.024868</td>\n",
       "      <td>2.186688</td>\n",
       "      <td>2.592323</td>\n",
       "      <td>721.815789</td>\n",
       "      <td>1704.659539</td>\n",
       "    </tr>\n",
       "    <tr>\n",
       "      <th>22372</th>\n",
       "      <td>478.0</td>\n",
       "      <td>0.479202</td>\n",
       "      <td>0.407747</td>\n",
       "      <td>0.352554</td>\n",
       "      <td>341.884766</td>\n",
       "      <td>1449.119336</td>\n",
       "    </tr>\n",
       "    <tr>\n",
       "      <th>14404</th>\n",
       "      <td>478.0</td>\n",
       "      <td>0.825306</td>\n",
       "      <td>0.361753</td>\n",
       "      <td>0.393383</td>\n",
       "      <td>993.038477</td>\n",
       "      <td>646.091797</td>\n",
       "    </tr>\n",
       "    <tr>\n",
       "      <th>7112</th>\n",
       "      <td>478.0</td>\n",
       "      <td>0.897347</td>\n",
       "      <td>0.644489</td>\n",
       "      <td>0.626752</td>\n",
       "      <td>289.325391</td>\n",
       "      <td>666.640820</td>\n",
       "    </tr>\n",
       "    <tr>\n",
       "      <th>17117</th>\n",
       "      <td>395.0</td>\n",
       "      <td>0.104738</td>\n",
       "      <td>0.006442</td>\n",
       "      <td>0.004826</td>\n",
       "      <td>825.885156</td>\n",
       "      <td>717.000000</td>\n",
       "    </tr>\n",
       "    <tr>\n",
       "      <th>13084</th>\n",
       "      <td>478.0</td>\n",
       "      <td>0.756712</td>\n",
       "      <td>0.752414</td>\n",
       "      <td>0.758485</td>\n",
       "      <td>428.424219</td>\n",
       "      <td>476.943945</td>\n",
       "    </tr>\n",
       "    <tr>\n",
       "      <th>15937</th>\n",
       "      <td>479.0</td>\n",
       "      <td>2.015007</td>\n",
       "      <td>0.266751</td>\n",
       "      <td>0.024260</td>\n",
       "      <td>206.930469</td>\n",
       "      <td>911.704297</td>\n",
       "    </tr>\n",
       "    <tr>\n",
       "      <th>12082</th>\n",
       "      <td>478.0</td>\n",
       "      <td>0.881988</td>\n",
       "      <td>0.602789</td>\n",
       "      <td>0.593916</td>\n",
       "      <td>580.528711</td>\n",
       "      <td>438.068359</td>\n",
       "    </tr>\n",
       "    <tr>\n",
       "      <th>21905</th>\n",
       "      <td>478.0</td>\n",
       "      <td>0.831560</td>\n",
       "      <td>2.552740</td>\n",
       "      <td>2.615166</td>\n",
       "      <td>156.311523</td>\n",
       "      <td>404.214844</td>\n",
       "    </tr>\n",
       "  </tbody>\n",
       "</table>\n",
       "</div>"
      ],
      "text/plain": [
       "       frames_count   js_real  gpu_real  webgl_time  mem_mean_renderer   \n",
       "4635          477.0  0.878062  1.438845    1.444285         319.567578  \\\n",
       "16416         322.0  0.024868  2.186688    2.592323         721.815789   \n",
       "22372         478.0  0.479202  0.407747    0.352554         341.884766   \n",
       "14404         478.0  0.825306  0.361753    0.393383         993.038477   \n",
       "7112          478.0  0.897347  0.644489    0.626752         289.325391   \n",
       "17117         395.0  0.104738  0.006442    0.004826         825.885156   \n",
       "13084         478.0  0.756712  0.752414    0.758485         428.424219   \n",
       "15937         479.0  2.015007  0.266751    0.024260         206.930469   \n",
       "12082         478.0  0.881988  0.602789    0.593916         580.528711   \n",
       "21905         478.0  0.831560  2.552740    2.615166         156.311523   \n",
       "\n",
       "       mem_mean_gpu_process  \n",
       "4635             526.980859  \n",
       "16416           1704.659539  \n",
       "22372           1449.119336  \n",
       "14404            646.091797  \n",
       "7112             666.640820  \n",
       "17117            717.000000  \n",
       "13084            476.943945  \n",
       "15937            911.704297  \n",
       "12082            438.068359  \n",
       "21905            404.214844  "
      ]
     },
     "execution_count": 116,
     "metadata": {},
     "output_type": "execute_result"
    }
   ],
   "source": [
    "df_scaled[labels==2].sample(10) * std.values + mean.values"
   ]
  },
  {
   "cell_type": "code",
   "execution_count": 117,
   "metadata": {},
   "outputs": [
    {
     "data": {
      "text/html": [
       "<div>\n",
       "<style scoped>\n",
       "    .dataframe tbody tr th:only-of-type {\n",
       "        vertical-align: middle;\n",
       "    }\n",
       "\n",
       "    .dataframe tbody tr th {\n",
       "        vertical-align: top;\n",
       "    }\n",
       "\n",
       "    .dataframe thead th {\n",
       "        text-align: right;\n",
       "    }\n",
       "</style>\n",
       "<table border=\"1\" class=\"dataframe\">\n",
       "  <thead>\n",
       "    <tr style=\"text-align: right;\">\n",
       "      <th></th>\n",
       "      <th>frames_count</th>\n",
       "      <th>js_real</th>\n",
       "      <th>gpu_real</th>\n",
       "      <th>webgl_time</th>\n",
       "      <th>mem_mean_renderer</th>\n",
       "      <th>mem_mean_gpu_process</th>\n",
       "    </tr>\n",
       "  </thead>\n",
       "  <tbody>\n",
       "    <tr>\n",
       "      <th>3106</th>\n",
       "      <td>479.0</td>\n",
       "      <td>0.045739</td>\n",
       "      <td>0.027801</td>\n",
       "      <td>0.019402</td>\n",
       "      <td>168.884180</td>\n",
       "      <td>339.716602</td>\n",
       "    </tr>\n",
       "    <tr>\n",
       "      <th>7817</th>\n",
       "      <td>479.0</td>\n",
       "      <td>0.052971</td>\n",
       "      <td>0.014558</td>\n",
       "      <td>0.009862</td>\n",
       "      <td>154.501758</td>\n",
       "      <td>233.447461</td>\n",
       "    </tr>\n",
       "    <tr>\n",
       "      <th>5575</th>\n",
       "      <td>479.0</td>\n",
       "      <td>0.309204</td>\n",
       "      <td>0.138814</td>\n",
       "      <td>0.119067</td>\n",
       "      <td>285.129102</td>\n",
       "      <td>695.887500</td>\n",
       "    </tr>\n",
       "    <tr>\n",
       "      <th>16394</th>\n",
       "      <td>479.0</td>\n",
       "      <td>0.048180</td>\n",
       "      <td>0.014555</td>\n",
       "      <td>0.009692</td>\n",
       "      <td>157.475586</td>\n",
       "      <td>228.898828</td>\n",
       "    </tr>\n",
       "    <tr>\n",
       "      <th>18380</th>\n",
       "      <td>478.0</td>\n",
       "      <td>0.463639</td>\n",
       "      <td>0.244458</td>\n",
       "      <td>0.212311</td>\n",
       "      <td>149.813672</td>\n",
       "      <td>870.697852</td>\n",
       "    </tr>\n",
       "    <tr>\n",
       "      <th>4254</th>\n",
       "      <td>479.0</td>\n",
       "      <td>0.085435</td>\n",
       "      <td>0.064252</td>\n",
       "      <td>0.048782</td>\n",
       "      <td>148.182813</td>\n",
       "      <td>436.775781</td>\n",
       "    </tr>\n",
       "    <tr>\n",
       "      <th>15920</th>\n",
       "      <td>478.0</td>\n",
       "      <td>0.143373</td>\n",
       "      <td>0.171506</td>\n",
       "      <td>0.138757</td>\n",
       "      <td>152.801367</td>\n",
       "      <td>544.954883</td>\n",
       "    </tr>\n",
       "    <tr>\n",
       "      <th>11085</th>\n",
       "      <td>479.0</td>\n",
       "      <td>0.046478</td>\n",
       "      <td>0.014493</td>\n",
       "      <td>0.009693</td>\n",
       "      <td>160.041016</td>\n",
       "      <td>218.563477</td>\n",
       "    </tr>\n",
       "    <tr>\n",
       "      <th>11283</th>\n",
       "      <td>478.0</td>\n",
       "      <td>0.253738</td>\n",
       "      <td>0.178246</td>\n",
       "      <td>0.159148</td>\n",
       "      <td>142.881445</td>\n",
       "      <td>399.854688</td>\n",
       "    </tr>\n",
       "    <tr>\n",
       "      <th>22849</th>\n",
       "      <td>479.0</td>\n",
       "      <td>0.046231</td>\n",
       "      <td>0.019898</td>\n",
       "      <td>0.007034</td>\n",
       "      <td>197.029687</td>\n",
       "      <td>330.572461</td>\n",
       "    </tr>\n",
       "  </tbody>\n",
       "</table>\n",
       "</div>"
      ],
      "text/plain": [
       "       frames_count   js_real  gpu_real  webgl_time  mem_mean_renderer   \n",
       "3106          479.0  0.045739  0.027801    0.019402         168.884180  \\\n",
       "7817          479.0  0.052971  0.014558    0.009862         154.501758   \n",
       "5575          479.0  0.309204  0.138814    0.119067         285.129102   \n",
       "16394         479.0  0.048180  0.014555    0.009692         157.475586   \n",
       "18380         478.0  0.463639  0.244458    0.212311         149.813672   \n",
       "4254          479.0  0.085435  0.064252    0.048782         148.182813   \n",
       "15920         478.0  0.143373  0.171506    0.138757         152.801367   \n",
       "11085         479.0  0.046478  0.014493    0.009693         160.041016   \n",
       "11283         478.0  0.253738  0.178246    0.159148         142.881445   \n",
       "22849         479.0  0.046231  0.019898    0.007034         197.029687   \n",
       "\n",
       "       mem_mean_gpu_process  \n",
       "3106             339.716602  \n",
       "7817             233.447461  \n",
       "5575             695.887500  \n",
       "16394            228.898828  \n",
       "18380            870.697852  \n",
       "4254             436.775781  \n",
       "15920            544.954883  \n",
       "11085            218.563477  \n",
       "11283            399.854688  \n",
       "22849            330.572461  "
      ]
     },
     "execution_count": 117,
     "metadata": {},
     "output_type": "execute_result"
    }
   ],
   "source": [
    "df_scaled[labels==0].sample(10) * std.values + mean.values"
   ]
  },
  {
   "cell_type": "code",
   "execution_count": 24,
   "metadata": {},
   "outputs": [
    {
     "data": {
      "text/plain": [
       "frames_count            253.000000\n",
       "js_real                   9.122356\n",
       "render_real               0.001146\n",
       "gpu_real                  2.195341\n",
       "webgl_time                2.104758\n",
       "mem_mean_gpu_process    251.711914\n",
       "mem_mean_renderer       134.008008\n",
       "Name: 2936, dtype: float64"
      ]
     },
     "execution_count": 24,
     "metadata": {},
     "output_type": "execute_result"
    }
   ],
   "source": [
    "df_scaled.loc[2936] * std.values + mean.values"
   ]
  },
  {
   "cell_type": "code",
   "execution_count": 25,
   "metadata": {},
   "outputs": [
    {
     "data": {
      "text/html": [
       "<div>\n",
       "<style scoped>\n",
       "    .dataframe tbody tr th:only-of-type {\n",
       "        vertical-align: middle;\n",
       "    }\n",
       "\n",
       "    .dataframe tbody tr th {\n",
       "        vertical-align: top;\n",
       "    }\n",
       "\n",
       "    .dataframe thead th {\n",
       "        text-align: right;\n",
       "    }\n",
       "</style>\n",
       "<table border=\"1\" class=\"dataframe\">\n",
       "  <thead>\n",
       "    <tr style=\"text-align: right;\">\n",
       "      <th></th>\n",
       "      <th>frames_count</th>\n",
       "      <th>js_real</th>\n",
       "      <th>render_real</th>\n",
       "      <th>gpu_real</th>\n",
       "      <th>webgl_time</th>\n",
       "      <th>mem_mean_gpu_process</th>\n",
       "      <th>mem_mean_renderer</th>\n",
       "      <th>label</th>\n",
       "    </tr>\n",
       "  </thead>\n",
       "  <tbody>\n",
       "    <tr>\n",
       "      <th>2</th>\n",
       "      <td>580.0</td>\n",
       "      <td>0.298668</td>\n",
       "      <td>0.036227</td>\n",
       "      <td>0.463825</td>\n",
       "      <td>0.538061</td>\n",
       "      <td>870.302734</td>\n",
       "      <td>347.040820</td>\n",
       "      <td>0</td>\n",
       "    </tr>\n",
       "    <tr>\n",
       "      <th>11</th>\n",
       "      <td>596.0</td>\n",
       "      <td>0.320799</td>\n",
       "      <td>0.005974</td>\n",
       "      <td>0.695051</td>\n",
       "      <td>0.501488</td>\n",
       "      <td>424.297461</td>\n",
       "      <td>271.012305</td>\n",
       "      <td>0</td>\n",
       "    </tr>\n",
       "    <tr>\n",
       "      <th>15</th>\n",
       "      <td>597.0</td>\n",
       "      <td>0.408880</td>\n",
       "      <td>0.008894</td>\n",
       "      <td>1.170316</td>\n",
       "      <td>1.173689</td>\n",
       "      <td>490.459570</td>\n",
       "      <td>135.200781</td>\n",
       "      <td>0</td>\n",
       "    </tr>\n",
       "    <tr>\n",
       "      <th>17</th>\n",
       "      <td>595.0</td>\n",
       "      <td>2.004322</td>\n",
       "      <td>0.003805</td>\n",
       "      <td>2.512404</td>\n",
       "      <td>2.554558</td>\n",
       "      <td>1172.514648</td>\n",
       "      <td>1039.843164</td>\n",
       "      <td>2</td>\n",
       "    </tr>\n",
       "    <tr>\n",
       "      <th>20</th>\n",
       "      <td>599.0</td>\n",
       "      <td>0.509029</td>\n",
       "      <td>0.002604</td>\n",
       "      <td>0.486789</td>\n",
       "      <td>0.379705</td>\n",
       "      <td>554.161328</td>\n",
       "      <td>178.023633</td>\n",
       "      <td>0</td>\n",
       "    </tr>\n",
       "    <tr>\n",
       "      <th>...</th>\n",
       "      <td>...</td>\n",
       "      <td>...</td>\n",
       "      <td>...</td>\n",
       "      <td>...</td>\n",
       "      <td>...</td>\n",
       "      <td>...</td>\n",
       "      <td>...</td>\n",
       "      <td>...</td>\n",
       "    </tr>\n",
       "    <tr>\n",
       "      <th>29217</th>\n",
       "      <td>594.0</td>\n",
       "      <td>0.935317</td>\n",
       "      <td>0.085225</td>\n",
       "      <td>0.437793</td>\n",
       "      <td>0.400385</td>\n",
       "      <td>912.806836</td>\n",
       "      <td>634.661133</td>\n",
       "      <td>2</td>\n",
       "    </tr>\n",
       "    <tr>\n",
       "      <th>29219</th>\n",
       "      <td>597.0</td>\n",
       "      <td>0.461793</td>\n",
       "      <td>0.014106</td>\n",
       "      <td>0.478780</td>\n",
       "      <td>0.217637</td>\n",
       "      <td>516.396680</td>\n",
       "      <td>140.059570</td>\n",
       "      <td>0</td>\n",
       "    </tr>\n",
       "    <tr>\n",
       "      <th>29221</th>\n",
       "      <td>587.0</td>\n",
       "      <td>0.379386</td>\n",
       "      <td>0.007903</td>\n",
       "      <td>0.187927</td>\n",
       "      <td>0.161195</td>\n",
       "      <td>468.408594</td>\n",
       "      <td>220.606641</td>\n",
       "      <td>0</td>\n",
       "    </tr>\n",
       "    <tr>\n",
       "      <th>29224</th>\n",
       "      <td>594.0</td>\n",
       "      <td>0.289671</td>\n",
       "      <td>0.004740</td>\n",
       "      <td>0.162175</td>\n",
       "      <td>0.128084</td>\n",
       "      <td>409.140430</td>\n",
       "      <td>117.831250</td>\n",
       "      <td>0</td>\n",
       "    </tr>\n",
       "    <tr>\n",
       "      <th>29235</th>\n",
       "      <td>581.0</td>\n",
       "      <td>0.183842</td>\n",
       "      <td>0.007799</td>\n",
       "      <td>0.013905</td>\n",
       "      <td>0.004874</td>\n",
       "      <td>225.474219</td>\n",
       "      <td>243.227344</td>\n",
       "      <td>0</td>\n",
       "    </tr>\n",
       "  </tbody>\n",
       "</table>\n",
       "<p>6403 rows × 8 columns</p>\n",
       "</div>"
      ],
      "text/plain": [
       "       frames_count   js_real  render_real  gpu_real  webgl_time   \n",
       "2             580.0  0.298668     0.036227  0.463825    0.538061  \\\n",
       "11            596.0  0.320799     0.005974  0.695051    0.501488   \n",
       "15            597.0  0.408880     0.008894  1.170316    1.173689   \n",
       "17            595.0  2.004322     0.003805  2.512404    2.554558   \n",
       "20            599.0  0.509029     0.002604  0.486789    0.379705   \n",
       "...             ...       ...          ...       ...         ...   \n",
       "29217         594.0  0.935317     0.085225  0.437793    0.400385   \n",
       "29219         597.0  0.461793     0.014106  0.478780    0.217637   \n",
       "29221         587.0  0.379386     0.007903  0.187927    0.161195   \n",
       "29224         594.0  0.289671     0.004740  0.162175    0.128084   \n",
       "29235         581.0  0.183842     0.007799  0.013905    0.004874   \n",
       "\n",
       "       mem_mean_gpu_process  mem_mean_renderer  label  \n",
       "2                870.302734         347.040820      0  \n",
       "11               424.297461         271.012305      0  \n",
       "15               490.459570         135.200781      0  \n",
       "17              1172.514648        1039.843164      2  \n",
       "20               554.161328         178.023633      0  \n",
       "...                     ...                ...    ...  \n",
       "29217            912.806836         634.661133      2  \n",
       "29219            516.396680         140.059570      0  \n",
       "29221            468.408594         220.606641      0  \n",
       "29224            409.140430         117.831250      0  \n",
       "29235            225.474219         243.227344      0  \n",
       "\n",
       "[6403 rows x 8 columns]"
      ]
     },
     "execution_count": 25,
     "metadata": {},
     "output_type": "execute_result"
    }
   ],
   "source": [
    "df_label = df_scaled * std.values + mean.values\n",
    "df_label['label'] = labels\n",
    "df_label"
   ]
  },
  {
   "cell_type": "code",
   "execution_count": 26,
   "metadata": {},
   "outputs": [
    {
     "data": {
      "text/plain": [
       "frames_count            253.000000\n",
       "js_real                   9.122356\n",
       "render_real               0.001146\n",
       "gpu_real                  2.195341\n",
       "webgl_time                2.104758\n",
       "mem_mean_gpu_process    251.711914\n",
       "mem_mean_renderer       134.008008\n",
       "label                     2.000000\n",
       "Name: 2936, dtype: float64"
      ]
     },
     "execution_count": 26,
     "metadata": {},
     "output_type": "execute_result"
    }
   ],
   "source": [
    "df_label.loc[2936]"
   ]
  },
  {
   "cell_type": "code",
   "execution_count": null,
   "metadata": {},
   "outputs": [],
   "source": []
  }
 ],
 "metadata": {
  "kernelspec": {
   "display_name": "Python 3",
   "language": "python",
   "name": "python3"
  },
  "language_info": {
   "codemirror_mode": {
    "name": "ipython",
    "version": 3
   },
   "file_extension": ".py",
   "mimetype": "text/x-python",
   "name": "python",
   "nbconvert_exporter": "python",
   "pygments_lexer": "ipython3",
   "version": "3.10.12"
  },
  "orig_nbformat": 4
 },
 "nbformat": 4,
 "nbformat_minor": 2
}
