{
 "cells": [
  {
   "cell_type": "code",
   "execution_count": 1,
   "metadata": {},
   "outputs": [],
   "source": [
    "import pandas as pd\n",
    "import pickle\n",
    "import seaborn as sns\n",
    "from sklearn.cluster import KMeans #聚类模块\n",
    "from sklearn.preprocessing import StandardScaler\n",
    "import matplotlib.pyplot as plt\n",
    "import numpy as np"
   ]
  },
  {
   "cell_type": "code",
   "execution_count": 2,
   "metadata": {},
   "outputs": [],
   "source": [
    "df = pd.read_pickle('./output/df.pkl.zstd', compression='zstd')"
   ]
  },
  {
   "cell_type": "code",
   "execution_count": 3,
   "metadata": {},
   "outputs": [
    {
     "data": {
      "text/plain": [
       "00000.proto.pkl        None\n",
       "00001.proto.pkl        None\n",
       "00002.proto.pkl    0.339832\n",
       "00003.proto.pkl        None\n",
       "00004.proto.pkl        None\n",
       "                     ...   \n",
       "29237.proto.pkl        None\n",
       "29238.proto.pkl        None\n",
       "29239.proto.pkl        None\n",
       "29240.proto.pkl        None\n",
       "29241.proto.pkl        None\n",
       "Name: webgl_time, Length: 29241, dtype: object"
      ]
     },
     "execution_count": 3,
     "metadata": {},
     "output_type": "execute_result"
    }
   ],
   "source": [
    "df.webgl_time"
   ]
  },
  {
   "cell_type": "code",
   "execution_count": 4,
   "metadata": {},
   "outputs": [],
   "source": [
    "a = df[~df.webgl_time.isna()].index.map(lambda x: int(x[:5])).unique().tolist()"
   ]
  },
  {
   "cell_type": "code",
   "execution_count": 5,
   "metadata": {},
   "outputs": [],
   "source": [
    "pickle.dump(a, open('./output/valid_ids.pkl', 'wb'))"
   ]
  },
  {
   "cell_type": "code",
   "execution_count": 6,
   "metadata": {},
   "outputs": [],
   "source": [
    "df_webgl = df[~df.webgl_time.isna()]"
   ]
  },
  {
   "cell_type": "code",
   "execution_count": 7,
   "metadata": {},
   "outputs": [
    {
     "data": {
      "text/html": [
       "<div>\n",
       "<style scoped>\n",
       "    .dataframe tbody tr th:only-of-type {\n",
       "        vertical-align: middle;\n",
       "    }\n",
       "\n",
       "    .dataframe tbody tr th {\n",
       "        vertical-align: top;\n",
       "    }\n",
       "\n",
       "    .dataframe thead th {\n",
       "        text-align: right;\n",
       "    }\n",
       "</style>\n",
       "<table border=\"1\" class=\"dataframe\">\n",
       "  <thead>\n",
       "    <tr style=\"text-align: right;\">\n",
       "      <th></th>\n",
       "      <th>status</th>\n",
       "      <th>cpu_real</th>\n",
       "      <th>cpu_full</th>\n",
       "      <th>gpu_real</th>\n",
       "      <th>gpu_full</th>\n",
       "      <th>webgl_time</th>\n",
       "      <th>mem_mean_browser</th>\n",
       "      <th>mem_mean_gpu_process</th>\n",
       "      <th>mem_mean_renderer</th>\n",
       "      <th>mem_mean_other</th>\n",
       "      <th>mem_detail</th>\n",
       "    </tr>\n",
       "  </thead>\n",
       "  <tbody>\n",
       "    <tr>\n",
       "      <th>00002.proto.pkl</th>\n",
       "      <td>Ok</td>\n",
       "      <td>0.906576</td>\n",
       "      <td>0.980683</td>\n",
       "      <td>0.503714</td>\n",
       "      <td>0.545135</td>\n",
       "      <td>0.339832</td>\n",
       "      <td>99.227539</td>\n",
       "      <td>1211.305469</td>\n",
       "      <td>645.098828</td>\n",
       "      <td>362.060742</td>\n",
       "      <td>{'Service: tracing.mojom.TracingService_5_2081...</td>\n",
       "    </tr>\n",
       "    <tr>\n",
       "      <th>00011.proto.pkl</th>\n",
       "      <td>Ok</td>\n",
       "      <td>0.529102</td>\n",
       "      <td>0.686112</td>\n",
       "      <td>0.936136</td>\n",
       "      <td>0.977421</td>\n",
       "      <td>0.730202</td>\n",
       "      <td>95.673047</td>\n",
       "      <td>657.800977</td>\n",
       "      <td>441.449414</td>\n",
       "      <td>368.648633</td>\n",
       "      <td>{'Service: storage.mojom.StorageService_9_2198...</td>\n",
       "    </tr>\n",
       "    <tr>\n",
       "      <th>00015.proto.pkl</th>\n",
       "      <td>Ok</td>\n",
       "      <td>5.639269</td>\n",
       "      <td>6.113907</td>\n",
       "      <td>3.489915</td>\n",
       "      <td>8.631206</td>\n",
       "      <td>8.379561</td>\n",
       "      <td>91.497266</td>\n",
       "      <td>756.732617</td>\n",
       "      <td>234.8875</td>\n",
       "      <td>293.233789</td>\n",
       "      <td>{'Browser_1_3372': [88.171875, 90.4765625, 89....</td>\n",
       "    </tr>\n",
       "    <tr>\n",
       "      <th>00017.proto.pkl</th>\n",
       "      <td>Ok</td>\n",
       "      <td>8.115357</td>\n",
       "      <td>8.500925</td>\n",
       "      <td>3.298216</td>\n",
       "      <td>3.369785</td>\n",
       "      <td>3.208745</td>\n",
       "      <td>371.834961</td>\n",
       "      <td>1497.736914</td>\n",
       "      <td>2214.099609</td>\n",
       "      <td>400.996289</td>\n",
       "      <td>{'Service: network.mojom.NetworkService_5_2198...</td>\n",
       "    </tr>\n",
       "    <tr>\n",
       "      <th>00020.proto.pkl</th>\n",
       "      <td>Ok</td>\n",
       "      <td>3.518675</td>\n",
       "      <td>3.831758</td>\n",
       "      <td>0.862565</td>\n",
       "      <td>2.669846</td>\n",
       "      <td>2.515668</td>\n",
       "      <td>91.129688</td>\n",
       "      <td>741.955664</td>\n",
       "      <td>252.221289</td>\n",
       "      <td>330.270312</td>\n",
       "      <td>{'Browser_1_7008': [87.984375, 90.00390625, 90...</td>\n",
       "    </tr>\n",
       "    <tr>\n",
       "      <th>...</th>\n",
       "      <td>...</td>\n",
       "      <td>...</td>\n",
       "      <td>...</td>\n",
       "      <td>...</td>\n",
       "      <td>...</td>\n",
       "      <td>...</td>\n",
       "      <td>...</td>\n",
       "      <td>...</td>\n",
       "      <td>...</td>\n",
       "      <td>...</td>\n",
       "      <td>...</td>\n",
       "    </tr>\n",
       "    <tr>\n",
       "      <th>29217.proto.pkl</th>\n",
       "      <td>Ok</td>\n",
       "      <td>0.959541</td>\n",
       "      <td>1.072538</td>\n",
       "      <td>0.444104</td>\n",
       "      <td>9.405436</td>\n",
       "      <td>9.332341</td>\n",
       "      <td>93.868359</td>\n",
       "      <td>1329.677539</td>\n",
       "      <td>749.629492</td>\n",
       "      <td>537.796875</td>\n",
       "      <td>{'Service: audio.mojom.AudioService_3_10432': ...</td>\n",
       "    </tr>\n",
       "    <tr>\n",
       "      <th>29219.proto.pkl</th>\n",
       "      <td>Ok</td>\n",
       "      <td>1.375674</td>\n",
       "      <td>1.488144</td>\n",
       "      <td>0.833717</td>\n",
       "      <td>4.495338</td>\n",
       "      <td>4.10239</td>\n",
       "      <td>92.146289</td>\n",
       "      <td>813.800781</td>\n",
       "      <td>226.260547</td>\n",
       "      <td>259.692187</td>\n",
       "      <td>{'Browser_3_11212': [89.58203125, 91.23828125,...</td>\n",
       "    </tr>\n",
       "    <tr>\n",
       "      <th>29221.proto.pkl</th>\n",
       "      <td>Ok</td>\n",
       "      <td>1.271626</td>\n",
       "      <td>1.346867</td>\n",
       "      <td>0.21813</td>\n",
       "      <td>0.23944</td>\n",
       "      <td>0.200094</td>\n",
       "      <td>101.516992</td>\n",
       "      <td>1081.537109</td>\n",
       "      <td>758.194922</td>\n",
       "      <td>343.591406</td>\n",
       "      <td>{'Renderer_11_6072': [76.828125, 78.86328125, ...</td>\n",
       "    </tr>\n",
       "    <tr>\n",
       "      <th>29224.proto.pkl</th>\n",
       "      <td>Ok</td>\n",
       "      <td>1.489438</td>\n",
       "      <td>1.538847</td>\n",
       "      <td>0.313604</td>\n",
       "      <td>0.356155</td>\n",
       "      <td>0.290104</td>\n",
       "      <td>93.460742</td>\n",
       "      <td>1033.799023</td>\n",
       "      <td>316.693945</td>\n",
       "      <td>354.186328</td>\n",
       "      <td>{'Service: audio.mojom.AudioService_3_11364': ...</td>\n",
       "    </tr>\n",
       "    <tr>\n",
       "      <th>29235.proto.pkl</th>\n",
       "      <td>Ok</td>\n",
       "      <td>0.371377</td>\n",
       "      <td>0.48702</td>\n",
       "      <td>0.025546</td>\n",
       "      <td>0.034854</td>\n",
       "      <td>0.007052</td>\n",
       "      <td>94.776172</td>\n",
       "      <td>608.666016</td>\n",
       "      <td>317.998438</td>\n",
       "      <td>255.42207</td>\n",
       "      <td>{'Service: network.mojom.NetworkService_2_8712...</td>\n",
       "    </tr>\n",
       "  </tbody>\n",
       "</table>\n",
       "<p>6234 rows × 11 columns</p>\n",
       "</div>"
      ],
      "text/plain": [
       "                status  cpu_real  cpu_full  gpu_real  gpu_full webgl_time   \n",
       "00002.proto.pkl     Ok  0.906576  0.980683  0.503714  0.545135   0.339832  \\\n",
       "00011.proto.pkl     Ok  0.529102  0.686112  0.936136  0.977421   0.730202   \n",
       "00015.proto.pkl     Ok  5.639269  6.113907  3.489915  8.631206   8.379561   \n",
       "00017.proto.pkl     Ok  8.115357  8.500925  3.298216  3.369785   3.208745   \n",
       "00020.proto.pkl     Ok  3.518675  3.831758  0.862565  2.669846   2.515668   \n",
       "...                ...       ...       ...       ...       ...        ...   \n",
       "29217.proto.pkl     Ok  0.959541  1.072538  0.444104  9.405436   9.332341   \n",
       "29219.proto.pkl     Ok  1.375674  1.488144  0.833717  4.495338    4.10239   \n",
       "29221.proto.pkl     Ok  1.271626  1.346867   0.21813   0.23944   0.200094   \n",
       "29224.proto.pkl     Ok  1.489438  1.538847  0.313604  0.356155   0.290104   \n",
       "29235.proto.pkl     Ok  0.371377   0.48702  0.025546  0.034854   0.007052   \n",
       "\n",
       "                mem_mean_browser mem_mean_gpu_process mem_mean_renderer   \n",
       "00002.proto.pkl        99.227539          1211.305469        645.098828  \\\n",
       "00011.proto.pkl        95.673047           657.800977        441.449414   \n",
       "00015.proto.pkl        91.497266           756.732617          234.8875   \n",
       "00017.proto.pkl       371.834961          1497.736914       2214.099609   \n",
       "00020.proto.pkl        91.129688           741.955664        252.221289   \n",
       "...                          ...                  ...               ...   \n",
       "29217.proto.pkl        93.868359          1329.677539        749.629492   \n",
       "29219.proto.pkl        92.146289           813.800781        226.260547   \n",
       "29221.proto.pkl       101.516992          1081.537109        758.194922   \n",
       "29224.proto.pkl        93.460742          1033.799023        316.693945   \n",
       "29235.proto.pkl        94.776172           608.666016        317.998438   \n",
       "\n",
       "                mem_mean_other   \n",
       "00002.proto.pkl     362.060742  \\\n",
       "00011.proto.pkl     368.648633   \n",
       "00015.proto.pkl     293.233789   \n",
       "00017.proto.pkl     400.996289   \n",
       "00020.proto.pkl     330.270312   \n",
       "...                        ...   \n",
       "29217.proto.pkl     537.796875   \n",
       "29219.proto.pkl     259.692187   \n",
       "29221.proto.pkl     343.591406   \n",
       "29224.proto.pkl     354.186328   \n",
       "29235.proto.pkl      255.42207   \n",
       "\n",
       "                                                        mem_detail  \n",
       "00002.proto.pkl  {'Service: tracing.mojom.TracingService_5_2081...  \n",
       "00011.proto.pkl  {'Service: storage.mojom.StorageService_9_2198...  \n",
       "00015.proto.pkl  {'Browser_1_3372': [88.171875, 90.4765625, 89....  \n",
       "00017.proto.pkl  {'Service: network.mojom.NetworkService_5_2198...  \n",
       "00020.proto.pkl  {'Browser_1_7008': [87.984375, 90.00390625, 90...  \n",
       "...                                                            ...  \n",
       "29217.proto.pkl  {'Service: audio.mojom.AudioService_3_10432': ...  \n",
       "29219.proto.pkl  {'Browser_3_11212': [89.58203125, 91.23828125,...  \n",
       "29221.proto.pkl  {'Renderer_11_6072': [76.828125, 78.86328125, ...  \n",
       "29224.proto.pkl  {'Service: audio.mojom.AudioService_3_11364': ...  \n",
       "29235.proto.pkl  {'Service: network.mojom.NetworkService_2_8712...  \n",
       "\n",
       "[6234 rows x 11 columns]"
      ]
     },
     "execution_count": 7,
     "metadata": {},
     "output_type": "execute_result"
    }
   ],
   "source": [
    "df_webgl"
   ]
  },
  {
   "cell_type": "code",
   "execution_count": 8,
   "metadata": {},
   "outputs": [
    {
     "data": {
      "text/plain": [
       "<Axes: xlabel='gpu_real', ylabel='webgl_time'>"
      ]
     },
     "execution_count": 8,
     "metadata": {},
     "output_type": "execute_result"
    },
    {
     "data": {
      "image/png": "[encoded data removed]",
      "text/plain": [
       "<Figure size 432x288 with 1 Axes>"
      ]
     },
     "metadata": {
      "needs_background": "light"
     },
     "output_type": "display_data"
    }
   ],
   "source": [
    "df_webgl[['gpu_real', 'webgl_time']].plot.scatter(x='gpu_real', y='webgl_time')"
   ]
  },
  {
   "cell_type": "code",
   "execution_count": 9,
   "metadata": {},
   "outputs": [
    {
     "data": {
      "text/plain": [
       "<Axes: ylabel='Frequency'>"
      ]
     },
     "execution_count": 9,
     "metadata": {},
     "output_type": "execute_result"
    },
    {
     "data": {
      "image/png": "[encoded data removed]",
      "text/plain": [
       "<Figure size 432x288 with 1 Axes>"
      ]
     },
     "metadata": {
      "needs_background": "light"
     },
     "output_type": "display_data"
    }
   ],
   "source": [
    "df_webgl.webgl_time.plot.hist(bins=100)"
   ]
  },
  {
   "cell_type": "code",
   "execution_count": 10,
   "metadata": {},
   "outputs": [
    {
     "data": {
      "text/html": [
       "<div>\n",
       "<style scoped>\n",
       "    .dataframe tbody tr th:only-of-type {\n",
       "        vertical-align: middle;\n",
       "    }\n",
       "\n",
       "    .dataframe tbody tr th {\n",
       "        vertical-align: top;\n",
       "    }\n",
       "\n",
       "    .dataframe thead th {\n",
       "        text-align: right;\n",
       "    }\n",
       "</style>\n",
       "<table border=\"1\" class=\"dataframe\">\n",
       "  <thead>\n",
       "    <tr style=\"text-align: right;\">\n",
       "      <th></th>\n",
       "      <th>status</th>\n",
       "      <th>cpu_real</th>\n",
       "      <th>cpu_full</th>\n",
       "      <th>gpu_real</th>\n",
       "      <th>gpu_full</th>\n",
       "      <th>webgl_time</th>\n",
       "      <th>mem_mean_browser</th>\n",
       "      <th>mem_mean_gpu_process</th>\n",
       "      <th>mem_mean_renderer</th>\n",
       "      <th>mem_mean_other</th>\n",
       "      <th>mem_detail</th>\n",
       "    </tr>\n",
       "  </thead>\n",
       "  <tbody>\n",
       "    <tr>\n",
       "      <th>24642.proto.pkl</th>\n",
       "      <td>Ok</td>\n",
       "      <td>0.001933</td>\n",
       "      <td>0.001994</td>\n",
       "      <td>0.308621</td>\n",
       "      <td>18.757397</td>\n",
       "      <td>18.745922</td>\n",
       "      <td>94.247396</td>\n",
       "      <td>2057.074219</td>\n",
       "      <td>1425.828125</td>\n",
       "      <td>231.570312</td>\n",
       "      <td>{'Service: tracing.mojom.TracingService_4_3080...</td>\n",
       "    </tr>\n",
       "  </tbody>\n",
       "</table>\n",
       "</div>"
      ],
      "text/plain": [
       "                status  cpu_real  cpu_full  gpu_real   gpu_full webgl_time   \n",
       "24642.proto.pkl     Ok  0.001933  0.001994  0.308621  18.757397  18.745922  \\\n",
       "\n",
       "                mem_mean_browser mem_mean_gpu_process mem_mean_renderer   \n",
       "24642.proto.pkl        94.247396          2057.074219       1425.828125  \\\n",
       "\n",
       "                mem_mean_other   \n",
       "24642.proto.pkl     231.570312  \\\n",
       "\n",
       "                                                        mem_detail  \n",
       "24642.proto.pkl  {'Service: tracing.mojom.TracingService_4_3080...  "
      ]
     },
     "execution_count": 10,
     "metadata": {},
     "output_type": "execute_result"
    }
   ],
   "source": [
    "df_webgl[df_webgl.webgl_time > 10]"
   ]
  },
  {
   "cell_type": "code",
   "execution_count": 11,
   "metadata": {},
   "outputs": [],
   "source": [
    "df_webgl_array = df_webgl[['cpu_real', 'gpu_real', 'webgl_time', 'mem_mean_browser', 'mem_mean_gpu_process', 'mem_mean_renderer']]"
   ]
  },
  {
   "cell_type": "code",
   "execution_count": 12,
   "metadata": {},
   "outputs": [
    {
     "data": {
      "text/html": [
       "<div>\n",
       "<style scoped>\n",
       "    .dataframe tbody tr th:only-of-type {\n",
       "        vertical-align: middle;\n",
       "    }\n",
       "\n",
       "    .dataframe tbody tr th {\n",
       "        vertical-align: top;\n",
       "    }\n",
       "\n",
       "    .dataframe thead th {\n",
       "        text-align: right;\n",
       "    }\n",
       "</style>\n",
       "<table border=\"1\" class=\"dataframe\">\n",
       "  <thead>\n",
       "    <tr style=\"text-align: right;\">\n",
       "      <th></th>\n",
       "      <th>cpu_real</th>\n",
       "      <th>gpu_real</th>\n",
       "      <th>webgl_time</th>\n",
       "      <th>mem_mean_browser</th>\n",
       "      <th>mem_mean_gpu_process</th>\n",
       "      <th>mem_mean_renderer</th>\n",
       "    </tr>\n",
       "  </thead>\n",
       "  <tbody>\n",
       "    <tr>\n",
       "      <th>cpu_real</th>\n",
       "      <td>1.000000</td>\n",
       "      <td>0.495913</td>\n",
       "      <td>0.290098</td>\n",
       "      <td>0.148771</td>\n",
       "      <td>0.221780</td>\n",
       "      <td>0.176630</td>\n",
       "    </tr>\n",
       "    <tr>\n",
       "      <th>gpu_real</th>\n",
       "      <td>0.495913</td>\n",
       "      <td>1.000000</td>\n",
       "      <td>0.576790</td>\n",
       "      <td>0.098642</td>\n",
       "      <td>0.285163</td>\n",
       "      <td>0.105847</td>\n",
       "    </tr>\n",
       "    <tr>\n",
       "      <th>webgl_time</th>\n",
       "      <td>0.290098</td>\n",
       "      <td>0.576790</td>\n",
       "      <td>1.000000</td>\n",
       "      <td>0.051050</td>\n",
       "      <td>0.188295</td>\n",
       "      <td>0.054961</td>\n",
       "    </tr>\n",
       "    <tr>\n",
       "      <th>mem_mean_browser</th>\n",
       "      <td>0.148771</td>\n",
       "      <td>0.098642</td>\n",
       "      <td>0.051050</td>\n",
       "      <td>1.000000</td>\n",
       "      <td>0.175991</td>\n",
       "      <td>0.583540</td>\n",
       "    </tr>\n",
       "    <tr>\n",
       "      <th>mem_mean_gpu_process</th>\n",
       "      <td>0.221780</td>\n",
       "      <td>0.285163</td>\n",
       "      <td>0.188295</td>\n",
       "      <td>0.175991</td>\n",
       "      <td>1.000000</td>\n",
       "      <td>0.285396</td>\n",
       "    </tr>\n",
       "    <tr>\n",
       "      <th>mem_mean_renderer</th>\n",
       "      <td>0.176630</td>\n",
       "      <td>0.105847</td>\n",
       "      <td>0.054961</td>\n",
       "      <td>0.583540</td>\n",
       "      <td>0.285396</td>\n",
       "      <td>1.000000</td>\n",
       "    </tr>\n",
       "  </tbody>\n",
       "</table>\n",
       "</div>"
      ],
      "text/plain": [
       "                      cpu_real  gpu_real  webgl_time  mem_mean_browser   \n",
       "cpu_real              1.000000  0.495913    0.290098          0.148771  \\\n",
       "gpu_real              0.495913  1.000000    0.576790          0.098642   \n",
       "webgl_time            0.290098  0.576790    1.000000          0.051050   \n",
       "mem_mean_browser      0.148771  0.098642    0.051050          1.000000   \n",
       "mem_mean_gpu_process  0.221780  0.285163    0.188295          0.175991   \n",
       "mem_mean_renderer     0.176630  0.105847    0.054961          0.583540   \n",
       "\n",
       "                      mem_mean_gpu_process  mem_mean_renderer  \n",
       "cpu_real                          0.221780           0.176630  \n",
       "gpu_real                          0.285163           0.105847  \n",
       "webgl_time                        0.188295           0.054961  \n",
       "mem_mean_browser                  0.175991           0.583540  \n",
       "mem_mean_gpu_process              1.000000           0.285396  \n",
       "mem_mean_renderer                 0.285396           1.000000  "
      ]
     },
     "execution_count": 12,
     "metadata": {},
     "output_type": "execute_result"
    }
   ],
   "source": [
    "df_webgl_array.corr(method='pearson')"
   ]
  },
  {
   "cell_type": "code",
   "execution_count": 13,
   "metadata": {},
   "outputs": [
    {
     "data": {
      "text/plain": [
       "array([[-1.98167236e-01,  4.69239975e-02, -1.59600676e-01,\n",
       "         1.28320213e-01,  1.42697809e+00,  1.05482482e+00],\n",
       "       [-4.08992766e-01,  5.82258348e-01,  1.30802636e-01,\n",
       "        -1.14666763e-01, -6.01377552e-01,  2.46930796e-01],\n",
       "       [ 2.44512081e+00,  3.74381262e+00,  5.82129931e+00,\n",
       "        -4.00125390e-01, -2.38835686e-01, -5.72517351e-01],\n",
       "       ...,\n",
       "       [ 5.71928225e-03, -3.06626296e-01, -2.63554304e-01,\n",
       "         2.84828446e-01,  9.51432925e-01,  1.50348635e+00],\n",
       "       [ 1.27370920e-01, -1.88430386e-01, -1.96594236e-01,\n",
       "        -2.65901088e-01,  7.76493395e-01, -2.47984436e-01],\n",
       "       [-4.97084812e-01, -5.45043468e-01, -4.07161744e-01,\n",
       "        -1.75977615e-01, -7.81436028e-01, -2.42809408e-01]])"
      ]
     },
     "execution_count": 13,
     "metadata": {},
     "output_type": "execute_result"
    }
   ],
   "source": [
    "scaler = StandardScaler()\n",
    "df_webgl_array_scaled = scaler.fit_transform(df_webgl_array)\n",
    "df_webgl_array_scaled"
   ]
  },
  {
   "cell_type": "code",
   "execution_count": 14,
   "metadata": {},
   "outputs": [
    {
     "data": {
      "text/html": [
       "<div>\n",
       "<style scoped>\n",
       "    .dataframe tbody tr th:only-of-type {\n",
       "        vertical-align: middle;\n",
       "    }\n",
       "\n",
       "    .dataframe tbody tr th {\n",
       "        vertical-align: top;\n",
       "    }\n",
       "\n",
       "    .dataframe thead th {\n",
       "        text-align: right;\n",
       "    }\n",
       "</style>\n",
       "<table border=\"1\" class=\"dataframe\">\n",
       "  <thead>\n",
       "    <tr style=\"text-align: right;\">\n",
       "      <th></th>\n",
       "      <th>cpu_real</th>\n",
       "      <th>gpu_real</th>\n",
       "      <th>webgl_time</th>\n",
       "      <th>mem_mean_browser</th>\n",
       "      <th>mem_mean_gpu_process</th>\n",
       "      <th>mem_mean_renderer</th>\n",
       "    </tr>\n",
       "  </thead>\n",
       "  <tbody>\n",
       "    <tr>\n",
       "      <th>cpu_real</th>\n",
       "      <td>1.000000</td>\n",
       "      <td>0.495913</td>\n",
       "      <td>0.290098</td>\n",
       "      <td>0.148771</td>\n",
       "      <td>0.221780</td>\n",
       "      <td>0.176630</td>\n",
       "    </tr>\n",
       "    <tr>\n",
       "      <th>gpu_real</th>\n",
       "      <td>0.495913</td>\n",
       "      <td>1.000000</td>\n",
       "      <td>0.576790</td>\n",
       "      <td>0.098642</td>\n",
       "      <td>0.285163</td>\n",
       "      <td>0.105847</td>\n",
       "    </tr>\n",
       "    <tr>\n",
       "      <th>webgl_time</th>\n",
       "      <td>0.290098</td>\n",
       "      <td>0.576790</td>\n",
       "      <td>1.000000</td>\n",
       "      <td>0.051050</td>\n",
       "      <td>0.188295</td>\n",
       "      <td>0.054961</td>\n",
       "    </tr>\n",
       "    <tr>\n",
       "      <th>mem_mean_browser</th>\n",
       "      <td>0.148771</td>\n",
       "      <td>0.098642</td>\n",
       "      <td>0.051050</td>\n",
       "      <td>1.000000</td>\n",
       "      <td>0.175991</td>\n",
       "      <td>0.583540</td>\n",
       "    </tr>\n",
       "    <tr>\n",
       "      <th>mem_mean_gpu_process</th>\n",
       "      <td>0.221780</td>\n",
       "      <td>0.285163</td>\n",
       "      <td>0.188295</td>\n",
       "      <td>0.175991</td>\n",
       "      <td>1.000000</td>\n",
       "      <td>0.285396</td>\n",
       "    </tr>\n",
       "    <tr>\n",
       "      <th>mem_mean_renderer</th>\n",
       "      <td>0.176630</td>\n",
       "      <td>0.105847</td>\n",
       "      <td>0.054961</td>\n",
       "      <td>0.583540</td>\n",
       "      <td>0.285396</td>\n",
       "      <td>1.000000</td>\n",
       "    </tr>\n",
       "  </tbody>\n",
       "</table>\n",
       "</div>"
      ],
      "text/plain": [
       "                      cpu_real  gpu_real  webgl_time  mem_mean_browser   \n",
       "cpu_real              1.000000  0.495913    0.290098          0.148771  \\\n",
       "gpu_real              0.495913  1.000000    0.576790          0.098642   \n",
       "webgl_time            0.290098  0.576790    1.000000          0.051050   \n",
       "mem_mean_browser      0.148771  0.098642    0.051050          1.000000   \n",
       "mem_mean_gpu_process  0.221780  0.285163    0.188295          0.175991   \n",
       "mem_mean_renderer     0.176630  0.105847    0.054961          0.583540   \n",
       "\n",
       "                      mem_mean_gpu_process  mem_mean_renderer  \n",
       "cpu_real                          0.221780           0.176630  \n",
       "gpu_real                          0.285163           0.105847  \n",
       "webgl_time                        0.188295           0.054961  \n",
       "mem_mean_browser                  0.175991           0.583540  \n",
       "mem_mean_gpu_process              1.000000           0.285396  \n",
       "mem_mean_renderer                 0.285396           1.000000  "
      ]
     },
     "execution_count": 14,
     "metadata": {},
     "output_type": "execute_result"
    }
   ],
   "source": [
    "df_webgl_array.corr()"
   ]
  },
  {
   "cell_type": "code",
   "execution_count": 15,
   "metadata": {},
   "outputs": [
    {
     "data": {
      "text/plain": [
       "[<matplotlib.lines.Line2D at 0x7fcc6ca94550>]"
      ]
     },
     "execution_count": 15,
     "metadata": {},
     "output_type": "execute_result"
    },
    {
     "data": {
      "image/png": "[encoded data removed]",
      "text/plain": [
       "<Figure size 432x288 with 1 Axes>"
      ]
     },
     "metadata": {
      "needs_background": "light"
     },
     "output_type": "display_data"
    }
   ],
   "source": [
    "SSE = []\n",
    "RANGE = range(3, 13)\n",
    "for clusters in RANGE:\n",
    "    km = KMeans(n_clusters=clusters, n_init='auto', random_state=42).fit(df_webgl_array_scaled)\n",
    "    SSE.append(km.inertia_)\n",
    "SSE = np.array(SSE)\n",
    "plt.plot(RANGE, SSE, marker='o')"
   ]
  },
  {
   "cell_type": "code",
   "execution_count": 16,
   "metadata": {},
   "outputs": [
    {
     "data": {
      "text/plain": [
       "array([3607.54807554, 2787.37708433, 2921.82502752, 1239.91093406,\n",
       "        970.46019166,  947.19760995, 1081.96477089,  600.02344247,\n",
       "        452.59144894])"
      ]
     },
     "execution_count": 16,
     "metadata": {},
     "output_type": "execute_result"
    }
   ],
   "source": [
    "SSE[:-1] - SSE[1:]"
   ]
  },
  {
   "cell_type": "code",
   "execution_count": 17,
   "metadata": {},
   "outputs": [
    {
     "data": {
      "text/html": [
       "<div>\n",
       "<style scoped>\n",
       "    .dataframe tbody tr th:only-of-type {\n",
       "        vertical-align: middle;\n",
       "    }\n",
       "\n",
       "    .dataframe tbody tr th {\n",
       "        vertical-align: top;\n",
       "    }\n",
       "\n",
       "    .dataframe thead th {\n",
       "        text-align: right;\n",
       "    }\n",
       "</style>\n",
       "<table border=\"1\" class=\"dataframe\">\n",
       "  <thead>\n",
       "    <tr style=\"text-align: right;\">\n",
       "      <th></th>\n",
       "      <th>num</th>\n",
       "      <th>cpu_real</th>\n",
       "      <th>gpu_real</th>\n",
       "      <th>webgl_time</th>\n",
       "      <th>mem_mean_browser</th>\n",
       "      <th>mem_mean_gpu_process</th>\n",
       "      <th>mem_mean_renderer</th>\n",
       "    </tr>\n",
       "  </thead>\n",
       "  <tbody>\n",
       "    <tr>\n",
       "      <th>0</th>\n",
       "      <td>4422</td>\n",
       "      <td>-0.322984</td>\n",
       "      <td>-0.242282</td>\n",
       "      <td>-0.240866</td>\n",
       "      <td>-0.185967</td>\n",
       "      <td>-0.335756</td>\n",
       "      <td>-0.319571</td>\n",
       "    </tr>\n",
       "    <tr>\n",
       "      <th>1</th>\n",
       "      <td>1091</td>\n",
       "      <td>0.003077</td>\n",
       "      <td>-0.020661</td>\n",
       "      <td>-0.130890</td>\n",
       "      <td>0.284902</td>\n",
       "      <td>1.067465</td>\n",
       "      <td>0.893618</td>\n",
       "    </tr>\n",
       "    <tr>\n",
       "      <th>2</th>\n",
       "      <td>59</td>\n",
       "      <td>1.581572</td>\n",
       "      <td>7.304211</td>\n",
       "      <td>4.586176</td>\n",
       "      <td>0.214741</td>\n",
       "      <td>1.573971</td>\n",
       "      <td>0.400156</td>\n",
       "    </tr>\n",
       "    <tr>\n",
       "      <th>3</th>\n",
       "      <td>123</td>\n",
       "      <td>0.035292</td>\n",
       "      <td>0.178806</td>\n",
       "      <td>5.199270</td>\n",
       "      <td>-0.139751</td>\n",
       "      <td>0.165121</td>\n",
       "      <td>-0.199770</td>\n",
       "    </tr>\n",
       "    <tr>\n",
       "      <th>4</th>\n",
       "      <td>463</td>\n",
       "      <td>2.706606</td>\n",
       "      <td>1.318617</td>\n",
       "      <td>0.617474</td>\n",
       "      <td>-0.004665</td>\n",
       "      <td>0.300835</td>\n",
       "      <td>0.169855</td>\n",
       "    </tr>\n",
       "    <tr>\n",
       "      <th>5</th>\n",
       "      <td>76</td>\n",
       "      <td>0.978845</td>\n",
       "      <td>0.403609</td>\n",
       "      <td>0.158326</td>\n",
       "      <td>6.824596</td>\n",
       "      <td>0.908559</td>\n",
       "      <td>4.759726</td>\n",
       "    </tr>\n",
       "  </tbody>\n",
       "</table>\n",
       "</div>"
      ],
      "text/plain": [
       "    num  cpu_real  gpu_real  webgl_time  mem_mean_browser   \n",
       "0  4422 -0.322984 -0.242282   -0.240866         -0.185967  \\\n",
       "1  1091  0.003077 -0.020661   -0.130890          0.284902   \n",
       "2    59  1.581572  7.304211    4.586176          0.214741   \n",
       "3   123  0.035292  0.178806    5.199270         -0.139751   \n",
       "4   463  2.706606  1.318617    0.617474         -0.004665   \n",
       "5    76  0.978845  0.403609    0.158326          6.824596   \n",
       "\n",
       "   mem_mean_gpu_process  mem_mean_renderer  \n",
       "0             -0.335756          -0.319571  \n",
       "1              1.067465           0.893618  \n",
       "2              1.573971           0.400156  \n",
       "3              0.165121          -0.199770  \n",
       "4              0.300835           0.169855  \n",
       "5              0.908559           4.759726  "
      ]
     },
     "execution_count": 17,
     "metadata": {},
     "output_type": "execute_result"
    }
   ],
   "source": [
    "N = 6\n",
    "km = KMeans(n_clusters=N, n_init='auto', random_state=42).fit(df_webgl_array_scaled)\n",
    "center = km.cluster_centers_\n",
    "real_center = scaler.inverse_transform(center)\n",
    "# real_center_0_1 = (center - center.min(axis=0)) / (center.max(axis=0) - center.min(axis=0)) \n",
    "labels = km.labels_\n",
    "num = pd.Series(labels).value_counts().sort_index().astype(str)\n",
    "r = pd.concat([num, pd.DataFrame(center)], axis=1)\n",
    "r.columns = ['num'] + list(df_webgl_array.columns)\n",
    "r"
   ]
  },
  {
   "cell_type": "code",
   "execution_count": 18,
   "metadata": {},
   "outputs": [
    {
     "data": {
      "image/png": "[encoded data removed]",
      "text/plain": [
       "<Figure size 576x576 with 1 Axes>"
      ]
     },
     "metadata": {
      "needs_background": "light"
     },
     "output_type": "display_data"
    }
   ],
   "source": [
    "plt.figure(figsize=(8, 8))\n",
    "sns.heatmap(center.T, annot=real_center.T, fmt='.2f', cmap='Greens', xticklabels=num.values, yticklabels=df_webgl_array.columns, cbar=False) # type: ignore\n",
    "plt.savefig('./output/figures/heatmap.pdf', bbox_inches='tight')"
   ]
  },
  {
   "cell_type": "code",
   "execution_count": null,
   "metadata": {},
   "outputs": [],
   "source": []
  }
 ],
 "metadata": {
  "kernelspec": {
   "display_name": "Python 3",
   "language": "python",
   "name": "python3"
  },
  "language_info": {
   "codemirror_mode": {
    "name": "ipython",
    "version": 3
   },
   "file_extension": ".py",
   "mimetype": "text/x-python",
   "name": "python",
   "nbconvert_exporter": "python",
   "pygments_lexer": "ipython3",
   "version": "3.10.12"
  },
  "orig_nbformat": 4
 },
 "nbformat": 4,
 "nbformat_minor": 2
}
