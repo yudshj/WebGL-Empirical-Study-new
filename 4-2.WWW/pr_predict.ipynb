{
 "cells": [
  {
   "cell_type": "code",
   "execution_count": 1,
   "metadata": {},
   "outputs": [
    {
     "name": "stderr",
     "output_type": "stream",
     "text": [
      "2023-09-25 19:30:10.430980: I tensorflow/core/platform/cpu_feature_guard.cc:193] This TensorFlow binary is optimized with oneAPI Deep Neural Network Library (oneDNN) to use the following CPU instructions in performance-critical operations:  AVX2 FMA\n",
      "To enable them in other operations, rebuild TensorFlow with the appropriate compiler flags.\n",
      "2023-09-25 19:30:10.625640: E tensorflow/stream_executor/cuda/cuda_blas.cc:2981] Unable to register cuBLAS factory: Attempting to register factory for plugin cuBLAS when one has already been registered\n",
      "2023-09-25 19:30:11.302023: W tensorflow/stream_executor/platform/default/dso_loader.cc:64] Could not load dynamic library 'libnvinfer.so.7'; dlerror: libnvinfer.so.7: cannot open shared object file: No such file or directory\n",
      "2023-09-25 19:30:11.302132: W tensorflow/stream_executor/platform/default/dso_loader.cc:64] Could not load dynamic library 'libnvinfer_plugin.so.7'; dlerror: libnvinfer_plugin.so.7: cannot open shared object file: No such file or directory\n",
      "2023-09-25 19:30:11.302144: W tensorflow/compiler/tf2tensorrt/utils/py_utils.cc:38] TF-TRT Warning: Cannot dlopen some TensorRT libraries. If you would like to use Nvidia GPU with TensorRT, please make sure the missing libraries mentioned above are installed properly.\n"
     ]
    }
   ],
   "source": [
    "from pathlib import Path\n",
    "from sklearn.preprocessing import StandardScaler\n",
    "import pandas as pd\n",
    "import seaborn as sns\n",
    "import matplotlib\n",
    "from sklearn.cluster import KMeans #聚类模块\n",
    "from sklearn.metrics import silhouette_score\n",
    "import matplotlib.pyplot as plt\n",
    "import numpy as np\n",
    "from sklearn.model_selection import train_test_split\n",
    "import os\n",
    "os.environ['CUDA_VISIBLE_DEVICES'] = '0'\n",
    "os.environ['TF_FORCE_GPU_ALLOW_GROWTH'] = 'true'\n",
    "import tensorflow as tf\n",
    "\n",
    "devices = tf.config.experimental.list_physical_devices('GPU')\n",
    "for dev in devices:\n",
    "    tf.config.experimental.set_memory_growth(dev, True)"
   ]
  },
  {
   "cell_type": "code",
   "execution_count": 2,
   "metadata": {},
   "outputs": [],
   "source": [
    "df = pd.read_pickle('output/df_pr_hyd.pkl.zstd', compression='zstd')"
   ]
  },
  {
   "cell_type": "code",
   "execution_count": 47,
   "metadata": {},
   "outputs": [],
   "source": [
    "X = df.iloc[:, 7:]\n",
    "Y = df['frames_count'] / 600"
   ]
  },
  {
   "cell_type": "code",
   "execution_count": 80,
   "metadata": {},
   "outputs": [],
   "source": [
    "train_x, test_x, train_y, test_y = train_test_split(X, Y, test_size=0.2, random_state=0)\n",
    "# normalization\n",
    "mean = train_x.mean(axis=0)\n",
    "std = train_x.std(axis=0)\n",
    "train_x = (train_x - mean) / std\n",
    "test_x = (test_x - mean) / std\n",
    "train_x.fillna(0, inplace=True)\n",
    "test_x.fillna(0, inplace=True)"
   ]
  },
  {
   "cell_type": "code",
   "execution_count": 119,
   "metadata": {},
   "outputs": [],
   "source": [
    "def my_loss(y_true, y_pred):\n",
    "    return tf.reduce_mean(tf.square(y_true - y_pred) * tf.pow(tf.exp(1.0 - y_true), 2))"
   ]
  },
  {
   "cell_type": "code",
   "execution_count": 120,
   "metadata": {},
   "outputs": [],
   "source": [
    "model = tf.keras.Sequential([\n",
    "    tf.keras.layers.Dense(1000, activation='relu'),\n",
    "    tf.keras.layers.Dense(500, activation='relu'),\n",
    "    tf.keras.layers.Dense(100, activation='relu'),\n",
    "    tf.keras.layers.Dense(1, activation='sigmoid')\n",
    "])\n",
    "model.compile(optimizer='adam', loss=my_loss, metrics=['mae'])"
   ]
  },
  {
   "cell_type": "code",
   "execution_count": 121,
   "metadata": {},
   "outputs": [
    {
     "name": "stdout",
     "output_type": "stream",
     "text": [
      "Epoch 1/10\n",
      "503/503 [==============================] - 3s 5ms/step - loss: 0.0531 - mae: 0.0464 - val_loss: 0.0590 - val_mae: 0.0343\n",
      "Epoch 2/10\n",
      "503/503 [==============================] - 3s 5ms/step - loss: 0.0509 - mae: 0.0431 - val_loss: 0.0553 - val_mae: 0.0392\n",
      "Epoch 3/10\n",
      "503/503 [==============================] - 3s 5ms/step - loss: 0.0495 - mae: 0.0491 - val_loss: 0.0551 - val_mae: 0.0820\n",
      "Epoch 4/10\n",
      "503/503 [==============================] - 3s 5ms/step - loss: 0.0492 - mae: 0.0519 - val_loss: 0.0545 - val_mae: 0.0474\n",
      "Epoch 5/10\n",
      "503/503 [==============================] - 3s 5ms/step - loss: 0.0491 - mae: 0.0520 - val_loss: 0.0540 - val_mae: 0.0748\n",
      "Epoch 6/10\n",
      "503/503 [==============================] - 3s 5ms/step - loss: 0.0493 - mae: 0.0526 - val_loss: 0.0552 - val_mae: 0.0403\n",
      "Epoch 7/10\n",
      "503/503 [==============================] - 3s 5ms/step - loss: 0.0490 - mae: 0.0520 - val_loss: 0.0540 - val_mae: 0.0599\n",
      "Epoch 8/10\n",
      "503/503 [==============================] - 3s 5ms/step - loss: 0.0486 - mae: 0.0539 - val_loss: 0.0557 - val_mae: 0.0965\n",
      "Epoch 9/10\n",
      "503/503 [==============================] - 3s 5ms/step - loss: 0.0487 - mae: 0.0541 - val_loss: 0.0554 - val_mae: 0.0396\n",
      "Epoch 10/10\n",
      "503/503 [==============================] - 3s 5ms/step - loss: 0.0483 - mae: 0.0556 - val_loss: 0.0553 - val_mae: 0.0406\n"
     ]
    },
    {
     "data": {
      "text/plain": [
       "<keras.callbacks.History at 0x7f27284b1360>"
      ]
     },
     "execution_count": 121,
     "metadata": {},
     "output_type": "execute_result"
    }
   ],
   "source": [
    "model.fit(train_x, train_y, epochs=10, batch_size=8, validation_split=0.2, validation_freq=1, shuffle=True)"
   ]
  },
  {
   "cell_type": "code",
   "execution_count": 122,
   "metadata": {},
   "outputs": [
    {
     "name": "stdout",
     "output_type": "stream",
     "text": [
      "40/40 [==============================] - 0s 3ms/step - loss: 0.0623 - mae: 0.0417\n"
     ]
    },
    {
     "data": {
      "text/plain": [
       "[0.062254492193460464, 0.04169386252760887]"
      ]
     },
     "execution_count": 122,
     "metadata": {},
     "output_type": "execute_result"
    }
   ],
   "source": [
    "model.evaluate(test_x, test_y, batch_size=32)"
   ]
  },
  {
   "cell_type": "code",
   "execution_count": 123,
   "metadata": {},
   "outputs": [
    {
     "name": "stdout",
     "output_type": "stream",
     "text": [
      "40/40 [==============================] - 0s 2ms/step\n",
      "[0.9807277  0.9578245  0.9969393  ... 0.97326374 0.9544193  0.9721457 ]\n",
      "[0.99       0.995      0.985      ... 0.975      0.99       0.98833333]\n"
     ]
    }
   ],
   "source": [
    "#  print predict and ground truth\n",
    "pred_y = model.predict(test_x)\n",
    "print(pred_y.flatten())\n",
    "print(test_y.values)"
   ]
  },
  {
   "cell_type": "code",
   "execution_count": 124,
   "metadata": {},
   "outputs": [
    {
     "data": {
      "image/png": "[encoded data removed]",
      "text/plain": [
       "<Figure size 432x288 with 1 Axes>"
      ]
     },
     "metadata": {
      "needs_background": "light"
     },
     "output_type": "display_data"
    }
   ],
   "source": [
    "plt.plot(pred_y.flatten(), label='pred', alpha=0.5)\n",
    "plt.plot(test_y.values, label='truth', alpha=0.5)\n",
    "plt.legend()\n",
    "plt.show()"
   ]
  },
  {
   "cell_type": "code",
   "execution_count": null,
   "metadata": {},
   "outputs": [],
   "source": []
  }
 ],
 "metadata": {
  "kernelspec": {
   "display_name": "base",
   "language": "python",
   "name": "python3"
  },
  "language_info": {
   "codemirror_mode": {
    "name": "ipython",
    "version": 3
   },
   "file_extension": ".py",
   "mimetype": "text/x-python",
   "name": "python",
   "nbconvert_exporter": "python",
   "pygments_lexer": "ipython3",
   "version": "3.10.12"
  },
  "orig_nbformat": 4
 },
 "nbformat": 4,
 "nbformat_minor": 2
}
