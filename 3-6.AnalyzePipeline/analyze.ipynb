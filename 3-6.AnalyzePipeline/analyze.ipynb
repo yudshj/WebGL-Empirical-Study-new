{
 "cells": [
  {
   "cell_type": "code",
   "execution_count": 82,
   "metadata": {},
   "outputs": [],
   "source": [
    "import json\n",
    "import base64\n",
    "import gzip\n",
    "import os\n",
    "import shutil\n",
    "import copy\n",
    "from pathlib import Path\n",
    "from typing import Union\n",
    "from collections import defaultdict"
   ]
  },
  {
   "cell_type": "code",
   "execution_count": 83,
   "metadata": {},
   "outputs": [],
   "source": [
    "DRAW_COMMANDS = [\n",
    "    \"drawArrays\",\n",
    "    \"drawElements\",\n",
    "    \"drawArraysInstanced\",\n",
    "    \"drawArraysInstancedANGLE\",\n",
    "    \"drawElementsInstanced\",\n",
    "    \"drawElementsInstancedANGLE\",\n",
    "    \"drawRangeElements\",\n",
    "    \"multiDrawArraysWEBGL\",\n",
    "    \"multiDrawElementsWEBGL\",\n",
    "    \"multiDrawArraysInstancedWEBGL\",\n",
    "    \"multiDrawElementsInstancedWEBGL\",\n",
    "    \"multiDrawArraysInstancedBaseInstanceWEBGL\",\n",
    "    \"multiDrawElementsInstancedBaseVertexBaseInstanceWEBGL\",\n",
    "]\n",
    "\n",
    "STATES = [\n",
    "    \"BlendState\",\n",
    "    \"ColorState\",\n",
    "    \"CoverageState\",\n",
    "    \"CullState\",\n",
    "    \"DepthState\",\n",
    "    \"DrawState\",\n",
    "    \"PolygonOffsetState\",\n",
    "    \"ScissorState\",\n",
    "    \"StencilState\",\n",
    "    \"VisualState\",\n",
    "    \"DrawCall\"\n",
    "]\n",
    "\n",
    "PURGE_KEYS = [\n",
    "    'value',\n",
    "    'displayText',\n",
    "    # 'name'\n",
    "]"
   ]
  },
  {
   "cell_type": "code",
   "execution_count": 84,
   "metadata": {},
   "outputs": [],
   "source": [
    "def purge(co: Union[dict,list,int,str,float,bool,None]):\n",
    "    if co is None:\n",
    "        return None\n",
    "    if isinstance(co, (int, str, float, bool)):\n",
    "        return co\n",
    "    if isinstance(co, list):\n",
    "        return [purge(x) for x in co]\n",
    "    if isinstance(co, dict):\n",
    "        ret = {k: purge(v) for k, v in co.items() if k not in PURGE_KEYS and not k.startswith(\"__SPECTOR\") and 'CommandId' not in k}\n",
    "    return ret"
   ]
  },
  {
   "cell_type": "code",
   "execution_count": 85,
   "metadata": {},
   "outputs": [],
   "source": [
    "obj = json.load(gzip.open('output/TEST-0_0_0.json.gz', 'rt'))"
   ]
  },
  {
   "cell_type": "code",
   "execution_count": 86,
   "metadata": {},
   "outputs": [],
   "source": [
    "possible_pipelines = defaultdict(list)"
   ]
  },
  {
   "cell_type": "code",
   "execution_count": 87,
   "metadata": {},
   "outputs": [],
   "source": [
    "for cmd in obj['commands']:\n",
    "    if cmd['name'] in DRAW_COMMANDS:\n",
    "        possible_pipelines[cmd['name']].append(purge({k: cmd[k] for k in STATES}))"
   ]
  },
  {
   "cell_type": "code",
   "execution_count": 88,
   "metadata": {},
   "outputs": [
    {
     "data": {
      "text/plain": [
       "dict"
      ]
     },
     "execution_count": 88,
     "metadata": {},
     "output_type": "execute_result"
    }
   ],
   "source": [
    "type(possible_pipelines['drawElements'][0]['DrawCall']['uniforms'][0])"
   ]
  },
  {
   "cell_type": "code",
   "execution_count": 89,
   "metadata": {},
   "outputs": [],
   "source": [
    "possible_pipelines_set = defaultdict(set)"
   ]
  },
  {
   "cell_type": "code",
   "execution_count": 90,
   "metadata": {},
   "outputs": [],
   "source": [
    "for k, v in possible_pipelines.items():\n",
    "    for vv in v:\n",
    "        # possible_pipelines_set[k].add(json.dumps(vv, sort_keys=True, separators=(\",\", \":\"), indent=None))\n",
    "        possible_pipelines_set[k].add(json.dumps(vv, sort_keys=True, indent=4))"
   ]
  },
  {
   "cell_type": "code",
   "execution_count": 91,
   "metadata": {},
   "outputs": [
    {
     "name": "stdout",
     "output_type": "stream",
     "text": [
      "{'drawElements': 730, 'drawArraysInstanced': 144}\n",
      "{'drawElements': 38, 'drawArraysInstanced': 3}\n"
     ]
    }
   ],
   "source": [
    "print({k: len(v) for k, v in possible_pipelines.items()})\n",
    "print({k: len(v) for k, v in possible_pipelines_set.items()})"
   ]
  },
  {
   "cell_type": "code",
   "execution_count": 92,
   "metadata": {},
   "outputs": [],
   "source": [
    "shutil.rmtree('output/pipelines')\n",
    "os.mkdir('output/pipelines')\n",
    "\n",
    "for k, v in possible_pipelines_set.items():\n",
    "    for i, vv in enumerate(v):\n",
    "        with open(f'output/pipelines/{k}-{i}.json', 'wt') as f:\n",
    "            f.write(vv)"
   ]
  },
  {
   "cell_type": "code",
   "execution_count": null,
   "metadata": {},
   "outputs": [],
   "source": []
  }
 ],
 "metadata": {
  "kernelspec": {
   "display_name": "Python 3",
   "language": "python",
   "name": "python3"
  },
  "language_info": {
   "codemirror_mode": {
    "name": "ipython",
    "version": 3
   },
   "file_extension": ".py",
   "mimetype": "text/x-python",
   "name": "python",
   "nbconvert_exporter": "python",
   "pygments_lexer": "ipython3",
   "version": "3.9.6"
  },
  "orig_nbformat": 4
 },
 "nbformat": 4,
 "nbformat_minor": 2
}
