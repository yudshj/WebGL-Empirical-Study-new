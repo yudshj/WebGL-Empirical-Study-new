{
 "cells": [
  {
   "cell_type": "code",
   "execution_count": null,
   "metadata": {},
   "outputs": [],
   "source": [
    "import json\n",
    "import base64\n",
    "import gzip\n",
    "import os\n",
    "from pathlib import Path"
   ]
  },
  {
   "cell_type": "code",
   "execution_count": null,
   "metadata": {},
   "outputs": [],
   "source": [
    "for p in Path('../2-9.playwright/output/spector/').glob('*.json'):\n",
    "    idx = p.stem\n",
    "    d = json.loads(p.read_text())\n",
    "    for (fidx, frame) in enumerate(d['spector']):\n",
    "        for (cidx, context_string) in enumerate(frame['value']['data']):\n",
    "            b64_string = context_string[22:]\n",
    "            b64_bytes = base64.b64decode(b64_string)\n",
    "            # gzip_bytes = gzip.decompress(b64_bytes)\n",
    "            # gzip_string = gzip_bytes.decode('utf-8')\n",
    "            with open(f'output/{idx}_{fidx}_{cidx}.json.gz', 'wb') as fp:\n",
    "                fp.write(b64_bytes)"
   ]
  },
  {
   "cell_type": "code",
   "execution_count": null,
   "metadata": {},
   "outputs": [],
   "source": []
  }
 ],
 "metadata": {
  "kernelspec": {
   "display_name": "Python 3",
   "language": "python",
   "name": "python3"
  },
  "language_info": {
   "codemirror_mode": {
    "name": "ipython",
    "version": 3
   },
   "file_extension": ".py",
   "mimetype": "text/x-python",
   "name": "python",
   "nbconvert_exporter": "python",
   "pygments_lexer": "ipython3",
   "version": "3.9.6"
  },
  "orig_nbformat": 4
 },
 "nbformat": 4,
 "nbformat_minor": 2
}
