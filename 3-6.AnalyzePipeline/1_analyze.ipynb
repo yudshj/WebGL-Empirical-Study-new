{
 "cells": [
  {
   "cell_type": "code",
   "execution_count": null,
   "metadata": {},
   "outputs": [],
   "source": [
    "import json\n",
    "import base64\n",
    "import gzip\n",
    "import os\n",
    "import shutil\n",
    "import copy\n",
    "from pathlib import Path\n",
    "from typing import Union\n",
    "from collections import defaultdict"
   ]
  },
  {
   "cell_type": "code",
   "execution_count": null,
   "metadata": {},
   "outputs": [],
   "source": [
    "DRAW_COMMANDS = [\n",
    "    \"drawArrays\",\n",
    "    \"drawElements\",\n",
    "    \"drawArraysInstanced\",\n",
    "    \"drawArraysInstancedANGLE\",\n",
    "    \"drawElementsInstanced\",\n",
    "    \"drawElementsInstancedANGLE\",\n",
    "    \"drawRangeElements\",\n",
    "    \"multiDrawArraysWEBGL\",\n",
    "    \"multiDrawElementsWEBGL\",\n",
    "    \"multiDrawArraysInstancedWEBGL\",\n",
    "    \"multiDrawElementsInstancedWEBGL\",\n",
    "    \"multiDrawArraysInstancedBaseInstanceWEBGL\",\n",
    "    \"multiDrawElementsInstancedBaseVertexBaseInstanceWEBGL\",\n",
    "]\n",
    "\n",
    "STATES = [\n",
    "    \"BlendState\",\n",
    "    \"ColorState\",\n",
    "    \"CoverageState\",\n",
    "    \"CullState\",\n",
    "    \"DepthState\",\n",
    "    \"DrawState\",\n",
    "    \"PolygonOffsetState\",\n",
    "    \"ScissorState\",\n",
    "    \"StencilState\",\n",
    "    \"VisualState\",\n",
    "    \"DrawCall\"\n",
    "]\n",
    "\n",
    "PURGE_KEYS = [\n",
    "    'value',\n",
    "    'displayText',\n",
    "]"
   ]
  },
  {
   "cell_type": "code",
   "execution_count": null,
   "metadata": {},
   "outputs": [],
   "source": [
    "def purge(co: Union[dict,list,int,str,float,bool,None]):\n",
    "    if co is None:\n",
    "        return None\n",
    "    if isinstance(co, (int, str, float, bool)):\n",
    "        return co\n",
    "    if isinstance(co, list):\n",
    "        return [purge(x) for x in co]\n",
    "    if isinstance(co, dict):\n",
    "        ret = {k: purge(v) for k, v in co.items() if k not in PURGE_KEYS and not k.startswith(\"__SPECTOR\") and 'CommandId' not in k}\n",
    "    return ret"
   ]
  },
  {
   "cell_type": "code",
   "execution_count": null,
   "metadata": {},
   "outputs": [],
   "source": [
    "# obj = json.load(gzip.open('output/TEST-1_0_0.json.gz', 'rt'))\n",
    "\n",
    "for p in sorted(Path('output').glob('*.json.gz')):\n",
    "    obj = json.load(gzip.open(p, 'rt'))\n",
    "\n",
    "    possible_pipelines_count = defaultdict(int)\n",
    "    possible_pipelines_set = defaultdict(set)\n",
    "\n",
    "    for cmd in obj['commands']:\n",
    "        if cmd['name'] in DRAW_COMMANDS:\n",
    "            vv = purge({k: cmd[k] for k in STATES})\n",
    "            possible_pipelines_count[cmd['name']] += 1\n",
    "            possible_pipelines_set[cmd['name']].add(json.dumps(vv, sort_keys=True, separators=(\",\", \":\"), indent=None))\n",
    "    possible_pipelines_count_dedup = {k: len(v) for k, v in possible_pipelines_set.items()}\n",
    "    print(p)\n",
    "    print(\"Before de-dup:\", json.dumps(possible_pipelines_count, sort_keys=True, separators=(\",\", \":\"), indent=None))\n",
    "    print(\" After de-dup:\", json.dumps(possible_pipelines_count_dedup, sort_keys=True, separators=(\",\", \":\"), indent=None))"
   ]
  },
  {
   "cell_type": "code",
   "execution_count": null,
   "metadata": {},
   "outputs": [],
   "source": []
  }
 ],
 "metadata": {
  "kernelspec": {
   "display_name": "Python 3",
   "language": "python",
   "name": "python3"
  },
  "language_info": {
   "codemirror_mode": {
    "name": "ipython",
    "version": 3
   },
   "file_extension": ".py",
   "mimetype": "text/x-python",
   "name": "python",
   "nbconvert_exporter": "python",
   "pygments_lexer": "ipython3",
   "version": "3.9.6"
  },
  "orig_nbformat": 4
 },
 "nbformat": 4,
 "nbformat_minor": 2
}
