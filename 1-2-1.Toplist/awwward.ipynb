{
 "cells": [
  {
   "cell_type": "markdown",
   "source": [
    "```javascript\n",
    "fetch(\"https://www.awwwards.com/websites/webgl/?page=14\", {\n",
    "  \"headers\": {\n",
    "    \"accept\": \"application/json, text/plain, */*\",\n",
    "    \"accept-language\": \"zh-CN,zh;q=0.9,en-US;q=0.8,en;q=0.7\",\n",
    "    \"sec-ch-ua\": \"\\\"Not?A_Brand\\\";v=\\\"8\\\", \\\"Chromium\\\";v=\\\"108\\\", \\\"Google Chrome\\\";v=\\\"108\\\"\",\n",
    "    \"sec-ch-ua-mobile\": \"?0\",\n",
    "    \"sec-ch-ua-platform\": \"\\\"macOS\\\"\",\n",
    "    \"sec-fetch-dest\": \"empty\",\n",
    "    \"sec-fetch-mode\": \"cors\",\n",
    "    \"sec-fetch-site\": \"same-origin\",\n",
    "    \"x-requested-with\": \"XMLHttpRequest\"\n",
    "  },\n",
    "  \"referrer\": \"https://www.awwwards.com/websites/webgl/\",\n",
    "  \"referrerPolicy\": \"origin-when-cross-origin\",\n",
    "  \"body\": null,\n",
    "  \"method\": \"GET\",\n",
    "  \"mode\": \"cors\",\n",
    "  \"credentials\": \"include\"\n",
    "});\n",
    "fetch(\"https://www.awwwards.com/websites/webgl/?page=15\", {\n",
    "  \"headers\": {\n",
    "    \"accept\": \"application/json, text/plain, */*\",\n",
    "    \"accept-language\": \"zh-CN,zh;q=0.9,en-US;q=0.8,en;q=0.7\",\n",
    "    \"sec-ch-ua\": \"\\\"Not?A_Brand\\\";v=\\\"8\\\", \\\"Chromium\\\";v=\\\"108\\\", \\\"Google Chrome\\\";v=\\\"108\\\"\",\n",
    "    \"sec-ch-ua-mobile\": \"?0\",\n",
    "    \"sec-ch-ua-platform\": \"\\\"macOS\\\"\",\n",
    "    \"sec-fetch-dest\": \"empty\",\n",
    "    \"sec-fetch-mode\": \"cors\",\n",
    "    \"sec-fetch-site\": \"same-origin\",\n",
    "    \"x-requested-with\": \"XMLHttpRequest\"\n",
    "  },\n",
    "  \"referrer\": \"https://www.awwwards.com/websites/webgl/\",\n",
    "  \"referrerPolicy\": \"origin-when-cross-origin\",\n",
    "  \"body\": null,\n",
    "  \"method\": \"GET\",\n",
    "  \"mode\": \"cors\",\n",
    "  \"credentials\": \"include\"\n",
    "});\n",
    "```"
   ],
   "metadata": {
    "collapsed": false
   }
  },
  {
   "cell_type": "code",
   "execution_count": 1,
   "outputs": [],
   "source": [
    "import requests"
   ],
   "metadata": {
    "collapsed": false
   }
  },
  {
   "cell_type": "code",
   "execution_count": null,
   "outputs": [],
   "source": [],
   "metadata": {
    "collapsed": false
   }
  }
 ],
 "metadata": {
  "kernelspec": {
   "display_name": "Python 3",
   "language": "python",
   "name": "python3"
  },
  "language_info": {
   "codemirror_mode": {
    "name": "ipython",
    "version": 2
   },
   "file_extension": ".py",
   "mimetype": "text/x-python",
   "name": "python",
   "nbconvert_exporter": "python",
   "pygments_lexer": "ipython2",
   "version": "2.7.6"
  }
 },
 "nbformat": 4,
 "nbformat_minor": 0
}
