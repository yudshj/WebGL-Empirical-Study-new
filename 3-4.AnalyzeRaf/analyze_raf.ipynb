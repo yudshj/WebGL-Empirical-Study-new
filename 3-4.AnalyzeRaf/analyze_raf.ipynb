{
 "cells": [
  {
   "cell_type": "code",
   "execution_count": 1,
   "metadata": {},
   "outputs": [],
   "source": [
    "import pandas as pd\n",
    "import zstandard as zstd\n",
    "import pickle as pkl\n",
    "import json\n",
    "from pathlib import Path"
   ]
  },
  {
   "cell_type": "code",
   "execution_count": 2,
   "metadata": {},
   "outputs": [],
   "source": [
    "# const GLenum POINTS                         = 0x0000;\n",
    "# const GLenum LINES                          = 0x0001;\n",
    "# const GLenum LINE_LOOP                      = 0x0002;\n",
    "# const GLenum LINE_STRIP                     = 0x0003;\n",
    "# const GLenum TRIANGLES                      = 0x0004;\n",
    "# const GLenum TRIANGLE_STRIP                 = 0x0005;\n",
    "# const GLenum TRIANGLE_FAN                   = 0x0006;"
   ]
  },
  {
   "cell_type": "code",
   "execution_count": 3,
   "metadata": {},
   "outputs": [],
   "source": [
    "raf_path = Path('../2-3.seleniumCrawler/output/raf')"
   ]
  },
  {
   "cell_type": "code",
   "execution_count": 4,
   "metadata": {},
   "outputs": [],
   "source": [
    "trace_path_list = sorted((raf_path / 'pickle').glob('*.pkl.zstd'))\n",
    "df_traces = pd.DataFrame([pkl.load(zstd.open(x, 'rb')) for x in trace_path_list], index=[x.name for x in trace_path_list])\n",
    "# rename index to filename\n",
    "df_traces.index.name = 'filename'\n",
    "df_traces.rename(columns={'gl_info': 'gl_info_raf'}, inplace=True)"
   ]
  },
  {
   "cell_type": "code",
   "execution_count": 5,
   "metadata": {},
   "outputs": [],
   "source": [
    "df_traces_status = pd.DataFrame(list(df_traces['status']), index=df_traces.index, dtype='string')\n",
    "df_traces_status = df_traces_status.add_prefix('status-')\n",
    "df_traces.drop(columns=['status'], inplace=True)\n",
    "df_traces = df_traces.merge(df_traces_status, left_index=True, right_index=True)"
   ]
  },
  {
   "cell_type": "code",
   "execution_count": 6,
   "metadata": {},
   "outputs": [],
   "source": [
    "tmp = df_traces['gl_info_raf'].dropna(inplace=False)\n",
    "df_url = pd.DataFrame(tmp.to_list(), index=tmp.index).drop(columns=['url'])\n",
    "df_url = df_traces.drop(columns=['gl_info_raf']).merge(df_url, how='left', left_index=True, right_index=True)\n",
    "df_url.reset_index(inplace=True)"
   ]
  },
  {
   "cell_type": "code",
   "execution_count": 7,
   "metadata": {},
   "outputs": [],
   "source": [
    "df_url.rename(columns={\n",
    "    'filename': 'trace-filename',\n",
    "    'url': 'trace-url',\n",
    "    'start_time': 'trace-start_time',\n",
    "    'duration': 'trace-duration',\n",
    "    'har': 'trace-har',\n",
    "    'accessTime': 'url-accessTime',\n",
    "    'rafFuncCountList': 'url-rafFuncCountList',\n",
    "    'title': 'url-title',\n",
    "    'usedOffScreenCanvas': 'url-usedOffScreenCanvas',\n",
    "    'when': 'url-when',\n",
    "    'whenDomContentLoadedEvent': 'url-whenDomContentLoadedEvent',\n",
    "    'whenLoadEvent': 'url-whenLoadEvent',\n",
    "    'whenUsedWebgl': 'url-whenUsedWebgl',\n",
    "}, inplace=True)"
   ]
  },
  {
   "cell_type": "code",
   "execution_count": 8,
   "metadata": {},
   "outputs": [],
   "source": [
    "df_exploded = df_url.explode('contextInfo').dropna(subset=['contextInfo'])\n",
    "df_context = pd.DataFrame(list(df_exploded['contextInfo']), index=df_exploded.index).drop(columns=['triangleCount']).add_prefix('context-')\n",
    "df_url.drop(columns=['contextInfo'], inplace=True)\n",
    "df_context = df_url.merge(df_context, how='left', left_index=True, right_index=True)\n",
    "df_context.reset_index(inplace=True, drop=True)"
   ]
  },
  {
   "cell_type": "code",
   "execution_count": 9,
   "metadata": {},
   "outputs": [],
   "source": [
    "tmp = df_context['context-maghsk'].dropna(inplace=False)\n",
    "df_maghsk = pd.DataFrame(tmp.to_list(), index=tmp.index).add_prefix('context-maghsk-')\n",
    "tmp = df_context['context-memoryInfo'].dropna(inplace=False)\n",
    "df_memory = pd.DataFrame(tmp.to_list(), index=tmp.index).add_prefix('context-mem-')\n",
    "tmp = df_context['context-contextAttributes'].dropna(inplace=False)\n",
    "df_ctxattr = pd.DataFrame(tmp.to_list(), index=tmp.index).add_prefix('context-attributes-')\n",
    "\n",
    "df_context = df_context.drop(columns=['context-maghsk']).merge(df_maghsk, how='left', left_index=True, right_index=True)\n",
    "df_context = df_context.drop(columns=['context-memoryInfo']).merge(df_memory, how='left', left_index=True, right_index=True)\n",
    "df_context = df_context.drop(columns=['context-contextAttributes']).merge(df_ctxattr, how='left', left_index=True, right_index=True)"
   ]
  },
  {
   "cell_type": "code",
   "execution_count": 10,
   "metadata": {},
   "outputs": [],
   "source": [
    "df_context = df_context.astype({\n",
    "    'trace-filename' : 'string',\n",
    "    'trace-url' : 'string',\n",
    "    'trace-start_time' : 'Float64',\n",
    "    'trace-duration' : 'Float64',\n",
    "    'trace-har' : 'object',\n",
    "    'url-accessTime' : 'Float64',\n",
    "    'url-rafFuncCountList' : 'object',\n",
    "    'url-title' : 'string',\n",
    "    'url-usedOffScreenCanvas' : 'boolean',\n",
    "    'url-when' : 'Float64',\n",
    "    'url-whenDomContentLoadedEvent' : 'Float64',\n",
    "    'url-whenLoadEvent' : 'Float64',\n",
    "    'url-whenUsedWebgl' : 'Float64',\n",
    "    'context-canvasContained' : 'boolean',\n",
    "    'context-canvasHidden' : 'boolean',\n",
    "    'context-canvasSize' : 'object',\n",
    "    'context-capturedFunctionsLength' : 'Float64',\n",
    "    'context-extensions' : 'object',\n",
    "    'context-programInfo' : 'object',\n",
    "    'context-vertexCount' : 'Float64',\n",
    "    'context-maghsk-counter' : 'object',\n",
    "    'context-maghsk-createArguments' : 'object',\n",
    "    'context-maghsk-createTime' : 'Float64',\n",
    "    'context-maghsk-rafList' : 'object',\n",
    "    'context-maghsk-pixelsRead' : 'Float64',\n",
    "    'context-mem-memory' : 'object',\n",
    "    'context-mem-resources' : 'object',\n",
    "    'context-attributes-alpha' : 'boolean',\n",
    "    'context-attributes-antialias' : 'boolean',\n",
    "    'context-attributes-depth' : 'boolean',\n",
    "    'context-attributes-desynchronized' : 'boolean',\n",
    "    'context-attributes-failIfMajorPerformanceCaveat' : 'boolean',\n",
    "    'context-attributes-powerPreference' : 'string',\n",
    "    'context-attributes-premultipliedAlpha' : 'boolean',\n",
    "    'context-attributes-preserveDrawingBuffer' : 'boolean',\n",
    "    'context-attributes-stencil' : 'boolean',\n",
    "    'context-attributes-xrCompatible' : 'boolean',\n",
    "})"
   ]
  },
  {
   "cell_type": "code",
   "execution_count": 11,
   "metadata": {},
   "outputs": [],
   "source": [
    "tmp = df_context['context-maghsk-counter'].dropna(inplace=False)\n",
    "df_maghsk = pd.DataFrame(tmp.to_list(), index=tmp.index).add_prefix('context-maghsk-counter-')\n",
    "tmp = df_context['context-mem-memory'].dropna(inplace=False)\n",
    "df_memory = pd.DataFrame(tmp.to_list(), index=tmp.index).add_prefix('context-mem-memory-')\n",
    "tmp = df_context['context-mem-resources'].dropna(inplace=False)\n",
    "df_ctxattr = pd.DataFrame(tmp.to_list(), index=tmp.index).add_prefix('context-mem-resources-')\n",
    "\n",
    "df_context = df_context.drop(columns=['context-maghsk-counter']).merge(df_maghsk, how='left', left_index=True, right_index=True)\n",
    "df_context = df_context.drop(columns=['context-mem-memory']).merge(df_memory, how='left', left_index=True, right_index=True)\n",
    "df_context = df_context.drop(columns=['context-mem-resources']).merge(df_ctxattr, how='left', left_index=True, right_index=True)"
   ]
  },
  {
   "cell_type": "code",
   "execution_count": 12,
   "metadata": {},
   "outputs": [],
   "source": [
    "# context-maghsk-counter-funcCount\tcontext-maghsk-counter-semanticVertexCalled\tcontext-maghsk-counter-semanticVertexCount\n",
    "\n",
    "tmp = df_context['context-maghsk-counter-semanticVertexCalled'].dropna(inplace=False)\n",
    "df_memory = pd.DataFrame(tmp.to_list(), index=tmp.index)[['0','1','2','3','4','5','6']].add_prefix('context-maghsk-counter-vertex_call-')\n",
    "tmp = df_context['context-maghsk-counter-semanticVertexCount'].dropna(inplace=False)\n",
    "df_ctxattr = pd.DataFrame(tmp.to_list(), index=tmp.index)[['0','1','2','3','4','5','6']].add_prefix('context-maghsk-counter-vertex_count-')\n",
    "tmp = df_context['context-maghsk-counter-funcCount'].dropna(inplace=False)\n",
    "df_maghsk = pd.DataFrame(tmp.to_list(), index=tmp.index).add_prefix('context-maghsk-counter-funcCount-')\n",
    "\n",
    "df_context = df_context.drop(columns=['context-maghsk-counter-semanticVertexCalled']).merge(df_memory, how='left', left_index=True, right_index=True)\n",
    "df_context = df_context.drop(columns=['context-maghsk-counter-semanticVertexCount']).merge(df_ctxattr, how='left', left_index=True, right_index=True)\n",
    "df_context = df_context.drop(columns=['context-maghsk-counter-funcCount']).merge(df_maghsk, how='left', left_index=True, right_index=True)"
   ]
  },
  {
   "cell_type": "code",
   "execution_count": 13,
   "metadata": {},
   "outputs": [],
   "source": [
    "df_exploded = df_context.explode('context-programInfo').dropna(subset=['context-programInfo'])\n",
    "df_program = pd.DataFrame(list(df_exploded['context-programInfo']), index=df_exploded.index).add_prefix('context-program-')\n",
    "df_context.drop(columns=['context-programInfo'], inplace=True)\n",
    "df_program = df_context.merge(df_program, how='left', left_index=True, right_index=True)\n",
    "df_program.reset_index(inplace=True, drop=False)\n",
    "df_program.rename(columns={'index':'context-program-context_id'}, inplace=True)"
   ]
  },
  {
   "cell_type": "code",
   "execution_count": 14,
   "metadata": {},
   "outputs": [],
   "source": [
    "df_url.to_excel('output/0414-raf_url.xlsx', index=True)\n",
    "df_context.to_excel('output/0414-raf_context.xlsx', index=True)"
   ]
  },
  {
   "cell_type": "code",
   "execution_count": 15,
   "metadata": {},
   "outputs": [],
   "source": [
    "df_program.to_excel('output/0414-raf_program.xlsx', index=True)"
   ]
  }
 ],
 "metadata": {
  "kernelspec": {
   "display_name": "Python 3",
   "language": "python",
   "name": "python3"
  },
  "language_info": {
   "codemirror_mode": {
    "name": "ipython",
    "version": 3
   },
   "file_extension": ".py",
   "mimetype": "text/x-python",
   "name": "python",
   "nbconvert_exporter": "python",
   "pygments_lexer": "ipython3",
   "version": "3.10.10"
  },
  "orig_nbformat": 4
 },
 "nbformat": 4,
 "nbformat_minor": 2
}
