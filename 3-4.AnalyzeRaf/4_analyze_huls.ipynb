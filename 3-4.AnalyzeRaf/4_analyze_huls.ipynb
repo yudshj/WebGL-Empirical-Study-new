{
 "cells": [
  {
   "cell_type": "code",
   "execution_count": null,
   "metadata": {
    "ExecuteTime": {
     "end_time": "2023-04-17T12:08:44.405111Z",
     "start_time": "2023-04-17T12:08:44.393738Z"
    }
   },
   "outputs": [],
   "source": [
    "import pandas as pd\n",
    "import json\n",
    "import numpy as np\n",
    "import matplotlib.pyplot as plt\n",
    "from pathlib import Path\n",
    "import seaborn as sns\n",
    "from typing import Literal\n",
    "from collections import defaultdict\n",
    "\n",
    "sns.set_context(\"notebook\")\n",
    "sns.set_palette(\"deep\")\n",
    "color_palette = sns.color_palette()\n",
    "color_palette"
   ]
  },
  {
   "cell_type": "code",
   "execution_count": null,
   "metadata": {
    "ExecuteTime": {
     "end_time": "2023-04-17T12:08:45.753704Z",
     "start_time": "2023-04-17T12:08:45.721257Z"
    }
   },
   "outputs": [],
   "source": [
    "FDF_GRAIN_SIZE: Literal[\"url\", \"context\", \"program\"] = \"url\""
   ]
  },
  {
   "cell_type": "code",
   "execution_count": null,
   "metadata": {
    "ExecuteTime": {
     "end_time": "2023-04-17T12:08:47.100741Z",
     "start_time": "2023-04-17T12:08:47.071806Z"
    }
   },
   "outputs": [],
   "source": [
    "OUT_PATH = Path('output')\n",
    "IN_PATH = Path('input')"
   ]
  },
  {
   "cell_type": "code",
   "execution_count": null,
   "metadata": {
    "ExecuteTime": {
     "end_time": "2023-04-17T12:09:21.030477Z",
     "start_time": "2023-04-17T12:09:19.507917Z"
    },
    "collapsed": false
   },
   "outputs": [],
   "source": [
    "df_raw = pd.read_pickle('output/0417-raf_final.pkl.zstd', compression='zstd')"
   ]
  },
  {
   "cell_type": "code",
   "execution_count": null,
   "metadata": {
    "ExecuteTime": {
     "end_time": "2023-04-17T12:17:01.221702Z",
     "start_time": "2023-04-17T12:17:01.165460Z"
    },
    "collapsed": false
   },
   "outputs": [],
   "source": [
    "idx = (((df_raw['when_webgl'].notna()) | (df_raw['trace_status'] == 'Ok')) & ~(df_raw['raf'] == True) & (df_raw['label_ERROR'].isnull()))\n",
    "df_raw[idx]"
   ]
  },
  {
   "cell_type": "code",
   "execution_count": null,
   "metadata": {},
   "outputs": [],
   "source": [
    "def expand_and_merge(df_raw, col_name, prefix='', explode=False):\n",
    "    if explode:\n",
    "        df_tmp = df_raw[col_name].dropna().explode().dropna()\n",
    "    else:\n",
    "        df_tmp = df_raw[col_name].dropna()\n",
    "\n",
    "    df_expand = pd.DataFrame(df_tmp.to_list(), index=df_tmp.index)\n",
    "    df_ret = df_raw.drop(columns=[col_name]).merge(df_expand.add_prefix(prefix), left_index=True, right_index=True)\n",
    "    return df_ret"
   ]
  },
  {
   "cell_type": "code",
   "execution_count": null,
   "metadata": {},
   "outputs": [],
   "source": [
    "# df_raw = pd.read_pickle(IN_PATH / 'df-all-merged-1.pkl.zstd', compression='zstd')\n",
    "# df_huls = df_raw[df_raw.gl_info.apply(lambda x: x['whenUsedWebgl'] is not None if x is not None else False)].copy()\n",
    "df_gl_info = expand_and_merge(df_raw[['url', 'category', 'duration', 'gl_info_raf']], 'gl_info_raf', 'raf-', explode=False)\n",
    "df_gl_info"
   ]
  },
  {
   "cell_type": "code",
   "execution_count": null,
   "metadata": {},
   "outputs": [],
   "source": [
    "df_context = expand_and_merge(df_gl_info, 'raf-contextInfo', 'context-', explode=True)\n",
    "df_context.index.name = 'index-url'\n",
    "df_context.reset_index(inplace=True)\n",
    "df_context.index.name = 'index-context'\n",
    "df_context"
   ]
  },
  {
   "cell_type": "code",
   "execution_count": null,
   "metadata": {},
   "outputs": [],
   "source": [
    "df_context = expand_and_merge(df_context, 'context-contextAttributes', 'context-contextAttributes-')\n",
    "df_context = expand_and_merge(df_context, 'context-maghsk', 'context-maghsk-')\n",
    "df_context = expand_and_merge(df_context, 'context-memoryInfo', 'context-memoryInfo-')\n",
    "\n",
    "df_context = expand_and_merge(df_context, 'context-maghsk-counter', 'context-maghsk-counter-')\n",
    "df_context = expand_and_merge(df_context, 'context-memoryInfo-memory', 'context-memoryInfo-memory-')\n",
    "df_context = expand_and_merge(df_context, 'context-memoryInfo-resources', 'context-memoryInfo-resources-')\n",
    "\n",
    "df_context['context-type'] = df_context['context-maghsk-createArguments'].str[0]"
   ]
  },
  {
   "cell_type": "code",
   "execution_count": null,
   "metadata": {},
   "outputs": [],
   "source": [
    "df_context.loc[0].apply(lambda x: type(x)).to_dict()"
   ]
  },
  {
   "cell_type": "code",
   "execution_count": null,
   "metadata": {},
   "outputs": [],
   "source": [
    "canvas_length = df_context.groupby('index-url')['url'].count()\n",
    "canvas_length"
   ]
  },
  {
   "attachments": {},
   "cell_type": "markdown",
   "metadata": {},
   "source": [
    "Figure out why a webpage contains more than one canvas. List some urls and their canvas counts."
   ]
  },
  {
   "cell_type": "code",
   "execution_count": null,
   "metadata": {},
   "outputs": [],
   "source": [
    "# context length > 1\n",
    "df_gl_info.loc[canvas_length[canvas_length > 1].index]"
   ]
  },
  {
   "cell_type": "markdown",
   "metadata": {},
   "source": [
    "# In other words, could we detect the pattern of an empty canvas?"
   ]
  },
  {
   "cell_type": "code",
   "execution_count": null,
   "metadata": {},
   "outputs": [],
   "source": [
    "# tmp = df_raw[df_raw['url'] == 'http://sonorannews.com'].gl_info.iloc[0]\n",
    "# open(OUT_PATH / 'example' / 'tmp.json', 'w').write(json.dumps(tmp, indent=2))"
   ]
  },
  {
   "attachments": {},
   "cell_type": "markdown",
   "metadata": {},
   "source": [
    "# canvas sizes"
   ]
  },
  {
   "cell_type": "code",
   "execution_count": null,
   "metadata": {},
   "outputs": [],
   "source": [
    "df_context.dtypes.to_dict()"
   ]
  },
  {
   "cell_type": "code",
   "execution_count": null,
   "metadata": {},
   "outputs": [],
   "source": [
    "canvas_sizes = df_context['context-canvasSize'].dropna().to_list()\n",
    "# plot the distribution of canvas size( as scatter plot)\n",
    "plt.scatter([x[0] for x in canvas_sizes], [x[1] for x in canvas_sizes], s=1)\n",
    "plt.xlim(0, 3200)\n",
    "plt.ylim(0, 1800)\n",
    "plt.show()\n",
    "# count the canvas which size is larger than 3200x1800\n",
    "len([x for x in canvas_sizes if x[0] > 3200 or x[1] > 1800])"
   ]
  },
  {
   "cell_type": "code",
   "execution_count": null,
   "metadata": {},
   "outputs": [],
   "source": [
    "import re\n",
    "def remove_whitespaces(s: str):\n",
    "    return re.sub(r'\\s+', '', s)"
   ]
  },
  {
   "cell_type": "code",
   "execution_count": null,
   "metadata": {},
   "outputs": [],
   "source": [
    "remove_whitespaces(\"t est\\nHelloworl d\")"
   ]
  },
  {
   "cell_type": "code",
   "execution_count": null,
   "metadata": {},
   "outputs": [],
   "source": [
    "df_program = expand_and_merge(df_context, 'context-programInfo', 'program-', explode=True)\n",
    "df_program.reset_index(inplace=True)\n",
    "df_program.index.name = 'index-program'\n",
    "df_program"
   ]
  },
  {
   "cell_type": "code",
   "execution_count": null,
   "metadata": {},
   "outputs": [],
   "source": [
    "df_vert_shaders = pd.DataFrame({'shader_source': df_program['program-vertexShaders'].explode().explode(), 'shader_type': 'vertex'})\n",
    "df_frag_shaders = pd.DataFrame({'shader_source': df_program['program-fragmentShaders'].explode().explode(), 'shader_type': 'fragment'})\n",
    "df_shaders = df_program.drop(columns=['program-vertexShaders', 'program-fragmentShaders']).merge(pd.concat([df_vert_shaders, df_frag_shaders], ignore_index=False), left_index=True, right_index=True)\n",
    "df_shaders.dropna(subset=['shader_source'], inplace=True)\n",
    "df_shaders.reset_index(inplace=True)\n",
    "df_shaders.index.name = 'index-shader'\n",
    "df_shaders['shader_length'] = df_shaders['shader_source'].str.len()\n",
    "\n",
    "assert (df_shaders['shader_source'].apply(lambda x: type(x)) == str).all()\n",
    "# df_shaders[df_shaders['shader_source'].apply(lambda x: type(x)) != str]"
   ]
  },
  {
   "attachments": {},
   "cell_type": "markdown",
   "metadata": {},
   "source": [
    "# Flatten ContextInfos"
   ]
  },
  {
   "cell_type": "code",
   "execution_count": null,
   "metadata": {},
   "outputs": [],
   "source": [
    "# # fcontext_infos = [flatten_ctx_info(x) for x in context_infos]\n",
    "# fcontext_infos = []\n",
    "# fdf_columns = set()\n",
    "# for x in context_infos:\n",
    "#     fcontext_infos.append(flatten_ctx_info(x))\n",
    "#     fdf_columns.update(flatten_ctx_info(x).keys())\n",
    "\n",
    "# fdf = pd.DataFrame(fcontext_infos)\n",
    "# # zip column name with dtype\n",
    "# for x in fdf.columns.tolist():\n",
    "#     print(x, fdf[x].dtype)"
   ]
  },
  {
   "cell_type": "code",
   "execution_count": null,
   "metadata": {},
   "outputs": [],
   "source": [
    "# fdf.fillna(0, inplace=True)\n",
    "# print((len(fdf[fdf['total_func_call'] == 0])))\n",
    "# fdf_url = fdf.groupby('url').aggregate(np.sum)\n",
    "# fdf = fdf[fdf['total_func_call'] > 0]\n",
    "# fdf_url[fdf_url['total_func_call'] == 0].to_csv(OUT_PATH / 'total_func_call_0.csv')\n",
    "# fdf_url[fdf_url['shader_count'] == 0].to_csv(OUT_PATH / 'shader_count_0.csv')\n",
    "# fdf_url[fdf_url['program_count'] == 1].to_csv(OUT_PATH / 'program_count_1.csv')\n",
    "# fdf_url[fdf_url['_memory_total'] == 0].to_csv(OUT_PATH / '_memory_total_0.csv')\n",
    "# fdf_url = fdf_url[fdf_url['total_func_call'] > 0]\n",
    "# fdf"
   ]
  },
  {
   "cell_type": "code",
   "execution_count": null,
   "metadata": {},
   "outputs": [],
   "source": [
    "# len(fdf.url.unique())"
   ]
  },
  {
   "attachments": {},
   "cell_type": "markdown",
   "metadata": {},
   "source": [
    "# Context Type"
   ]
  },
  {
   "cell_type": "code",
   "execution_count": null,
   "metadata": {},
   "outputs": [],
   "source": [
    "df_shaders.dtypes.to_dict()"
   ]
  },
  {
   "cell_type": "code",
   "execution_count": null,
   "metadata": {},
   "outputs": [],
   "source": [
    "fig, axes = plt.subplots(figsize=(14, 5))\n",
    "\n",
    "sns.countplot(y='context-type', data=df_shaders, ax=axes)\n",
    "axes.set_xlabel('Count')\n",
    "axes.set_ylabel('contextType')\n",
    "\n",
    "for rect in axes.patches:\n",
    "    axes.annotate(f'{rect.get_width()/len(df_shaders)*100:.1f}%', \n",
    "                        (rect.get_width(), rect.get_y() + rect.get_height() / 2),\n",
    "                        ha='left', va='center')\n",
    "\n",
    "plt.tight_layout()\n",
    "plt.show()"
   ]
  },
  {
   "attachments": {},
   "cell_type": "markdown",
   "metadata": {},
   "source": [
    "# Power Preference"
   ]
  },
  {
   "cell_type": "code",
   "execution_count": null,
   "metadata": {},
   "outputs": [],
   "source": [
    "fig, axes = plt.subplots(figsize=(14, 5))\n",
    "\n",
    "sns.countplot(y='context-contextAttributes-powerPreference', data=df_context, ax=axes)\n",
    "axes.set_xlabel('Count')\n",
    "axes.set_ylabel('context-contextAttributes-powerPreference')\n",
    "\n",
    "for rect in axes.patches:\n",
    "    axes.annotate(f'{rect.get_width()/len(df_context)*100:.1f}%', \n",
    "                        (rect.get_width(), rect.get_y() + rect.get_height() / 2),\n",
    "                        ha='left', va='center')\n",
    "\n",
    "plt.tight_layout()\n",
    "plt.show()"
   ]
  },
  {
   "attachments": {},
   "cell_type": "markdown",
   "metadata": {},
   "source": [
    "# Context Attrib"
   ]
  },
  {
   "cell_type": "code",
   "execution_count": null,
   "metadata": {},
   "outputs": [],
   "source": [
    "fig, axes = plt.subplots(nrows=2, ncols=2, figsize=(18, 8))\n",
    "\n",
    "sns.countplot(y='context-contextAttributes-depth', data=df_context, ax=axes[0,0])\n",
    "axes[0,0].set_xlabel('Count')\n",
    "axes[0,0].set_ylabel('context-contextAttributes-depth')\n",
    "\n",
    "sns.countplot(y='context-contextAttributes-antialias', data=df_context, ax=axes[0,1])\n",
    "axes[0,1].set_xlabel('Count')\n",
    "axes[0,1].set_ylabel('context-contextAttributes-antialias')\n",
    "\n",
    "sns.countplot(y='context-contextAttributes-stencil', data=df_context, ax=axes[1,0])\n",
    "axes[1,0].set_xlabel('Count')\n",
    "axes[1,0].set_ylabel('context-contextAttributes-stencil')\n",
    "\n",
    "sns.countplot(y='context-contextAttributes-alpha', data=df_context, ax=axes[1,1])\n",
    "axes[1,1].set_xlabel('Count')\n",
    "axes[1,1].set_ylabel('context-contextAttributes-alpha')\n",
    "\n",
    "for x in range(2):\n",
    "    for y in range(2):\n",
    "        for rect in axes[x,y].patches:\n",
    "            axes[x,y].annotate(f'{rect.get_width()/len(df_context)*100:.1f}%', \n",
    "                                (rect.get_width(), rect.get_y() + rect.get_height() / 2),\n",
    "                                ha='left', va='center')\n",
    "\n",
    "plt.tight_layout()\n",
    "plt.show()"
   ]
  },
  {
   "cell_type": "code",
   "execution_count": null,
   "metadata": {},
   "outputs": [],
   "source": [
    "# (fdf.when - fdf.whenUsedWebgl).describe()"
   ]
  },
  {
   "attachments": {},
   "cell_type": "markdown",
   "metadata": {},
   "source": [
    "# Extensions"
   ]
  },
  {
   "cell_type": "code",
   "execution_count": null,
   "metadata": {},
   "outputs": [],
   "source": [
    "tmp = df_context['context-extensions'].apply(len)\n",
    "print(\"percentage of context which has no extension: {:.2f}%\".format((tmp == 0).sum() / len(tmp) * 100))"
   ]
  },
  {
   "cell_type": "code",
   "execution_count": null,
   "metadata": {},
   "outputs": [],
   "source": [
    "with open('input/webgl-extension-categories.json', 'r') as fp:\n",
    "    category_to_extension = json.load(fp)\n",
    "\n",
    "extension_to_category = defaultdict(lambda: 'unknown')\n",
    "for category, extensions in category_to_extension.items():\n",
    "    for extension in extensions:\n",
    "        extension_to_category[extension] = category"
   ]
  },
  {
   "cell_type": "code",
   "execution_count": null,
   "metadata": {},
   "outputs": [],
   "source": [
    "extension_to_category['42']"
   ]
  },
  {
   "cell_type": "code",
   "execution_count": null,
   "metadata": {},
   "outputs": [],
   "source": [
    "extension = df_context[df_context['context-extensions'].apply(len) > 0]['context-extensions']\n",
    "tmp = extension.apply(lambda x: ';'.join(x)).value_counts().to_dict()\n",
    "json.dump(tmp, open(OUT_PATH / 'example' / 'extension-count.json', 'w'), indent=2)\n",
    "tmp2 = extension.apply(lambda x: ';'.join(x)).describe()\n",
    "print(tmp2)\n",
    "words_list = tmp2['top'].split(';')\n",
    "tmp2 = []\n",
    "for lst in extension:\n",
    "    tmp2.extend(lst)\n",
    "\n",
    "extension_df = pd.DataFrame({\n",
    "    'name': pd.Series(tmp2),\n",
    "    'category': pd.Series([extension_to_category[x] for x in tmp2]),\n",
    "    'prefix': pd.Series([x.split('_')[0] for x in tmp2])\n",
    "})\n",
    "extension_df = extension_df[(extension_df['prefix'].str.len() > 2) & (extension_df['prefix'].str.upper() == extension_df['prefix'])]\n",
    "\n",
    "tmp = extension_df['name'].value_counts(ascending=True)\n",
    "# print(tmp.to_dict())\n",
    "to_plot = tmp.iloc[len(tmp)-20:]\n",
    "bar = to_plot.plot.barh(figsize=(20, 10))\n",
    "for i, v in enumerate(to_plot.index):\n",
    "    if v in words_list:\n",
    "        bar.get_children()[i].set_color(sns.color_palette()[3])\n",
    "    else:\n",
    "        bar.get_children()[i].set_color(sns.color_palette()[0])\n",
    "plt.title('Top 20 extensions')\n",
    "plt.show()"
   ]
  },
  {
   "cell_type": "code",
   "execution_count": null,
   "metadata": {},
   "outputs": [],
   "source": [
    "sorted(set(extension_df[extension_df['category'] == 'unknown'].name))"
   ]
  },
  {
   "cell_type": "code",
   "execution_count": null,
   "metadata": {},
   "outputs": [],
   "source": [
    "extension_df['category'].value_counts()"
   ]
  },
  {
   "attachments": {},
   "cell_type": "markdown",
   "metadata": {},
   "source": [
    "## Extension 开发过程\n",
    "\n",
    "Extension 在其发展过程中经历了四个阶段：建议、草案、社区批准和Khronos批准。每个 extension 都应该推进到Khronos的批准。如果一个 extension 不能通过 extension 过程来推进，它可以被拒绝。\n",
    "\n",
    "- Proposed extensions 是为了在公共WebGL邮件列表中进行讨论，以便进入草案状态；它们不应该被实现，即使是在供应商的前缀下。如果在社区中达成了共识，该 extension 就可以转为草案状态。\n",
    "- Draft extensions 可以在供应商的前缀下实现，或者在运行时选项后面实现，以达到实验的目的，以便在最终确定 extension 之前获得经验。草案 extension 不应默认由WebGL实现来公开。一旦在社区中达成共识，该 extension 就可以转为Community approved 状态。\n",
    "- Community approved extensions 应该在没有供应商前缀的情况下实现。当一个 extension 草案转为社区认可状态时，任何现有的实现都应该立即取消对任何厂商前缀的 extension 名称的支持。一旦被厂商实现，除非该 extension 存在严重问题，如安全漏洞，否则不应取消支持。\n",
    "- Khronos ratified extensions 是那些经过Khronos委员会投票通过的Community approved extension 。\n",
    "- Rejected extensions（不应被实现）。扩展进入被拒绝状态是因为在提议阶段没有达成共识或在草案阶段实施过程中出现技术困难。只有在特殊情况下，社区批准的扩展才能被拒绝。Khronos认可的扩展不能被拒绝。"
   ]
  },
  {
   "cell_type": "code",
   "execution_count": null,
   "metadata": {},
   "outputs": [],
   "source": [
    "# extension_category.value_counts().plot.barh(figsize=(20, 10))\n",
    "# with percentage\n",
    "fig, axes = plt.subplots(figsize=(20, 10))\n",
    "sns.countplot(y=extension_df['category'], ax=axes)\n",
    "axes.set_xlabel('Count')\n",
    "axes.set_ylabel('Extension Category')\n",
    "for rect in axes.patches:\n",
    "    axes.annotate(f'{rect.get_width()/len(extension_df)*100:.1f}%', \n",
    "                        (rect.get_width(), rect.get_y() + rect.get_height() / 2),\n",
    "                        ha='left', va='center')\n",
    "plt.show()\n"
   ]
  },
  {
   "attachments": {},
   "cell_type": "markdown",
   "metadata": {},
   "source": [
    "## 命名约定\n",
    "\n",
    "WebGL 扩展以“ANGLE”、“OES”、“EXT”、“WEBGL”等为前缀。这些前缀反映了来源和意图：\n",
    "\n",
    "- `ANGLE_`: 由 ANGLE library 的作者编写的扩展。\n",
    "- `OES_` 和 `KHR_`: 由各自的架构审查委员会（Khronos）批准的对 OpenGL ES（OES）或 OpenGL API 扩展的功能的镜像。\n",
    "- `OVR_`: 针对虚拟现实进行优化的扩展。\n",
    "- `EXT_`: 从其他 OpenGL ES 或 OpenGL API 扩展镜像的扩展。\n",
    "- `WEBGL_`: 特定于 WebGL 的扩展，旨在与多种 Web 浏览器兼容。它也应该用于源自 OpenGL ES 或 OpenGL API 的扩展，但其行为已被显著改变。"
   ]
  },
  {
   "cell_type": "code",
   "execution_count": null,
   "metadata": {},
   "outputs": [],
   "source": [
    "# extension_category.value_counts().plot.barh(figsize=(20, 10))\n",
    "# with percentage\n",
    "fig, axes = plt.subplots(figsize=(20, 10))\n",
    "sns.countplot(y=extension_df['prefix'], ax=axes, order=extension_df['prefix'].value_counts().index)\n",
    "axes.set_xlabel('Count')\n",
    "axes.set_ylabel('Extension Prefix')\n",
    "for rect in axes.patches:\n",
    "    axes.annotate(f'{rect.get_width()/len(extension_df)*100:.1f}%', \n",
    "                        (rect.get_width(), rect.get_y() + rect.get_height() / 2),\n",
    "                        ha='left', va='center')\n",
    "# hatch='///' on MOZ WEBKIT OCULUS\n",
    "for i in [4,5,8]:\n",
    "    axes.patches[i].set_hatch('///')\n",
    "    axes.patches[i].set_facecolor('white')\n",
    "    axes.patches[i].set_edgecolor(color_palette[i])\n",
    "plt.show()"
   ]
  },
  {
   "cell_type": "code",
   "execution_count": null,
   "metadata": {},
   "outputs": [],
   "source": [
    "fig, axes = plt.subplots(figsize=(26, 16))\n",
    "tmp = extension_df.value_counts(subset=['prefix', 'category'])\n",
    "tmp = tmp.reset_index()\n",
    "tmp.columns = ['prefix', 'category', 'count']\n",
    "tmp\n",
    "sns.barplot(x='count', y='category', hue='prefix', data=tmp, ax=axes)\n",
    "axes.set_xlabel('Count')\n",
    "axes.set_ylabel('Extension Prefix')\n",
    "for rect in axes.patches:\n",
    "    axes.annotate(f'{rect.get_width()/len(extension_df)*100:.1f}%', \n",
    "                        (rect.get_width(), rect.get_y() + rect.get_height() / 2),\n",
    "                        ha='left', va='center')\n",
    "plt.legend(bbox_to_anchor=(1.05, 1), loc=2, borderaxespad=0.)\n",
    "plt.show()"
   ]
  },
  {
   "cell_type": "code",
   "execution_count": null,
   "metadata": {},
   "outputs": [],
   "source": [
    "# tmp = extension.apply(lambda x: ';'.join(x))\n",
    "# df_context[df_context.extensions.apply(len) > 0][tmp.str.contains('BdwhLT1F')]"
   ]
  },
  {
   "cell_type": "code",
   "execution_count": null,
   "metadata": {},
   "outputs": [],
   "source": [
    "# extension.describe()"
   ]
  },
  {
   "attachments": {},
   "cell_type": "markdown",
   "metadata": {},
   "source": [
    "# WebGL calls"
   ]
  },
  {
   "cell_type": "code",
   "execution_count": null,
   "metadata": {},
   "outputs": [],
   "source": [
    "total_func_call = pd.DataFrame(df_context['context-maghsk-counter-funcCount'].to_list(), index=df_context.index).sum(axis=1)"
   ]
  },
  {
   "cell_type": "code",
   "execution_count": null,
   "metadata": {},
   "outputs": [],
   "source": [
    "print(total_func_call.describe(percentiles=[0.5, 0.75, 0.9, 0.95, 0.99]))\n",
    "# df_context[total_func_call < 100].total_func_call.value_counts().sort_index().plot(kind='bar', figsize=(20, 10))\n",
    "total_func_call[total_func_call < total_func_call.quantile(0.99)].plot(kind='hist', bins=100, figsize=(20, 10))\n",
    "plt.show()"
   ]
  },
  {
   "attachments": {},
   "cell_type": "markdown",
   "metadata": {},
   "source": [
    "# shader!"
   ]
  },
  {
   "cell_type": "code",
   "execution_count": null,
   "metadata": {},
   "outputs": [],
   "source": [
    "df_shaders"
   ]
  },
  {
   "cell_type": "code",
   "execution_count": null,
   "metadata": {},
   "outputs": [],
   "source": [
    "tmp = OUT_PATH / 'example' / 'sampled_shaders'\n",
    "for index_shader, row in df_shaders.sample(10).iterrows():\n",
    "    shader = row.shader_source\n",
    "    typ = row.shader_type\n",
    "    index_url = row['index-url']\n",
    "    index_context = row['index-context']\n",
    "    index_program = row['index-program']\n",
    "    with open(tmp / f'{index_url}-{index_context}-{index_program}-{index_shader}.{typ}', 'w') as f:\n",
    "        f.write(shader)"
   ]
  },
  {
   "attachments": {},
   "cell_type": "markdown",
   "metadata": {},
   "source": [
    "## Diversity of shaders"
   ]
  },
  {
   "cell_type": "code",
   "execution_count": null,
   "metadata": {},
   "outputs": [],
   "source": [
    "import hashlib"
   ]
  },
  {
   "cell_type": "code",
   "execution_count": null,
   "metadata": {},
   "outputs": [],
   "source": [
    "df_shaders_trim = df_shaders\n",
    "# df_shaders_trim['shader_source_trimmed_hashed'] = df_shaders_trim['shader_source'].apply(remove_whitespaces).apply(hashlib.sha256).apply(lambda x: x.hexdigest())\n",
    "df_shaders_trim['shader_source_trimmed_hashed'] = df_shaders_trim['shader_source'].apply(lambda x: hashlib.sha256(remove_whitespaces(x).encode('utf-8')).hexdigest())\n",
    "df_shaders_trim"
   ]
  },
  {
   "attachments": {},
   "cell_type": "markdown",
   "metadata": {},
   "source": [
    "### Context Level"
   ]
  },
  {
   "cell_type": "code",
   "execution_count": null,
   "metadata": {},
   "outputs": [],
   "source": [
    "# group by source and count the different urls\n",
    "df_source_count = df_shaders_trim.groupby('shader_source_trimmed_hashed')[['index-program','index-context','index-url']].nunique()\n",
    "tmp = df_shaders_trim.set_index('shader_source_trimmed_hashed')[['shader_type','shader_source','shader_length']]\n",
    "tmp = tmp[~tmp.index.duplicated(keep='first')]\n",
    "df_source_count = df_source_count.join(tmp, how='inner')\n",
    "df_source_count.reset_index(inplace=True)\n",
    "df_source_count.index.name = 'index-source'\n",
    "df_source_count"
   ]
  },
  {
   "cell_type": "code",
   "execution_count": null,
   "metadata": {},
   "outputs": [],
   "source": [
    "df_source_count[['index-program','index-context','index-url']].sum(axis=0)"
   ]
  },
  {
   "cell_type": "code",
   "execution_count": null,
   "metadata": {},
   "outputs": [],
   "source": [
    "plt.title(\"By context\")\n",
    "plt.xlabel('Shader ID')\n",
    "plt.ylabel('Number of Contexts')\n",
    "df_source_count.sort_values('index-context', ascending=False).head(50)['index-context'].plot(kind='bar', figsize=(20, 10))\n"
   ]
  },
  {
   "cell_type": "code",
   "execution_count": null,
   "metadata": {},
   "outputs": [],
   "source": [
    "# plt.figure(figsize=(30, 50))\n",
    "plt.title(\"By URL (length/count)\")\n",
    "plt.xlabel('Number of URLs')\n",
    "plt.ylabel('Shader ID')\n",
    "\n",
    "tmp = df_source_count.sort_values('index-url', ascending=False).head(50)\n",
    "bar = tmp['index-url'].plot(kind='barh', figsize=(30, 50))\n",
    "# bar = sns.barplot(x='url_count', y='index', hue='type', data=tmp, orient='h')\n",
    "# label length on top of bar\n",
    "for rect, url_count, length in zip(bar.patches,tmp['index-url'],tmp['shader_length']):\n",
    "    bar.annotate(f'{url_count}',\n",
    "                    (rect.get_width(), rect.get_y() + rect.get_height() / 2),\n",
    "                    ha='left', va='center')\n",
    "    bar.annotate(f'{length}',\n",
    "                    (rect.get_width(), rect.get_y() + rect.get_height() / 2),\n",
    "                    ha='right', va='center', color='white')\n",
    "    \n",
    "plt.show()"
   ]
  },
  {
   "cell_type": "code",
   "execution_count": null,
   "metadata": {},
   "outputs": [],
   "source": [
    "df_shaders_trim.head(2)"
   ]
  },
  {
   "cell_type": "code",
   "execution_count": null,
   "metadata": {},
   "outputs": [],
   "source": [
    "subset = ['shader_source_trimmed_hashed']\n",
    "df_shaders_trim_dedup = df_shaders_trim.drop_duplicates(subset=subset, keep='first')\n",
    "tmp = len(df_shaders_trim_dedup) / len(df_shaders_trim) * 100\n",
    "print(\"Percentage of all unique shaders: {:.2f}%\".format(tmp * 100))\n",
    "plt.figure(figsize=(8, 8))\n",
    "plt.rcParams.update()\n",
    "plt.pie([tmp, 100-tmp], labels=['Unique', 'Duplicated'], autopct='%.2f%%')\n",
    "plt.title('By {}'.format(subset))\n",
    "plt.show()"
   ]
  },
  {
   "cell_type": "code",
   "execution_count": null,
   "metadata": {},
   "outputs": [],
   "source": [
    "subset = ['shader_source_trimmed_hashed', 'index-url']\n",
    "df_shaders_trim_dedup = df_shaders_trim.drop_duplicates(subset=subset, keep='first')\n",
    "tmp = len(df_shaders_trim_dedup) / len(df_shaders_trim) * 100\n",
    "print(\"Percentage of all unique shaders: {:.2f}%\".format(tmp * 100))\n",
    "plt.figure(figsize=(8, 8))\n",
    "plt.rcParams.update()\n",
    "plt.pie([tmp, 100-tmp], labels=['Unique', 'Duplicated'], autopct='%.2f%%')\n",
    "plt.title('By {}'.format(subset))\n",
    "plt.show()"
   ]
  },
  {
   "cell_type": "code",
   "execution_count": null,
   "metadata": {},
   "outputs": [],
   "source": [
    "subset = ['shader_source_trimmed_hashed', 'index-context']\n",
    "df_shaders_trim_dedup = df_shaders_trim.drop_duplicates(subset=subset, keep='first')\n",
    "tmp = len(df_shaders_trim_dedup) / len(df_shaders_trim) * 100\n",
    "print(\"Percentage of all unique shaders: {:.2f}%\".format(tmp * 100))\n",
    "plt.figure(figsize=(8, 8))\n",
    "plt.rcParams.update()\n",
    "plt.pie([tmp, 100-tmp], labels=['Unique', 'Duplicated'], autopct='%.2f%%')\n",
    "plt.title('By {}'.format(subset))\n",
    "plt.show()"
   ]
  },
  {
   "cell_type": "code",
   "execution_count": null,
   "metadata": {},
   "outputs": [],
   "source": [
    "subset = ['shader_source_trimmed_hashed', 'index-program']\n",
    "df_shaders_trim_dedup = df_shaders_trim.drop_duplicates(subset=subset, keep='first')\n",
    "tmp = len(df_shaders_trim_dedup) / len(df_shaders_trim) * 100\n",
    "print(\"Percentage of all unique shaders: {:.2f}%\".format(tmp * 100))\n",
    "plt.figure(figsize=(8, 8))\n",
    "plt.rcParams.update()\n",
    "plt.pie([tmp, 100-tmp], labels=['Unique', 'Duplicated'], autopct='%.2f%%')\n",
    "plt.title('By {}'.format(subset))\n",
    "plt.show()"
   ]
  },
  {
   "cell_type": "code",
   "execution_count": 69,
   "metadata": {},
   "outputs": [
    {
     "name": "stdout",
     "output_type": "stream",
     "text": [
      "Percentage of all unique shaders by ['shader_source_trimmed_hashed']: 5165.32%\n",
      "Percentage of all unique shaders by ['shader_source_trimmed_hashed', 'index-url']: 6734.77%\n",
      "Percentage of all unique shaders by ['shader_source_trimmed_hashed', 'index-context']: 7206.54%\n",
      "Percentage of all unique shaders by ['shader_source_trimmed_hashed', 'index-program']: 9892.47%\n"
     ]
    },
    {
     "data": {
      "image/png": "[encoded data removed]",
      "text/plain": [
       "<Figure size 1600x1600 with 4 Axes>"
      ]
     },
     "metadata": {},
     "output_type": "display_data"
    }
   ],
   "source": [
    "# create figure with four subplots\n",
    "fig, axes = plt.subplots(2, 2, figsize=(16, 16))\n",
    "\n",
    "# add four figures above to the figure\n",
    "subset = [['shader_source_trimmed_hashed'], ['shader_source_trimmed_hashed', 'index-url'], ['shader_source_trimmed_hashed', 'index-context'], ['shader_source_trimmed_hashed', 'index-program']]\n",
    "for i in range(4):\n",
    "    df_shaders_trim_dedup = df_shaders_trim.drop_duplicates(subset=subset[i], keep='first')\n",
    "    tmp = len(df_shaders_trim_dedup) / len(df_shaders_trim) * 100\n",
    "    print(\"Percentage of all unique shaders by {}: {:.2f}%\".format(subset[i], tmp * 100))\n",
    "    axes[i//2][i%2].pie([tmp, 100-tmp], labels=['Unique', 'Duplicated'], autopct='%.2f%%')\n",
    "    axes[i//2][i%2].set_title('By {}'.format(subset[i]))\n",
    "plt.show()"
   ]
  },
  {
   "cell_type": "code",
   "execution_count": null,
   "metadata": {},
   "outputs": [],
   "source": [
    "# TODO"
   ]
  },
  {
   "attachments": {},
   "cell_type": "markdown",
   "metadata": {},
   "source": [
    "## Shader Count"
   ]
  },
  {
   "cell_type": "code",
   "execution_count": null,
   "metadata": {},
   "outputs": [],
   "source": [
    "print('==0', fdf[fdf['shader_count'] == 0].total_func_call.describe())\n",
    "# plot shader_count\n",
    "tmp = fdf['shader_count'].describe(percentiles=[0.25, 0.5, 0.75, 0.9, 0.95, 0.99])\n",
    "print(tmp)\n",
    "plt.figure(figsize=(10, 5))\n",
    "sns.histplot(data=fdf[fdf['shader_count'] < tmp['99%']], x=\"shader_count\", multiple=\"stack\")\n",
    "plt.plot()\n",
    "fdf[fdf['shader_count'] > 4000][['url', 'shader_count', 'program_count', '_resources_shader', '_resources_program']]\n"
   ]
  },
  {
   "cell_type": "code",
   "execution_count": null,
   "metadata": {},
   "outputs": [],
   "source": [
    "tmp = fdf_url.loc[fdf_url['shader_count']==0].copy()"
   ]
  },
  {
   "cell_type": "code",
   "execution_count": null,
   "metadata": {},
   "outputs": [],
   "source": [
    "# remove columns that sum=0\n",
    "for x in tmp.columns:\n",
    "    if tmp[x].sum() == 0:\n",
    "        tmp.drop(x, axis=1, inplace=True)"
   ]
  },
  {
   "cell_type": "code",
   "execution_count": null,
   "metadata": {},
   "outputs": [],
   "source": [
    "tmp.to_excel(OUT_PATH / 'example' / 'shader_count_is_0.xlsx')"
   ]
  },
  {
   "cell_type": "code",
   "execution_count": null,
   "metadata": {},
   "outputs": [],
   "source": [
    "print('==0', fdf_url[fdf_url['shader_count'] == 0].total_func_call.describe())\n",
    "# plot shader_count\n",
    "tmp = fdf_url['shader_count'].describe(percentiles=[0.25, 0.5, 0.75, 0.9, 0.95, 0.99])\n",
    "print(tmp)\n",
    "plt.figure(figsize=(10, 5))\n",
    "sns.histplot(data=fdf_url[fdf_url['shader_count'] < tmp['99%']], x=\"shader_count\", element='step')\n",
    "plt.plot()\n",
    "fdf_url[fdf_url['shader_count'] > 4000][['shader_count', 'program_count', '_resources_shader', '_resources_program']]"
   ]
  },
  {
   "attachments": {},
   "cell_type": "markdown",
   "metadata": {},
   "source": [
    "## shader length"
   ]
  },
  {
   "cell_type": "code",
   "execution_count": null,
   "metadata": {},
   "outputs": [],
   "source": [
    "print(shader_df.source_length.describe(percentiles=[0.25, 0.5, 0.75, 0.9, 0.95, 0.99]))"
   ]
  },
  {
   "cell_type": "code",
   "execution_count": null,
   "metadata": {},
   "outputs": [],
   "source": [
    "tmp = shader_df.source_length.describe(percentiles=[0.25, 0.5, 0.75, 0.9, 0.95, 0.99])\n",
    "plt.figure(figsize=(10, 5))\n",
    "plt.xlim(0, tmp['99%'])\n",
    "sns.histplot(data=shader_df, x=\"source_length\", hue=\"type\", multiple=\"layer\", element=\"step\")\n",
    "plt.plot()"
   ]
  },
  {
   "cell_type": "code",
   "execution_count": null,
   "metadata": {},
   "outputs": [],
   "source": [
    "# vert, frag shaderlength median/ mean\n",
    "shader_df_vert = shader_df[shader_df.type == 'vert']\n",
    "shader_df_frag = shader_df[shader_df.type == 'frag']\n",
    "\n",
    "print('vert', shader_df_vert.describe())\n",
    "print('frag', shader_df_frag.describe())"
   ]
  },
  {
   "attachments": {},
   "cell_type": "markdown",
   "metadata": {},
   "source": [
    "# Programs"
   ]
  },
  {
   "cell_type": "code",
   "execution_count": null,
   "metadata": {},
   "outputs": [],
   "source": [
    "tmp = fdf['program_count'].describe(percentiles=[0.25, 0.5, 0.75, 0.9, 0.95, 0.99])\n",
    "print(tmp)\n",
    "plt.figure(figsize=(10, 5))\n",
    "sns.histplot(data=fdf[fdf['program_count'] < tmp['99%']], x=\"program_count\", multiple=\"stack\", color=sns.color_palette()[2])\n",
    "plt.plot()"
   ]
  },
  {
   "attachments": {},
   "cell_type": "markdown",
   "metadata": {},
   "source": [
    "# Textures"
   ]
  },
  {
   "cell_type": "code",
   "execution_count": null,
   "metadata": {},
   "outputs": [],
   "source": [
    "# plot shader_count\n",
    "tmp = fdf['_resources_texture'].describe(percentiles=[0.25, 0.5, 0.75, 0.9, 0.95, 0.99])\n",
    "print(tmp)\n",
    "plt.figure(figsize=(10, 5))\n",
    "plt.title('Texture count (99%)')\n",
    "sns.histplot(data=fdf[fdf['_resources_texture'] < tmp['99%']], x=\"_resources_texture\", multiple=\"stack\")\n",
    "plt.plot()\n",
    "fdf[fdf['_resources_texture'] > 2000]"
   ]
  },
  {
   "cell_type": "code",
   "execution_count": null,
   "metadata": {},
   "outputs": [],
   "source": [
    "# plot shader_count\n",
    "tmp = fdf['_func_call_createTexture'].describe(percentiles=[0.25, 0.5, 0.75, 0.9, 0.95, 0.99])\n",
    "print(tmp)\n",
    "plt.figure(figsize=(10, 5))\n",
    "plt.xlim(0, tmp['99%'])\n",
    "plt.title('Texture count (99%)')\n",
    "sns.histplot(data=fdf, x=\"_func_call_createTexture\", multiple=\"stack\")\n",
    "# sns.histplot(data=fdf_after, x=\"_resources_shader\", multiple=\"stack\")\n",
    "plt.plot()\n",
    "fdf[fdf['_func_call_createTexture'] > 2000]"
   ]
  },
  {
   "attachments": {},
   "cell_type": "markdown",
   "metadata": {},
   "source": [
    "# VAO"
   ]
  },
  {
   "cell_type": "code",
   "execution_count": null,
   "metadata": {},
   "outputs": [],
   "source": [
    "# plot shader_count\n",
    "tmp = fdf['_func_call_createVertexArray'].describe(percentiles=[0.25, 0.5, 0.75, 0.9, 0.95, 0.99])\n",
    "print(tmp)\n",
    "plt.figure(figsize=(10, 5))\n",
    "plt.title('_func_call_createVertexArray count (99%)')\n",
    "sns.histplot(data=fdf[fdf['_func_call_createVertexArray'] < tmp['99%']], x=\"_func_call_createVertexArray\", multiple=\"stack\", bins=50)\n",
    "# sns.histplot(data=fdf_after, x=\"_resources_shader\", multiple=\"stack\")\n",
    "plt.plot()\n",
    "fdf[fdf['_func_call_createVertexArray'] > 2000]"
   ]
  },
  {
   "attachments": {},
   "cell_type": "markdown",
   "metadata": {},
   "source": [
    "# Memory Total (roughly)"
   ]
  },
  {
   "cell_type": "code",
   "execution_count": null,
   "metadata": {},
   "outputs": [],
   "source": [
    "tmp = fdf['_memory_total'].describe(percentiles=[0.25, 0.5, 0.75, 0.9, 0.95, 0.99])\n",
    "print(tmp)\n",
    "plt.figure(figsize=(10, 5))\n",
    "sns.histplot(data=fdf[fdf['_memory_total'] < tmp['99%']], x=\"_memory_total\", multiple=\"stack\")\n",
    "plt.plot()"
   ]
  },
  {
   "attachments": {},
   "cell_type": "markdown",
   "metadata": {},
   "source": [
    "# Vertex & Triangle"
   ]
  },
  {
   "cell_type": "code",
   "execution_count": null,
   "metadata": {},
   "outputs": [],
   "source": [
    "fdf['vertexCount'].describe(percentiles=[0.25, 0.5, 0.75, 0.9, 0.95, 0.99])"
   ]
  },
  {
   "cell_type": "code",
   "execution_count": null,
   "metadata": {},
   "outputs": [],
   "source": [
    "fdf[fdf['vertexCount'] == 0][['url', '_func_call_drawElements', '_func_call_drawArrays', '_func_call_drawBuffers', '_func_call_drawElementsInstanced', '_func_call_drawArraysInstanced']]"
   ]
  },
  {
   "cell_type": "code",
   "execution_count": null,
   "metadata": {},
   "outputs": [],
   "source": [
    "fdf['triangleCount'].describe(percentiles=[0.25, 0.5, 0.75, 0.9, 0.95, 0.99])"
   ]
  },
  {
   "attachments": {},
   "cell_type": "markdown",
   "metadata": {},
   "source": [
    "# RequestAnimationFrame(RAF)"
   ]
  },
  {
   "cell_type": "code",
   "execution_count": null,
   "metadata": {},
   "outputs": [],
   "source": [
    "print(fdf.rafCalled_total.describe(percentiles=[0.25, 0.5, 0.75, 0.9, 0.95, 0.99]))\n",
    "sns.histplot(data=fdf, x=\"rafCalled_total\", multiple=\"stack\")\n",
    "plt.title('Total RAF called')\n",
    "plt.plot()"
   ]
  },
  {
   "cell_type": "code",
   "execution_count": null,
   "metadata": {},
   "outputs": [],
   "source": [
    "print(fdf.rafCalled_max.describe(percentiles=[0.25, 0.5, 0.75, 0.9, 0.95, 0.99]))\n",
    "sns.histplot(data=fdf, x=\"rafCalled_max\", multiple=\"stack\")\n",
    "plt.title('Max RAF called')\n",
    "plt.plot()"
   ]
  },
  {
   "cell_type": "code",
   "execution_count": null,
   "metadata": {},
   "outputs": [],
   "source": []
  }
 ],
 "metadata": {
  "kernelspec": {
   "display_name": "Python 3",
   "language": "python",
   "name": "python3"
  },
  "language_info": {
   "codemirror_mode": {
    "name": "ipython",
    "version": 3
   },
   "file_extension": ".py",
   "mimetype": "text/x-python",
   "name": "python",
   "nbconvert_exporter": "python",
   "pygments_lexer": "ipython3",
   "version": "3.9.6"
  },
  "orig_nbformat": 4,
  "vscode": {
   "interpreter": {
    "hash": "aee8b7b246df8f9039afb4144a1f6fd8d2ca17a180786b69acc140d282b71a49"
   }
  }
 },
 "nbformat": 4,
 "nbformat_minor": 2
}
