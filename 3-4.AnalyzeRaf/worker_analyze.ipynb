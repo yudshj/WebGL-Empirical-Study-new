{
 "cells": [
  {
   "cell_type": "code",
   "execution_count": 1,
   "id": "93eb8df3",
   "metadata": {},
   "outputs": [],
   "source": [
    "import pandas as pd\n",
    "import seaborn as sns\n",
    "import matplotlib.pyplot as plt"
   ]
  },
  {
   "cell_type": "code",
   "execution_count": 2,
   "id": "269bc2b6",
   "metadata": {},
   "outputs": [],
   "source": [
    "df_worker_oc = pd.read_pickle(\"imr/df_worker_oc.pkl.zst\", compression='zstd').rename(columns={\n",
    "    'worker.data.webgl2': 'webgl2',\n",
    "    'worker.data.2d': '2d',\n",
    "    'worker.data.webgl': 'webgl',\n",
    "})\n",
    "df_frame_oc = pd.read_pickle(\"imr/df_frame_oc.pkl.zst\", compression='zstd').rename(columns={\n",
    "    'frame.data.webgl2': 'webgl2',\n",
    "    'frame.data.2d': '2d',\n",
    "    'frame.data.webgl': 'webgl',\n",
    "})\n",
    "\n",
    "df_worker_oc['type'] = 'worker'\n",
    "df_frame_oc['type'] = 'main'"
   ]
  },
  {
   "cell_type": "code",
   "execution_count": 3,
   "id": "9f86437a",
   "metadata": {},
   "outputs": [],
   "source": [
    "df = pd.concat([\n",
    "    df_worker_oc[['webgl2', 'webgl', 'type']],\n",
    "    df_frame_oc[['webgl2', 'webgl', 'type']]\n",
    "])"
   ]
  },
  {
   "cell_type": "code",
   "execution_count": 4,
   "id": "02a19166",
   "metadata": {},
   "outputs": [],
   "source": [
    "sns.set_context(\"paper\", font_scale=2)\n",
    "sns.set_palette(\"deep\")"
   ]
  },
  {
   "cell_type": "code",
   "execution_count": 6,
   "id": "2e05b898",
   "metadata": {},
   "outputs": [
    {
     "data": {
      "text/plain": [
       "<Figure size 1152x864 with 0 Axes>"
      ]
     },
     "metadata": {},
     "output_type": "display_data"
    },
    {
     "data": {
      "image/png": "[encoded data removed]",
      "text/plain": [
       "<Figure size 432x288 with 1 Axes>"
      ]
     },
     "metadata": {
      "needs_background": "light"
     },
     "output_type": "display_data"
    }
   ],
   "source": [
    "plt.figure(figsize=(16, 12))\n",
    "\n",
    "# Group the DataFrame by \"type\" and sum the other columns\n",
    "grouped_df = df.groupby('type').sum()\n",
    "\n",
    "# Plot a bar chart with \"type\" as the hue\n",
    "ax = grouped_df.plot(kind='bar', rot=0, title='Context Type of OffscreenCanvas', ylabel='Count', xlabel='Location', alpha=0.8)\n",
    "# for p in ax.patches:\n",
    "#     ax.annotate(str(p.get_height()), (p.get_x() + p.get_width() / 2, p.get_height() + 1), ha='center', va='bottom')\n",
    "plt.ylim((0, 82))\n",
    "plt.savefig('fig/results_oc_type.pdf', bbox_inches='tight')"
   ]
  },
  {
   "cell_type": "code",
   "execution_count": 18,
   "id": "b92e9458",
   "metadata": {},
   "outputs": [
    {
     "name": "stdout",
     "output_type": "stream",
     "text": [
      "['https://olvia-center.ru/contacts' 'https://stashlukhvac.com/'\n",
      " 'https://stategisportal.nic.in/' 'https://thingmap.thingjs.com/'\n",
      " 'https://umsflowell.com/case-histories/'\n",
      " 'https://umsflowell.com/casing-isolation-with-reservoir-access/'\n",
      " 'https://umsflowell.com/downhole-animations/'\n",
      " 'https://umsflowell.com/rental-equipment/'\n",
      " 'https://www.grandts.com/john-grandt-job-historie/'\n",
      " 'https://www.theambassadorplatform.com/pricing?hsLang=en']\n",
      "['https://fidirikosgroup.gr/wp-content/plugins/rhye-core/modules/baseGLAnimationOffscreen/EffectDistortionOffscreen.js'\n",
      " 'https://halorentals.com.au/wp-content/plugins/rhye-core/modules/baseGLAnimationOffscreen/EffectDistortionOffscreen.js'\n",
      " 'https://ics-web.jp/assets/topHero/worker.js'\n",
      " 'https://ito-photo.com/wp-content/plugins/rhye-core/modules/baseGLAnimationOffscreen/EffectDistortionOffscreen.js'\n",
      " 'https://osmolis.hr/wp-content/plugins/rhye-core/modules/baseGLAnimationOffscreen/EffectDistortionOffscreen.js'\n",
      " 'https://tubladel.com/wp-content/plugins/rhye-core/modules/baseGLAnimationOffscreen/EffectDistortionOffscreen.js']\n"
     ]
    }
   ],
   "source": [
    "tmp = df_worker_oc[df_worker_oc['webgl2'] > 0]\n",
    "print(tmp['url'].unique())\n",
    "print(tmp['worker.url'].unique())"
   ]
  },
  {
   "cell_type": "code",
   "execution_count": 19,
   "id": "3f715699",
   "metadata": {},
   "outputs": [
    {
     "data": {
      "text/html": [
       "<div>\n",
       "<style scoped>\n",
       "    .dataframe tbody tr th:only-of-type {\n",
       "        vertical-align: middle;\n",
       "    }\n",
       "\n",
       "    .dataframe tbody tr th {\n",
       "        vertical-align: top;\n",
       "    }\n",
       "\n",
       "    .dataframe thead th {\n",
       "        text-align: right;\n",
       "    }\n",
       "</style>\n",
       "<table border=\"1\" class=\"dataframe\">\n",
       "  <thead>\n",
       "    <tr style=\"text-align: right;\">\n",
       "      <th></th>\n",
       "      <th>url</th>\n",
       "      <th>date</th>\n",
       "      <th>worker.url</th>\n",
       "      <th>webgl2</th>\n",
       "      <th>2d</th>\n",
       "      <th>webgl</th>\n",
       "      <th>type</th>\n",
       "    </tr>\n",
       "  </thead>\n",
       "  <tbody>\n",
       "    <tr>\n",
       "      <th>22075</th>\n",
       "      <td>https://olvia-center.ru/contacts</td>\n",
       "      <td>1683327847659</td>\n",
       "      <td>https://fidirikosgroup.gr/wp-content/plugins/r...</td>\n",
       "      <td>1.0</td>\n",
       "      <td>1.0</td>\n",
       "      <td>0.0</td>\n",
       "      <td>worker</td>\n",
       "    </tr>\n",
       "    <tr>\n",
       "      <th>26317</th>\n",
       "      <td>https://stashlukhvac.com/</td>\n",
       "      <td>1683335417352</td>\n",
       "      <td>https://halorentals.com.au/wp-content/plugins/...</td>\n",
       "      <td>1.0</td>\n",
       "      <td>1.0</td>\n",
       "      <td>0.0</td>\n",
       "      <td>worker</td>\n",
       "    </tr>\n",
       "    <tr>\n",
       "      <th>26318</th>\n",
       "      <td>https://stategisportal.nic.in/</td>\n",
       "      <td>1683335448957</td>\n",
       "      <td>https://halorentals.com.au/wp-content/plugins/...</td>\n",
       "      <td>1.0</td>\n",
       "      <td>1.0</td>\n",
       "      <td>0.0</td>\n",
       "      <td>worker</td>\n",
       "    </tr>\n",
       "    <tr>\n",
       "      <th>26319</th>\n",
       "      <td>https://stategisportal.nic.in/</td>\n",
       "      <td>1683335448957</td>\n",
       "      <td>https://halorentals.com.au/wp-content/plugins/...</td>\n",
       "      <td>1.0</td>\n",
       "      <td>1.0</td>\n",
       "      <td>0.0</td>\n",
       "      <td>worker</td>\n",
       "    </tr>\n",
       "    <tr>\n",
       "      <th>26320</th>\n",
       "      <td>https://stategisportal.nic.in/</td>\n",
       "      <td>1683335448957</td>\n",
       "      <td>https://halorentals.com.au/wp-content/plugins/...</td>\n",
       "      <td>1.0</td>\n",
       "      <td>1.0</td>\n",
       "      <td>0.0</td>\n",
       "      <td>worker</td>\n",
       "    </tr>\n",
       "    <tr>\n",
       "      <th>...</th>\n",
       "      <td>...</td>\n",
       "      <td>...</td>\n",
       "      <td>...</td>\n",
       "      <td>...</td>\n",
       "      <td>...</td>\n",
       "      <td>...</td>\n",
       "      <td>...</td>\n",
       "    </tr>\n",
       "    <tr>\n",
       "      <th>27716</th>\n",
       "      <td>https://umsflowell.com/downhole-animations/</td>\n",
       "      <td>1683294561265</td>\n",
       "      <td>https://ito-photo.com/wp-content/plugins/rhye-...</td>\n",
       "      <td>1.0</td>\n",
       "      <td>1.0</td>\n",
       "      <td>0.0</td>\n",
       "      <td>worker</td>\n",
       "    </tr>\n",
       "    <tr>\n",
       "      <th>27717</th>\n",
       "      <td>https://umsflowell.com/rental-equipment/</td>\n",
       "      <td>1683294651376</td>\n",
       "      <td>https://ito-photo.com/wp-content/plugins/rhye-...</td>\n",
       "      <td>1.0</td>\n",
       "      <td>1.0</td>\n",
       "      <td>0.0</td>\n",
       "      <td>worker</td>\n",
       "    </tr>\n",
       "    <tr>\n",
       "      <th>34056</th>\n",
       "      <td>https://www.grandts.com/john-grandt-job-historie/</td>\n",
       "      <td>1683287620047</td>\n",
       "      <td>https://osmolis.hr/wp-content/plugins/rhye-cor...</td>\n",
       "      <td>1.0</td>\n",
       "      <td>1.0</td>\n",
       "      <td>0.0</td>\n",
       "      <td>worker</td>\n",
       "    </tr>\n",
       "    <tr>\n",
       "      <th>34057</th>\n",
       "      <td>https://www.grandts.com/john-grandt-job-historie/</td>\n",
       "      <td>1683287620047</td>\n",
       "      <td>https://osmolis.hr/wp-content/plugins/rhye-cor...</td>\n",
       "      <td>1.0</td>\n",
       "      <td>1.0</td>\n",
       "      <td>0.0</td>\n",
       "      <td>worker</td>\n",
       "    </tr>\n",
       "    <tr>\n",
       "      <th>40366</th>\n",
       "      <td>https://www.theambassadorplatform.com/pricing?...</td>\n",
       "      <td>1683299769823</td>\n",
       "      <td>https://tubladel.com/wp-content/plugins/rhye-c...</td>\n",
       "      <td>1.0</td>\n",
       "      <td>1.0</td>\n",
       "      <td>0.0</td>\n",
       "      <td>worker</td>\n",
       "    </tr>\n",
       "  </tbody>\n",
       "</table>\n",
       "<p>71 rows × 7 columns</p>\n",
       "</div>"
      ],
      "text/plain": [
       "                                                     url           date   \n",
       "22075                   https://olvia-center.ru/contacts  1683327847659  \\\n",
       "26317                          https://stashlukhvac.com/  1683335417352   \n",
       "26318                     https://stategisportal.nic.in/  1683335448957   \n",
       "26319                     https://stategisportal.nic.in/  1683335448957   \n",
       "26320                     https://stategisportal.nic.in/  1683335448957   \n",
       "...                                                  ...            ...   \n",
       "27716        https://umsflowell.com/downhole-animations/  1683294561265   \n",
       "27717           https://umsflowell.com/rental-equipment/  1683294651376   \n",
       "34056  https://www.grandts.com/john-grandt-job-historie/  1683287620047   \n",
       "34057  https://www.grandts.com/john-grandt-job-historie/  1683287620047   \n",
       "40366  https://www.theambassadorplatform.com/pricing?...  1683299769823   \n",
       "\n",
       "                                              worker.url  webgl2   2d  webgl   \n",
       "22075  https://fidirikosgroup.gr/wp-content/plugins/r...     1.0  1.0    0.0  \\\n",
       "26317  https://halorentals.com.au/wp-content/plugins/...     1.0  1.0    0.0   \n",
       "26318  https://halorentals.com.au/wp-content/plugins/...     1.0  1.0    0.0   \n",
       "26319  https://halorentals.com.au/wp-content/plugins/...     1.0  1.0    0.0   \n",
       "26320  https://halorentals.com.au/wp-content/plugins/...     1.0  1.0    0.0   \n",
       "...                                                  ...     ...  ...    ...   \n",
       "27716  https://ito-photo.com/wp-content/plugins/rhye-...     1.0  1.0    0.0   \n",
       "27717  https://ito-photo.com/wp-content/plugins/rhye-...     1.0  1.0    0.0   \n",
       "34056  https://osmolis.hr/wp-content/plugins/rhye-cor...     1.0  1.0    0.0   \n",
       "34057  https://osmolis.hr/wp-content/plugins/rhye-cor...     1.0  1.0    0.0   \n",
       "40366  https://tubladel.com/wp-content/plugins/rhye-c...     1.0  1.0    0.0   \n",
       "\n",
       "         type  \n",
       "22075  worker  \n",
       "26317  worker  \n",
       "26318  worker  \n",
       "26319  worker  \n",
       "26320  worker  \n",
       "...       ...  \n",
       "27716  worker  \n",
       "27717  worker  \n",
       "34056  worker  \n",
       "34057  worker  \n",
       "40366  worker  \n",
       "\n",
       "[71 rows x 7 columns]"
      ]
     },
     "execution_count": 19,
     "metadata": {},
     "output_type": "execute_result"
    }
   ],
   "source": [
    "tmp"
   ]
  },
  {
   "cell_type": "code",
   "execution_count": 20,
   "id": "975bb985",
   "metadata": {},
   "outputs": [
    {
     "name": "stdout",
     "output_type": "stream",
     "text": [
      "['http://satsumameijimura.jp/a/00000196_00000007'\n",
      " 'http://www.ceuarkos.edu.mx/encuentros-pascal-galvani/'\n",
      " 'http://www.latinmedios.com' 'https://bonkiogame.com/'\n",
      " 'https://dayandnight.moar.io' 'https://gosenergy.com/open-an-account/'\n",
      " 'https://hostida.com/blog/' 'https://www.einzigartig-evelynpoetz.at/'\n",
      " 'https://www.iijima-sc.com/recruitment/index.html'\n",
      " 'https://www.livehome.ne.jp/es/rent/1135932991140000480872']\n",
      "['http://dali.dartmouth.edu/partners' 'https://www.gather.ai/'\n",
      " 'http://www.innerspacevr.com/' 'https://www.theblazeprod.com/'\n",
      " 'https://www.clicktorelease.com/code/cruciform/'\n",
      " 'http://www.madronagallery.com/exhibitions/quvianaqtuk-pudlat-2022'\n",
      " 'http://www.ncati.org/' 'https://celadonsoft.com/'\n",
      " 'https://coloradotu.org/gofish' 'https://crushdepth.com/']\n"
     ]
    }
   ],
   "source": [
    "tmp = df_frame_oc[df_frame_oc['webgl'] > 0]\n",
    "print(tmp['url'].unique())\n",
    "print(tmp['frame.url'].unique())"
   ]
  },
  {
   "cell_type": "code",
   "execution_count": null,
   "id": "33d80e84",
   "metadata": {},
   "outputs": [],
   "source": []
  }
 ],
 "metadata": {
  "kernelspec": {
   "display_name": "Python 3 (ipykernel)",
   "language": "python",
   "name": "python3"
  },
  "language_info": {
   "codemirror_mode": {
    "name": "ipython",
    "version": 3
   },
   "file_extension": ".py",
   "mimetype": "text/x-python",
   "name": "python",
   "nbconvert_exporter": "python",
   "pygments_lexer": "ipython3",
   "version": "3.10.6"
  }
 },
 "nbformat": 4,
 "nbformat_minor": 5
}
