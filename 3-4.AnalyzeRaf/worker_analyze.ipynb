{
 "cells": [
  {
   "cell_type": "code",
   "execution_count": 1,
   "id": "93eb8df3",
   "metadata": {},
   "outputs": [],
   "source": [
    "import pandas as pd\n",
    "import seaborn as sns\n",
    "import matplotlib.pyplot as plt"
   ]
  },
  {
   "cell_type": "code",
   "execution_count": 2,
   "id": "269bc2b6",
   "metadata": {},
   "outputs": [
    {
     "ename": "FileNotFoundError",
     "evalue": "[Errno 2] No such file or directory: 'imr/0527-df_worker_oc.pkl.zst'",
     "output_type": "error",
     "traceback": [
      "\u001b[0;31m---------------------------------------------------------------------------\u001b[0m",
      "\u001b[0;31mFileNotFoundError\u001b[0m                         Traceback (most recent call last)",
      "\u001b[0;32m/tmp/ipykernel_2973882/5832192.py\u001b[0m in \u001b[0;36m<module>\u001b[0;34m\u001b[0m\n\u001b[0;32m----> 1\u001b[0;31m df_worker_oc = pd.read_pickle(\"imr/0527-df_worker_oc.pkl.zst\", compression='zstd').rename(columns={\n\u001b[0m\u001b[1;32m      2\u001b[0m     \u001b[0;34m'worker.data.webgl2'\u001b[0m\u001b[0;34m:\u001b[0m \u001b[0;34m'webgl2'\u001b[0m\u001b[0;34m,\u001b[0m\u001b[0;34m\u001b[0m\u001b[0;34m\u001b[0m\u001b[0m\n\u001b[1;32m      3\u001b[0m     \u001b[0;34m'worker.data.2d'\u001b[0m\u001b[0;34m:\u001b[0m \u001b[0;34m'2d'\u001b[0m\u001b[0;34m,\u001b[0m\u001b[0;34m\u001b[0m\u001b[0;34m\u001b[0m\u001b[0m\n\u001b[1;32m      4\u001b[0m     \u001b[0;34m'worker.data.webgl'\u001b[0m\u001b[0;34m:\u001b[0m \u001b[0;34m'webgl'\u001b[0m\u001b[0;34m,\u001b[0m\u001b[0;34m\u001b[0m\u001b[0;34m\u001b[0m\u001b[0m\n\u001b[1;32m      5\u001b[0m })\n",
      "\u001b[0;32m~/.local/lib/python3.10/site-packages/pandas/io/pickle.py\u001b[0m in \u001b[0;36mread_pickle\u001b[0;34m(filepath_or_buffer, compression, storage_options)\u001b[0m\n\u001b[1;32m    177\u001b[0m     \"\"\"\n\u001b[1;32m    178\u001b[0m     \u001b[0mexcs_to_catch\u001b[0m \u001b[0;34m=\u001b[0m \u001b[0;34m(\u001b[0m\u001b[0mAttributeError\u001b[0m\u001b[0;34m,\u001b[0m \u001b[0mImportError\u001b[0m\u001b[0;34m,\u001b[0m \u001b[0mModuleNotFoundError\u001b[0m\u001b[0;34m,\u001b[0m \u001b[0mTypeError\u001b[0m\u001b[0;34m)\u001b[0m\u001b[0;34m\u001b[0m\u001b[0;34m\u001b[0m\u001b[0m\n\u001b[0;32m--> 179\u001b[0;31m     with get_handle(\n\u001b[0m\u001b[1;32m    180\u001b[0m         \u001b[0mfilepath_or_buffer\u001b[0m\u001b[0;34m,\u001b[0m\u001b[0;34m\u001b[0m\u001b[0;34m\u001b[0m\u001b[0m\n\u001b[1;32m    181\u001b[0m         \u001b[0;34m\"rb\"\u001b[0m\u001b[0;34m,\u001b[0m\u001b[0;34m\u001b[0m\u001b[0;34m\u001b[0m\u001b[0m\n",
      "\u001b[0;32m~/.local/lib/python3.10/site-packages/pandas/io/common.py\u001b[0m in \u001b[0;36mget_handle\u001b[0;34m(path_or_buf, mode, encoding, compression, memory_map, is_text, errors, storage_options)\u001b[0m\n\u001b[1;32m    838\u001b[0m             \u001b[0;32melse\u001b[0m\u001b[0;34m:\u001b[0m\u001b[0;34m\u001b[0m\u001b[0;34m\u001b[0m\u001b[0m\n\u001b[1;32m    839\u001b[0m                 \u001b[0mopen_args\u001b[0m \u001b[0;34m=\u001b[0m \u001b[0;34m{\u001b[0m\u001b[0;34m\"cctx\"\u001b[0m\u001b[0;34m:\u001b[0m \u001b[0mzstd\u001b[0m\u001b[0;34m.\u001b[0m\u001b[0mZstdCompressor\u001b[0m\u001b[0;34m(\u001b[0m\u001b[0;34m**\u001b[0m\u001b[0mcompression_args\u001b[0m\u001b[0;34m)\u001b[0m\u001b[0;34m}\u001b[0m\u001b[0;34m\u001b[0m\u001b[0;34m\u001b[0m\u001b[0m\n\u001b[0;32m--> 840\u001b[0;31m             handle = zstd.open(\n\u001b[0m\u001b[1;32m    841\u001b[0m                 \u001b[0mhandle\u001b[0m\u001b[0;34m,\u001b[0m\u001b[0;34m\u001b[0m\u001b[0;34m\u001b[0m\u001b[0m\n\u001b[1;32m    842\u001b[0m                 \u001b[0mmode\u001b[0m\u001b[0;34m=\u001b[0m\u001b[0mioargs\u001b[0m\u001b[0;34m.\u001b[0m\u001b[0mmode\u001b[0m\u001b[0;34m,\u001b[0m\u001b[0;34m\u001b[0m\u001b[0;34m\u001b[0m\u001b[0m\n",
      "\u001b[0;32m~/.local/lib/python3.10/site-packages/zstandard/__init__.py\u001b[0m in \u001b[0;36mopen\u001b[0;34m(filename, mode, cctx, dctx, encoding, errors, newline, closefd)\u001b[0m\n\u001b[1;32m    150\u001b[0m \u001b[0;34m\u001b[0m\u001b[0m\n\u001b[1;32m    151\u001b[0m     \u001b[0;32mif\u001b[0m \u001b[0misinstance\u001b[0m\u001b[0;34m(\u001b[0m\u001b[0mfilename\u001b[0m\u001b[0;34m,\u001b[0m \u001b[0mtypes\u001b[0m\u001b[0;34m)\u001b[0m\u001b[0;34m:\u001b[0m  \u001b[0;31m# type: ignore\u001b[0m\u001b[0;34m\u001b[0m\u001b[0;34m\u001b[0m\u001b[0m\n\u001b[0;32m--> 152\u001b[0;31m         \u001b[0minner_fh\u001b[0m \u001b[0;34m=\u001b[0m \u001b[0mbuiltins\u001b[0m\u001b[0;34m.\u001b[0m\u001b[0mopen\u001b[0m\u001b[0;34m(\u001b[0m\u001b[0mfilename\u001b[0m\u001b[0;34m,\u001b[0m \u001b[0mraw_open_mode\u001b[0m\u001b[0;34m)\u001b[0m\u001b[0;34m\u001b[0m\u001b[0;34m\u001b[0m\u001b[0m\n\u001b[0m\u001b[1;32m    153\u001b[0m         \u001b[0mclosefd\u001b[0m \u001b[0;34m=\u001b[0m \u001b[0;32mTrue\u001b[0m\u001b[0;34m\u001b[0m\u001b[0;34m\u001b[0m\u001b[0m\n\u001b[1;32m    154\u001b[0m     \u001b[0;32melif\u001b[0m \u001b[0mhasattr\u001b[0m\u001b[0;34m(\u001b[0m\u001b[0mfilename\u001b[0m\u001b[0;34m,\u001b[0m \u001b[0;34m\"read\"\u001b[0m\u001b[0;34m)\u001b[0m \u001b[0;32mor\u001b[0m \u001b[0mhasattr\u001b[0m\u001b[0;34m(\u001b[0m\u001b[0mfilename\u001b[0m\u001b[0;34m,\u001b[0m \u001b[0;34m\"write\"\u001b[0m\u001b[0;34m)\u001b[0m\u001b[0;34m:\u001b[0m\u001b[0;34m\u001b[0m\u001b[0;34m\u001b[0m\u001b[0m\n",
      "\u001b[0;31mFileNotFoundError\u001b[0m: [Errno 2] No such file or directory: 'imr/0527-df_worker_oc.pkl.zst'"
     ]
    }
   ],
   "source": [
    "df_worker_oc = pd.read_pickle(\"imr/0527-df_worker_oc.pkl.zst\", compression='zstd').rename(columns={\n",
    "    'worker.data.webgl2': 'webgl2',\n",
    "    'worker.data.2d': '2d',\n",
    "    'worker.data.webgl': 'webgl',\n",
    "})\n",
    "df_frame_oc = pd.read_pickle(\"imr/0527-df_frame_oc.pkl.zst\", compression='zstd').rename(columns={\n",
    "    'frame.data.webgl2': 'webgl2',\n",
    "    'frame.data.2d': '2d',\n",
    "    'frame.data.webgl': 'webgl',\n",
    "})\n",
    "\n",
    "df_worker_oc['type'] = 'worker'\n",
    "df_frame_oc['type'] = 'main'"
   ]
  },
  {
   "cell_type": "code",
   "execution_count": null,
   "id": "9f86437a",
   "metadata": {},
   "outputs": [],
   "source": [
    "df = pd.concat([\n",
    "    df_worker_oc.drop_duplicates(subset=['url'])[['webgl2', 'webgl', 'type']],\n",
    "    df_frame_oc.drop_duplicates(subset=['url'])[['webgl2', 'webgl', 'type']]\n",
    "])"
   ]
  },
  {
   "cell_type": "code",
   "execution_count": null,
   "id": "02a19166",
   "metadata": {},
   "outputs": [],
   "source": [
    "sns.set_context(\"paper\", font_scale=2)\n",
    "sns.set_palette(\"deep\")"
   ]
  },
  {
   "cell_type": "code",
   "execution_count": null,
   "id": "aff68dce",
   "metadata": {},
   "outputs": [
    {
     "data": {
      "text/html": [
       "<div>\n",
       "<style scoped>\n",
       "    .dataframe tbody tr th:only-of-type {\n",
       "        vertical-align: middle;\n",
       "    }\n",
       "\n",
       "    .dataframe tbody tr th {\n",
       "        vertical-align: top;\n",
       "    }\n",
       "\n",
       "    .dataframe thead th {\n",
       "        text-align: right;\n",
       "    }\n",
       "</style>\n",
       "<table border=\"1\" class=\"dataframe\">\n",
       "  <thead>\n",
       "    <tr style=\"text-align: right;\">\n",
       "      <th></th>\n",
       "      <th>webgl2</th>\n",
       "      <th>webgl</th>\n",
       "      <th>type</th>\n",
       "    </tr>\n",
       "  </thead>\n",
       "  <tbody>\n",
       "    <tr>\n",
       "      <th>2969</th>\n",
       "      <td>0.0</td>\n",
       "      <td>0.0</td>\n",
       "      <td>worker</td>\n",
       "    </tr>\n",
       "    <tr>\n",
       "      <th>3947</th>\n",
       "      <td>0.0</td>\n",
       "      <td>0.0</td>\n",
       "      <td>worker</td>\n",
       "    </tr>\n",
       "    <tr>\n",
       "      <th>7048</th>\n",
       "      <td>0.0</td>\n",
       "      <td>0.0</td>\n",
       "      <td>worker</td>\n",
       "    </tr>\n",
       "    <tr>\n",
       "      <th>8176</th>\n",
       "      <td>0.0</td>\n",
       "      <td>0.0</td>\n",
       "      <td>worker</td>\n",
       "    </tr>\n",
       "    <tr>\n",
       "      <th>8586</th>\n",
       "      <td>0.0</td>\n",
       "      <td>0.0</td>\n",
       "      <td>worker</td>\n",
       "    </tr>\n",
       "    <tr>\n",
       "      <th>...</th>\n",
       "      <td>...</td>\n",
       "      <td>...</td>\n",
       "      <td>...</td>\n",
       "    </tr>\n",
       "    <tr>\n",
       "      <th>105269</th>\n",
       "      <td>0.0</td>\n",
       "      <td>0.0</td>\n",
       "      <td>main</td>\n",
       "    </tr>\n",
       "    <tr>\n",
       "      <th>105271</th>\n",
       "      <td>0.0</td>\n",
       "      <td>0.0</td>\n",
       "      <td>main</td>\n",
       "    </tr>\n",
       "    <tr>\n",
       "      <th>105283</th>\n",
       "      <td>0.0</td>\n",
       "      <td>0.0</td>\n",
       "      <td>main</td>\n",
       "    </tr>\n",
       "    <tr>\n",
       "      <th>105332</th>\n",
       "      <td>0.0</td>\n",
       "      <td>0.0</td>\n",
       "      <td>main</td>\n",
       "    </tr>\n",
       "    <tr>\n",
       "      <th>105412</th>\n",
       "      <td>0.0</td>\n",
       "      <td>0.0</td>\n",
       "      <td>main</td>\n",
       "    </tr>\n",
       "  </tbody>\n",
       "</table>\n",
       "<p>2479 rows × 3 columns</p>\n",
       "</div>"
      ],
      "text/plain": [
       "        webgl2  webgl    type\n",
       "2969       0.0    0.0  worker\n",
       "3947       0.0    0.0  worker\n",
       "7048       0.0    0.0  worker\n",
       "8176       0.0    0.0  worker\n",
       "8586       0.0    0.0  worker\n",
       "...        ...    ...     ...\n",
       "105269     0.0    0.0    main\n",
       "105271     0.0    0.0    main\n",
       "105283     0.0    0.0    main\n",
       "105332     0.0    0.0    main\n",
       "105412     0.0    0.0    main\n",
       "\n",
       "[2479 rows x 3 columns]"
      ]
     },
     "execution_count": 22,
     "metadata": {},
     "output_type": "execute_result"
    }
   ],
   "source": [
    "df"
   ]
  },
  {
   "cell_type": "code",
   "execution_count": null,
   "id": "2e05b898",
   "metadata": {},
   "outputs": [
    {
     "data": {
      "text/plain": [
       "<Figure size 1152x864 with 0 Axes>"
      ]
     },
     "metadata": {},
     "output_type": "display_data"
    },
    {
     "data": {
      "image/png": "[encoded data removed]",
      "text/plain": [
       "<Figure size 432x288 with 1 Axes>"
      ]
     },
     "metadata": {
      "needs_background": "light"
     },
     "output_type": "display_data"
    }
   ],
   "source": [
    "plt.figure(figsize=(16, 12))\n",
    "\n",
    "# Group the DataFrame by \"type\" and sum the other columns\n",
    "grouped_df = df.groupby('type').sum()\n",
    "\n",
    "# Plot a bar chart with \"type\" as the hue\n",
    "ax = grouped_df.plot(kind='bar', rot=0, title='Context Type of OffscreenCanvas', ylabel='Count', xlabel='Location', alpha=0.8)\n",
    "\n",
    "for p in ax.patches:\n",
    "    ax.annotate(str(int(p.get_height())), (p.get_x() + p.get_width() / 2, p.get_height() + 1), ha='center', va='bottom')\n",
    "plt.ylim((0, 20))\n",
    "plt.savefig('fig/results_oc_type.pdf', bbox_inches='tight')"
   ]
  },
  {
   "cell_type": "code",
   "execution_count": null,
   "id": "b92e9458",
   "metadata": {},
   "outputs": [
    {
     "data": {
      "text/html": [
       "<div>\n",
       "<style scoped>\n",
       "    .dataframe tbody tr th:only-of-type {\n",
       "        vertical-align: middle;\n",
       "    }\n",
       "\n",
       "    .dataframe tbody tr th {\n",
       "        vertical-align: top;\n",
       "    }\n",
       "\n",
       "    .dataframe thead th {\n",
       "        text-align: right;\n",
       "    }\n",
       "</style>\n",
       "<table border=\"1\" class=\"dataframe\">\n",
       "  <thead>\n",
       "    <tr style=\"text-align: right;\">\n",
       "      <th></th>\n",
       "      <th>url</th>\n",
       "      <th>date</th>\n",
       "      <th>worker.url</th>\n",
       "      <th>webgl2</th>\n",
       "      <th>2d</th>\n",
       "      <th>webgl</th>\n",
       "      <th>type</th>\n",
       "    </tr>\n",
       "  </thead>\n",
       "  <tbody>\n",
       "    <tr>\n",
       "      <th>22075</th>\n",
       "      <td>https://olvia-center.ru/contacts</td>\n",
       "      <td>1683327847659</td>\n",
       "      <td>https://fidirikosgroup.gr/wp-content/plugins/r...</td>\n",
       "      <td>1.0</td>\n",
       "      <td>1.0</td>\n",
       "      <td>0.0</td>\n",
       "      <td>worker</td>\n",
       "    </tr>\n",
       "    <tr>\n",
       "      <th>26317</th>\n",
       "      <td>https://stashlukhvac.com/</td>\n",
       "      <td>1683335417352</td>\n",
       "      <td>https://halorentals.com.au/wp-content/plugins/...</td>\n",
       "      <td>1.0</td>\n",
       "      <td>1.0</td>\n",
       "      <td>0.0</td>\n",
       "      <td>worker</td>\n",
       "    </tr>\n",
       "    <tr>\n",
       "      <th>26318</th>\n",
       "      <td>https://stategisportal.nic.in/</td>\n",
       "      <td>1683335448957</td>\n",
       "      <td>https://halorentals.com.au/wp-content/plugins/...</td>\n",
       "      <td>1.0</td>\n",
       "      <td>1.0</td>\n",
       "      <td>0.0</td>\n",
       "      <td>worker</td>\n",
       "    </tr>\n",
       "    <tr>\n",
       "      <th>27010</th>\n",
       "      <td>https://thingmap.thingjs.com/</td>\n",
       "      <td>1683358201996</td>\n",
       "      <td>https://ics-web.jp/assets/topHero/worker.js</td>\n",
       "      <td>1.0</td>\n",
       "      <td>1.0</td>\n",
       "      <td>0.0</td>\n",
       "      <td>worker</td>\n",
       "    </tr>\n",
       "    <tr>\n",
       "      <th>27692</th>\n",
       "      <td>https://umsflowell.com/case-histories/</td>\n",
       "      <td>1683294490619</td>\n",
       "      <td>https://ito-photo.com/wp-content/plugins/rhye-...</td>\n",
       "      <td>1.0</td>\n",
       "      <td>1.0</td>\n",
       "      <td>0.0</td>\n",
       "      <td>worker</td>\n",
       "    </tr>\n",
       "    <tr>\n",
       "      <th>27694</th>\n",
       "      <td>https://umsflowell.com/casing-isolation-with-r...</td>\n",
       "      <td>1683294527809</td>\n",
       "      <td>https://ito-photo.com/wp-content/plugins/rhye-...</td>\n",
       "      <td>1.0</td>\n",
       "      <td>1.0</td>\n",
       "      <td>0.0</td>\n",
       "      <td>worker</td>\n",
       "    </tr>\n",
       "    <tr>\n",
       "      <th>27695</th>\n",
       "      <td>https://umsflowell.com/downhole-animations/</td>\n",
       "      <td>1683294561265</td>\n",
       "      <td>https://ito-photo.com/wp-content/plugins/rhye-...</td>\n",
       "      <td>1.0</td>\n",
       "      <td>1.0</td>\n",
       "      <td>0.0</td>\n",
       "      <td>worker</td>\n",
       "    </tr>\n",
       "    <tr>\n",
       "      <th>27717</th>\n",
       "      <td>https://umsflowell.com/rental-equipment/</td>\n",
       "      <td>1683294651376</td>\n",
       "      <td>https://ito-photo.com/wp-content/plugins/rhye-...</td>\n",
       "      <td>1.0</td>\n",
       "      <td>1.0</td>\n",
       "      <td>0.0</td>\n",
       "      <td>worker</td>\n",
       "    </tr>\n",
       "    <tr>\n",
       "      <th>34056</th>\n",
       "      <td>https://www.grandts.com/john-grandt-job-historie/</td>\n",
       "      <td>1683287620047</td>\n",
       "      <td>https://osmolis.hr/wp-content/plugins/rhye-cor...</td>\n",
       "      <td>1.0</td>\n",
       "      <td>1.0</td>\n",
       "      <td>0.0</td>\n",
       "      <td>worker</td>\n",
       "    </tr>\n",
       "    <tr>\n",
       "      <th>40366</th>\n",
       "      <td>https://www.theambassadorplatform.com/pricing?...</td>\n",
       "      <td>1683299769823</td>\n",
       "      <td>https://tubladel.com/wp-content/plugins/rhye-c...</td>\n",
       "      <td>1.0</td>\n",
       "      <td>1.0</td>\n",
       "      <td>0.0</td>\n",
       "      <td>worker</td>\n",
       "    </tr>\n",
       "  </tbody>\n",
       "</table>\n",
       "</div>"
      ],
      "text/plain": [
       "                                                     url           date   \n",
       "22075                   https://olvia-center.ru/contacts  1683327847659  \\\n",
       "26317                          https://stashlukhvac.com/  1683335417352   \n",
       "26318                     https://stategisportal.nic.in/  1683335448957   \n",
       "27010                      https://thingmap.thingjs.com/  1683358201996   \n",
       "27692             https://umsflowell.com/case-histories/  1683294490619   \n",
       "27694  https://umsflowell.com/casing-isolation-with-r...  1683294527809   \n",
       "27695        https://umsflowell.com/downhole-animations/  1683294561265   \n",
       "27717           https://umsflowell.com/rental-equipment/  1683294651376   \n",
       "34056  https://www.grandts.com/john-grandt-job-historie/  1683287620047   \n",
       "40366  https://www.theambassadorplatform.com/pricing?...  1683299769823   \n",
       "\n",
       "                                              worker.url  webgl2   2d  webgl   \n",
       "22075  https://fidirikosgroup.gr/wp-content/plugins/r...     1.0  1.0    0.0  \\\n",
       "26317  https://halorentals.com.au/wp-content/plugins/...     1.0  1.0    0.0   \n",
       "26318  https://halorentals.com.au/wp-content/plugins/...     1.0  1.0    0.0   \n",
       "27010        https://ics-web.jp/assets/topHero/worker.js     1.0  1.0    0.0   \n",
       "27692  https://ito-photo.com/wp-content/plugins/rhye-...     1.0  1.0    0.0   \n",
       "27694  https://ito-photo.com/wp-content/plugins/rhye-...     1.0  1.0    0.0   \n",
       "27695  https://ito-photo.com/wp-content/plugins/rhye-...     1.0  1.0    0.0   \n",
       "27717  https://ito-photo.com/wp-content/plugins/rhye-...     1.0  1.0    0.0   \n",
       "34056  https://osmolis.hr/wp-content/plugins/rhye-cor...     1.0  1.0    0.0   \n",
       "40366  https://tubladel.com/wp-content/plugins/rhye-c...     1.0  1.0    0.0   \n",
       "\n",
       "         type  \n",
       "22075  worker  \n",
       "26317  worker  \n",
       "26318  worker  \n",
       "27010  worker  \n",
       "27692  worker  \n",
       "27694  worker  \n",
       "27695  worker  \n",
       "27717  worker  \n",
       "34056  worker  \n",
       "40366  worker  "
      ]
     },
     "execution_count": 17,
     "metadata": {},
     "output_type": "execute_result"
    }
   ],
   "source": [
    "tmp = df_worker_oc[df_worker_oc['webgl2'] > 0]\n",
    "tmp.drop_duplicates(subset=['url'])"
   ]
  },
  {
   "cell_type": "code",
   "execution_count": null,
   "id": "3f715699",
   "metadata": {},
   "outputs": [
    {
     "data": {
      "text/plain": [
       "'https://fidirikosgroup.gr/wp-content/plugins/rhye-core/modules/baseGLAnimationOffscreen/EffectDistortionOffscreen.js'"
      ]
     },
     "execution_count": 27,
     "metadata": {},
     "output_type": "execute_result"
    }
   ],
   "source": [
    "tmp['worker.url'].iloc[0]"
   ]
  },
  {
   "cell_type": "code",
   "execution_count": null,
   "id": "975bb985",
   "metadata": {},
   "outputs": [
    {
     "name": "stdout",
     "output_type": "stream",
     "text": [
      "['http://satsumameijimura.jp/a/00000196_00000007'\n",
      " 'http://www.ceuarkos.edu.mx/encuentros-pascal-galvani/'\n",
      " 'http://www.latinmedios.com' 'https://bonkiogame.com/'\n",
      " 'https://dayandnight.moar.io' 'https://gosenergy.com/open-an-account/'\n",
      " 'https://hostida.com/blog/' 'https://www.einzigartig-evelynpoetz.at/'\n",
      " 'https://www.iijima-sc.com/recruitment/index.html'\n",
      " 'https://www.livehome.ne.jp/es/rent/1135932991140000480872']\n",
      "['http://dali.dartmouth.edu/partners' 'https://www.gather.ai/'\n",
      " 'http://www.innerspacevr.com/' 'https://www.theblazeprod.com/'\n",
      " 'https://www.clicktorelease.com/code/cruciform/'\n",
      " 'http://www.madronagallery.com/exhibitions/quvianaqtuk-pudlat-2022'\n",
      " 'http://www.ncati.org/' 'https://celadonsoft.com/'\n",
      " 'https://coloradotu.org/gofish' 'https://crushdepth.com/']\n"
     ]
    }
   ],
   "source": [
    "tmp = df_frame_oc[df_frame_oc['webgl'] > 0]\n",
    "print(tmp['url'].unique())\n",
    "print(tmp['frame.url'].unique())"
   ]
  },
  {
   "cell_type": "code",
   "execution_count": null,
   "id": "33d80e84",
   "metadata": {},
   "outputs": [
    {
     "name": "stdout",
     "output_type": "stream",
     "text": [
      "['https://dayandnight.moar.io' 'https://www.galgame.pw/']\n",
      "['https://www.clicktorelease.com/code/cruciform/'\n",
      " 'https://chroma.metmuseum.org/']\n"
     ]
    }
   ],
   "source": [
    "tmp = df_frame_oc[df_frame_oc['webgl2'] > 0]\n",
    "print(tmp['url'].unique())\n",
    "print(tmp['frame.url'].unique())"
   ]
  },
  {
   "cell_type": "code",
   "execution_count": null,
   "id": "d2f30a94",
   "metadata": {},
   "outputs": [],
   "source": []
  }
 ],
 "metadata": {
  "kernelspec": {
   "display_name": "Python 3 (ipykernel)",
   "language": "python",
   "name": "python3"
  },
  "language_info": {
   "codemirror_mode": {
    "name": "ipython",
    "version": 3
   },
   "file_extension": ".py",
   "mimetype": "text/x-python",
   "name": "python",
   "nbconvert_exporter": "python",
   "pygments_lexer": "ipython3",
   "version": "3.10.6"
  }
 },
 "nbformat": 4,
 "nbformat_minor": 5
}
