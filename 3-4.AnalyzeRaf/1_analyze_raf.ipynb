{
 "cells": [
  {
   "cell_type": "code",
   "execution_count": 1,
   "metadata": {
    "ExecuteTime": {
     "end_time": "2023-05-02T01:51:57.640401891Z",
     "start_time": "2023-05-02T01:51:49.981775421Z"
    }
   },
   "outputs": [
    {
     "data": {
      "text/html": [
       "<svg  width=\"550\" height=\"55\"><rect x=\"0\" y=\"0\" width=\"55\" height=\"55\" style=\"fill:#4c72b0;stroke-width:2;stroke:rgb(255,255,255)\"/><rect x=\"55\" y=\"0\" width=\"55\" height=\"55\" style=\"fill:#dd8452;stroke-width:2;stroke:rgb(255,255,255)\"/><rect x=\"110\" y=\"0\" width=\"55\" height=\"55\" style=\"fill:#55a868;stroke-width:2;stroke:rgb(255,255,255)\"/><rect x=\"165\" y=\"0\" width=\"55\" height=\"55\" style=\"fill:#c44e52;stroke-width:2;stroke:rgb(255,255,255)\"/><rect x=\"220\" y=\"0\" width=\"55\" height=\"55\" style=\"fill:#8172b3;stroke-width:2;stroke:rgb(255,255,255)\"/><rect x=\"275\" y=\"0\" width=\"55\" height=\"55\" style=\"fill:#937860;stroke-width:2;stroke:rgb(255,255,255)\"/><rect x=\"330\" y=\"0\" width=\"55\" height=\"55\" style=\"fill:#da8bc3;stroke-width:2;stroke:rgb(255,255,255)\"/><rect x=\"385\" y=\"0\" width=\"55\" height=\"55\" style=\"fill:#8c8c8c;stroke-width:2;stroke:rgb(255,255,255)\"/><rect x=\"440\" y=\"0\" width=\"55\" height=\"55\" style=\"fill:#ccb974;stroke-width:2;stroke:rgb(255,255,255)\"/><rect x=\"495\" y=\"0\" width=\"55\" height=\"55\" style=\"fill:#64b5cd;stroke-width:2;stroke:rgb(255,255,255)\"/></svg>"
      ],
      "text/plain": [
       "[(0.2980392156862745, 0.4470588235294118, 0.6901960784313725),\n",
       " (0.8666666666666667, 0.5176470588235295, 0.3215686274509804),\n",
       " (0.3333333333333333, 0.6588235294117647, 0.40784313725490196),\n",
       " (0.7686274509803922, 0.3058823529411765, 0.3215686274509804),\n",
       " (0.5058823529411764, 0.4470588235294118, 0.7019607843137254),\n",
       " (0.5764705882352941, 0.47058823529411764, 0.3764705882352941),\n",
       " (0.8549019607843137, 0.5450980392156862, 0.7647058823529411),\n",
       " (0.5490196078431373, 0.5490196078431373, 0.5490196078431373),\n",
       " (0.8, 0.7254901960784313, 0.4549019607843137),\n",
       " (0.39215686274509803, 0.7098039215686275, 0.803921568627451)]"
      ]
     },
     "execution_count": 1,
     "metadata": {},
     "output_type": "execute_result"
    }
   ],
   "source": [
    "import json\n",
    "from pathlib import Path\n",
    "\n",
    "import pandas as pd\n",
    "import seaborn as sns\n",
    "import matplotlib.pyplot as plt\n",
    "\n",
    "sns.set_context(\"paper\")\n",
    "sns.set_palette(\"deep\")\n",
    "color_palette = sns.color_palette()\n",
    "color_palette"
   ]
  },
  {
   "cell_type": "code",
   "execution_count": 2,
   "metadata": {
    "ExecuteTime": {
     "end_time": "2023-05-02T01:51:57.641061067Z",
     "start_time": "2023-05-02T01:51:50.129798080Z"
    }
   },
   "outputs": [],
   "source": [
    "# const GLenum POINTS                         = 0x0000;\n",
    "# const GLenum LINES                          = 0x0001;\n",
    "# const GLenum LINE_LOOP                      = 0x0002;\n",
    "# const GLenum LINE_STRIP                     = 0x0003;\n",
    "# const GLenum TRIANGLES                      = 0x0004;\n",
    "# const GLenum TRIANGLE_STRIP                 = 0x0005;\n",
    "# const GLenum TRIANGLE_FAN                   = 0x0006;\n",
    "gl_types = {\n",
    "    0: \"POINTS\",\n",
    "    1: \"LINES\",\n",
    "    2: \"LINE_LOOP\",\n",
    "    3: \"LINE_STRIP\",\n",
    "    4: \"TRIANGLES\",\n",
    "    5: \"TRIANGLE_STRIP\",\n",
    "    6: \"TRIANGLE_FAN\",\n",
    "}"
   ]
  },
  {
   "cell_type": "code",
   "execution_count": 3,
   "metadata": {
    "ExecuteTime": {
     "end_time": "2023-05-02T01:54:37.086928895Z",
     "start_time": "2023-05-02T01:53:14.437054525Z"
    }
   },
   "outputs": [],
   "source": [
    "df_frame = pd.read_pickle('imr/0501-df_frame-raf.pkl.zst', compression='zstd')\n",
    "# df_context = pd.read_pickle('imr/0501-df_context.pkl.zst', compression='zstd')\n",
    "df_context_noraf = pd.read_pickle('imr/0501-df_context-noraf.pkl.zst', compression='zstd')"
   ]
  },
  {
   "cell_type": "code",
   "execution_count": 4,
   "metadata": {},
   "outputs": [
    {
     "data": {
      "text/plain": [
       "count    18761.000000\n",
       "mean         3.487394\n",
       "std         24.079711\n",
       "min          1.000000\n",
       "50%          2.000000\n",
       "75%          3.000000\n",
       "90%          4.000000\n",
       "95%          6.000000\n",
       "99%         12.000000\n",
       "max        919.000000\n",
       "Name: count, dtype: float64"
      ]
     },
     "execution_count": 4,
     "metadata": {},
     "output_type": "execute_result"
    }
   ],
   "source": [
    "df_context_noraf['idx-frame'].value_counts().describe(percentiles=[0.5, 0.75, 0.9, 0.95, 0.99])"
   ]
  },
  {
   "cell_type": "code",
   "execution_count": 56,
   "metadata": {},
   "outputs": [],
   "source": [
    "df_context_noraf[df_context_noraf['idx-frame']==2119].to_excel('tmp.xlsx')"
   ]
  },
  {
   "cell_type": "code",
   "execution_count": 6,
   "metadata": {
    "collapsed": false
   },
   "outputs": [
    {
     "data": {
      "image/png": "[encoded data removed]",
      "text/plain": [
       "<Figure size 1200x500 with 1 Axes>"
      ]
     },
     "metadata": {},
     "output_type": "display_data"
    }
   ],
   "source": [
    "# df_context_noraf[\"frame.context.maghsk.createArguments.0\"].value_counts()\n",
    "fig, axes = plt.subplots(figsize=(12, 5))\n",
    "sns.countplot(y=\"frame.context.maghsk.createArguments.0\", data=df_context_noraf, ax=axes)\n",
    "axes.set_xlabel('Count')\n",
    "axes.set_ylabel('contextType')\n",
    "axes.set_title('contextType distribution')\n",
    "plt.tight_layout()"
   ]
  },
  {
   "cell_type": "code",
   "execution_count": null,
   "metadata": {
    "collapsed": false
   },
   "outputs": [],
   "source": []
  },
  {
   "cell_type": "code",
   "execution_count": null,
   "metadata": {
    "ExecuteTime": {
     "end_time": "2023-04-17T11:00:06.661158Z",
     "start_time": "2023-04-17T10:59:55.487932Z"
    }
   },
   "outputs": [],
   "source": [
    "trace_path_list = sorted((raf_path / 'pickle').glob('*.pkl.zstd'))\n",
    "df_traces = pd.DataFrame([pkl.load(zstd.open(x, 'rb')) for x in trace_path_list], index=[x.name for x in trace_path_list])\n",
    "# rename index to filename\n",
    "df_traces.index.name = 'filename'\n",
    "df_traces.rename(columns={'gl_info': 'gl_info_raf'}, inplace=True)"
   ]
  },
  {
   "cell_type": "code",
   "execution_count": null,
   "metadata": {
    "ExecuteTime": {
     "end_time": "2023-04-17T11:00:06.690841Z",
     "start_time": "2023-04-17T11:00:06.669761Z"
    }
   },
   "outputs": [],
   "source": [
    "df_traces_status = pd.DataFrame(list(df_traces['status']), index=df_traces.index, dtype='string')\n",
    "df_traces_status = df_traces_status.add_prefix('status-')\n",
    "df_traces.drop(columns=['status'], inplace=True)\n",
    "df_traces = df_traces.merge(df_traces_status, left_index=True, right_index=True)"
   ]
  },
  {
   "cell_type": "code",
   "execution_count": null,
   "metadata": {
    "ExecuteTime": {
     "end_time": "2023-04-17T11:00:06.710429Z",
     "start_time": "2023-04-17T11:00:06.696242Z"
    }
   },
   "outputs": [],
   "source": [
    "tmp = df_traces['gl_info_raf'].dropna(inplace=False)\n",
    "df_url = pd.DataFrame(tmp.to_list(), index=tmp.index).drop(columns=['url'])\n",
    "df_url = df_traces.merge(df_url, how='left', left_index=True, right_index=True)\n",
    "df_url.reset_index(inplace=True)"
   ]
  },
  {
   "cell_type": "code",
   "execution_count": null,
   "metadata": {
    "ExecuteTime": {
     "end_time": "2023-04-17T11:00:06.724302Z",
     "start_time": "2023-04-17T11:00:06.714314Z"
    }
   },
   "outputs": [],
   "source": [
    "df_url.rename(columns={\n",
    "    'filename': 'instrument-filename',\n",
    "    'url': 'instrument-url',\n",
    "    'start_time': 'instrument-start_time',\n",
    "    'duration': 'instrument-duration',\n",
    "    'har': 'instrument-har',\n",
    "    'accessTime': 'url-accessTime',\n",
    "    'rafFuncCountList': 'url-rafFuncCountList',\n",
    "    'title': 'url-title',\n",
    "    'usedOffScreenCanvas': 'url-usedOffScreenCanvas',\n",
    "    'when': 'url-when',\n",
    "    'whenDomContentLoadedEvent': 'url-whenDomContentLoadedEvent',\n",
    "    'whenLoadEvent': 'url-whenLoadEvent',\n",
    "    'whenUsedWebgl': 'url-whenUsedWebgl',\n",
    "}, inplace=True)"
   ]
  },
  {
   "cell_type": "code",
   "execution_count": null,
   "metadata": {
    "ExecuteTime": {
     "end_time": "2023-04-17T11:57:19.125299Z",
     "start_time": "2023-04-17T11:57:19.116022Z"
    },
    "collapsed": false
   },
   "outputs": [],
   "source": [
    "df_url[df_url['instrument-url'] == 'http://frontside.com.au']"
   ]
  },
  {
   "cell_type": "code",
   "execution_count": null,
   "metadata": {
    "ExecuteTime": {
     "end_time": "2023-04-17T09:26:22.616841Z",
     "start_time": "2023-04-17T09:26:22.579207Z"
    }
   },
   "outputs": [],
   "source": [
    "df_exploded = df_url.explode('contextInfo').dropna(subset=['contextInfo'])\n",
    "df_context = pd.DataFrame(list(df_exploded['contextInfo']), index=df_exploded.index).drop(columns=['triangleCount']).add_prefix('context-')\n",
    "df_url.drop(columns=['contextInfo'], inplace=True)\n",
    "df_context = df_url.drop(columns=['gl_info_raf']).merge(df_context, how='left', left_index=True, right_index=True)\n",
    "df_context.reset_index(inplace=True, drop=True)\n",
    "df_context.index.name = 'context-id'"
   ]
  },
  {
   "cell_type": "code",
   "execution_count": null,
   "metadata": {
    "ExecuteTime": {
     "end_time": "2023-04-17T09:26:22.660648Z",
     "start_time": "2023-04-17T09:26:22.619992Z"
    }
   },
   "outputs": [],
   "source": [
    "tmp = df_context['context-maghsk'].dropna(inplace=False)\n",
    "df_maghsk = pd.DataFrame(tmp.to_list(), index=tmp.index).add_prefix('context-maghsk-')\n",
    "tmp = df_context['context-memoryInfo'].dropna(inplace=False)\n",
    "df_memory = pd.DataFrame(tmp.to_list(), index=tmp.index).add_prefix('context-mem-')\n",
    "tmp = df_context['context-contextAttributes'].dropna(inplace=False)\n",
    "df_ctxattr = pd.DataFrame(tmp.to_list(), index=tmp.index).add_prefix('context-attributes-')\n",
    "\n",
    "df_context = df_context.drop(columns=['context-maghsk']).merge(df_maghsk, how='left', left_index=True, right_index=True)\n",
    "df_context = df_context.drop(columns=['context-memoryInfo']).merge(df_memory, how='left', left_index=True, right_index=True)\n",
    "df_context = df_context.drop(columns=['context-contextAttributes']).merge(df_ctxattr, how='left', left_index=True, right_index=True)"
   ]
  },
  {
   "cell_type": "code",
   "execution_count": null,
   "metadata": {
    "ExecuteTime": {
     "end_time": "2023-04-17T09:26:22.683227Z",
     "start_time": "2023-04-17T09:26:22.666302Z"
    }
   },
   "outputs": [],
   "source": [
    "df_context = df_context.astype({\n",
    "    'instrument-filename' : 'string',\n",
    "    'instrument-url' : 'string',\n",
    "    'instrument-start_time' : 'Float64',\n",
    "    'instrument-duration' : 'Float64',\n",
    "    'instrument-har' : 'object',\n",
    "    'url-accessTime' : 'Float64',\n",
    "    'url-rafFuncCountList' : 'object',\n",
    "    'url-title' : 'string',\n",
    "    'url-usedOffScreenCanvas' : 'boolean',\n",
    "    'url-when' : 'Float64',\n",
    "    'url-whenDomContentLoadedEvent' : 'Float64',\n",
    "    'url-whenLoadEvent' : 'Float64',\n",
    "    'url-whenUsedWebgl' : 'Float64',\n",
    "    'context-canvasContained' : 'boolean',\n",
    "    'context-canvasHidden' : 'boolean',\n",
    "    'context-canvasSize' : 'object',\n",
    "    'context-capturedFunctionsLength' : 'Float64',\n",
    "    'context-extensions' : 'object',\n",
    "    'context-programInfo' : 'object',\n",
    "    'context-vertexCount' : 'Float64',\n",
    "    'context-maghsk-counter' : 'object',\n",
    "    'context-maghsk-createArguments' : 'object',\n",
    "    'context-maghsk-createTime' : 'Float64',\n",
    "    'context-maghsk-rafList' : 'object',\n",
    "    'context-maghsk-pixelsRead' : 'Float64',\n",
    "    'context-mem-memory' : 'object',\n",
    "    'context-mem-resources' : 'object',\n",
    "    'context-attributes-alpha' : 'boolean',\n",
    "    'context-attributes-antialias' : 'boolean',\n",
    "    'context-attributes-depth' : 'boolean',\n",
    "    'context-attributes-desynchronized' : 'boolean',\n",
    "    'context-attributes-failIfMajorPerformanceCaveat' : 'boolean',\n",
    "    'context-attributes-powerPreference' : 'string',\n",
    "    'context-attributes-premultipliedAlpha' : 'boolean',\n",
    "    'context-attributes-preserveDrawingBuffer' : 'boolean',\n",
    "    'context-attributes-stencil' : 'boolean',\n",
    "    'context-attributes-xrCompatible' : 'boolean',\n",
    "})"
   ]
  },
  {
   "cell_type": "code",
   "execution_count": null,
   "metadata": {
    "ExecuteTime": {
     "end_time": "2023-04-17T09:26:22.748964Z",
     "start_time": "2023-04-17T09:26:22.690900Z"
    }
   },
   "outputs": [],
   "source": [
    "tmp = df_context['context-maghsk-counter'].dropna(inplace=False)\n",
    "df_maghsk = pd.DataFrame(tmp.to_list(), index=tmp.index).add_prefix('context-maghsk-counter-')\n",
    "tmp = df_context['context-mem-memory'].dropna(inplace=False)\n",
    "df_memory = pd.DataFrame(tmp.to_list(), index=tmp.index).add_prefix('context-mem-memory-')\n",
    "tmp = df_context['context-mem-resources'].dropna(inplace=False)\n",
    "df_ctxattr = pd.DataFrame(tmp.to_list(), index=tmp.index).add_prefix('context-mem-resources-')\n",
    "\n",
    "df_context = df_context.drop(columns=['context-maghsk-counter']).merge(df_maghsk, how='left', left_index=True, right_index=True)\n",
    "df_context = df_context.drop(columns=['context-mem-memory']).merge(df_memory, how='left', left_index=True, right_index=True)\n",
    "df_context = df_context.drop(columns=['context-mem-resources']).merge(df_ctxattr, how='left', left_index=True, right_index=True)"
   ]
  },
  {
   "cell_type": "code",
   "execution_count": null,
   "metadata": {
    "ExecuteTime": {
     "end_time": "2023-04-17T09:26:22.882653Z",
     "start_time": "2023-04-17T09:26:22.761756Z"
    }
   },
   "outputs": [],
   "source": [
    "# context-maghsk-counter-funcCount\tcontext-maghsk-counter-semanticVertexCalled\tcontext-maghsk-counter-semanticVertexCount\n",
    "\n",
    "tmp = df_context['context-maghsk-counter-semanticVertexCalled'].dropna(inplace=False)\n",
    "df_memory = pd.DataFrame(tmp.to_list(), index=tmp.index)[['0','1','2','3','4','5','6']].add_prefix('context-maghsk-counter-vertex_call-')\n",
    "tmp = df_context['context-maghsk-counter-semanticVertexCount'].dropna(inplace=False)\n",
    "df_ctxattr = pd.DataFrame(tmp.to_list(), index=tmp.index)[['0','1','2','3','4','5','6']].add_prefix('context-maghsk-counter-vertex_count-')\n",
    "tmp = df_context['context-maghsk-counter-funcCount'].dropna(inplace=False)\n",
    "df_maghsk = pd.DataFrame(tmp.to_list(), index=tmp.index).add_prefix('context-maghsk-counter-funcCount-')\n",
    "\n",
    "df_context = df_context.drop(columns=['context-maghsk-counter-semanticVertexCalled']).merge(df_memory, how='left', left_index=True, right_index=True)\n",
    "df_context = df_context.drop(columns=['context-maghsk-counter-semanticVertexCount']).merge(df_ctxattr, how='left', left_index=True, right_index=True)\n",
    "df_context = df_context.drop(columns=['context-maghsk-counter-funcCount']).merge(df_maghsk, how='left', left_index=True, right_index=True)"
   ]
  },
  {
   "cell_type": "code",
   "execution_count": null,
   "metadata": {},
   "outputs": [],
   "source": [
    "df_exploded = df_context.explode('context-programInfo').explode('context-programInfo').dropna(subset=['context-programInfo'])\n",
    "df_program = pd.DataFrame(df_exploded['context-programInfo'].to_list(), index=df_exploded.index).add_prefix('context-program-')\n",
    "df_context.drop(columns=['context-programInfo'], inplace=True)\n",
    "df_program = df_context.merge(df_program, how='left', left_index=True, right_index=True)\n",
    "df_program.reset_index(inplace=True, drop=False)\n",
    "df_program.rename(columns={'index':'context-program-context_id'}, inplace=True)"
   ]
  },
  {
   "cell_type": "code",
   "execution_count": null,
   "metadata": {
    "ExecuteTime": {
     "end_time": "2023-04-17T09:26:23.027493Z",
     "start_time": "2023-04-17T09:26:23.025228Z"
    }
   },
   "outputs": [],
   "source": [
    "df_program.index.name = 'context-program-id'"
   ]
  },
  {
   "cell_type": "code",
   "execution_count": null,
   "metadata": {
    "ExecuteTime": {
     "end_time": "2023-04-17T09:26:23.863890Z",
     "start_time": "2023-04-17T09:26:23.030913Z"
    }
   },
   "outputs": [],
   "source": [
    "df_raf = df_context.dropna(subset=['context-maghsk-rafList'])[['instrument-filename', 'instrument-url', 'context-maghsk-rafList']]\n",
    "df_raf"
   ]
  },
  {
   "cell_type": "code",
   "execution_count": null,
   "metadata": {
    "ExecuteTime": {
     "end_time": "2023-04-17T09:26:29.063533Z",
     "start_time": "2023-04-17T09:26:23.866705Z"
    }
   },
   "outputs": [],
   "source": [
    "df_tmp = df_raf.explode('context-maghsk-rafList').dropna(subset=['context-maghsk-rafList'])\n",
    "df_raflist = pd.DataFrame(df_tmp['context-maghsk-rafList'].to_list(), index=df_tmp.index).add_prefix('rafList-')\n",
    "df_raflist = df_raf.merge(df_raflist, how='left', left_index=True, right_index=True).drop(columns=['context-maghsk-rafList'])\n",
    "df_raflist"
   ]
  },
  {
   "cell_type": "code",
   "execution_count": null,
   "metadata": {},
   "outputs": [],
   "source": [
    "df_raflist[df_raflist['rafList-semanticVertexCalled'].isna()]"
   ]
  },
  {
   "cell_type": "code",
   "execution_count": null,
   "metadata": {
    "ExecuteTime": {
     "end_time": "2023-04-17T09:26:29.067249Z",
     "start_time": "2023-04-17T09:26:29.065010Z"
    }
   },
   "outputs": [],
   "source": [
    "assert df_raflist[df_raflist['rafList-semanticVertexCalled'].isna()].shape[0] == 0"
   ]
  },
  {
   "cell_type": "code",
   "execution_count": null,
   "metadata": {
    "ExecuteTime": {
     "end_time": "2023-04-17T09:27:27.579842Z",
     "start_time": "2023-04-17T09:26:29.152515Z"
    }
   },
   "outputs": [],
   "source": [
    "df_a = pd.DataFrame(df_raflist['rafList-semanticVertexCalled'].to_list(), index=df_raflist.index)[['0','1','2','3','4','5','6']].add_prefix('rafList-semanticVertexCalled-')\n",
    "df_b = pd.DataFrame(df_raflist['rafList-semanticVertexCount'].to_list(), index=df_raflist.index)[['0','1','2','3','4','5','6']].add_prefix('rafList-semanticVertexCount-')\n",
    "df_c = pd.DataFrame(df_raflist['rafList-funcCount'].to_list(), index=df_raflist.index).add_prefix('rafList-funcCount-')"
   ]
  },
  {
   "cell_type": "code",
   "execution_count": null,
   "metadata": {
    "ExecuteTime": {
     "end_time": "2023-04-17T09:27:32.765217Z",
     "start_time": "2023-04-17T09:27:27.584474Z"
    }
   },
   "outputs": [],
   "source": [
    "# concat df_a, df_b, df_c\n",
    "df_raflist_abc = pd.concat([df_raflist, df_a, df_b, df_c], axis=1)\n",
    "df_raflist_abc.drop(columns=['rafList-funcCount', 'rafList-semanticVertexCalled', 'rafList-semanticVertexCount'], inplace=True)\n",
    "df_raflist_abc"
   ]
  },
  {
   "cell_type": "code",
   "execution_count": null,
   "metadata": {
    "ExecuteTime": {
     "end_time": "2023-04-17T09:27:33.354360Z",
     "start_time": "2023-04-17T09:27:32.762497Z"
    }
   },
   "outputs": [],
   "source": [
    "rename_dict = {}\n",
    "for i in range(7):\n",
    "    rename_dict[f'rafList-semanticVertexCalled-{i}'] = f'rafList-semanticVertexCalled-{gl_types[i]}'\n",
    "    rename_dict[f'rafList-semanticVertexCount-{i}'] = f'rafList-semanticVertexCount-{gl_types[i]}'\n",
    "df_raflist_abc.rename(columns=rename_dict, inplace=True)\n",
    "df_raflist_abc"
   ]
  },
  {
   "cell_type": "code",
   "execution_count": null,
   "metadata": {
    "ExecuteTime": {
     "end_time": "2023-04-17T09:27:40.899971Z",
     "start_time": "2023-04-17T09:27:35.216134Z"
    }
   },
   "outputs": [],
   "source": [
    "# df_raflist_abc group by context-id and shift and minus\n",
    "df_tmp = df_raflist_abc.drop(columns=['instrument-filename', 'instrument-url', 'rafList-when'])\n",
    "df_tmp = df_tmp.groupby('context-id').shift(0) - df_tmp.groupby('context-id').shift(1)\n",
    "# df_tmp.dropna(subset=['rafList-bufferDataSent'], inplace=True)\n",
    "df_tmp_groupby = df_tmp.groupby('context-id')"
   ]
  },
  {
   "cell_type": "code",
   "execution_count": null,
   "metadata": {
    "ExecuteTime": {
     "end_time": "2023-04-17T09:27:44.531039Z",
     "start_time": "2023-04-17T09:27:40.902888Z"
    }
   },
   "outputs": [],
   "source": [
    "df_raf_stat = df_tmp_groupby.agg(['mean', 'std', 'count'])"
   ]
  },
  {
   "cell_type": "code",
   "execution_count": null,
   "metadata": {
    "ExecuteTime": {
     "end_time": "2023-04-17T09:27:44.569718Z",
     "start_time": "2023-04-17T09:27:44.534495Z"
    }
   },
   "outputs": [],
   "source": [
    "df_raf_stat_subset = df_raf_stat[['rafList-semanticVertexCalled-POINTS', 'rafList-semanticVertexCalled-LINES', 'rafList-semanticVertexCalled-LINE_LOOP', 'rafList-semanticVertexCalled-LINE_STRIP', 'rafList-semanticVertexCalled-TRIANGLES', 'rafList-semanticVertexCalled-TRIANGLE_STRIP', 'rafList-semanticVertexCalled-TRIANGLE_FAN', 'rafList-semanticVertexCount-POINTS', 'rafList-semanticVertexCount-LINES', 'rafList-semanticVertexCount-LINE_LOOP', 'rafList-semanticVertexCount-LINE_STRIP', 'rafList-semanticVertexCount-TRIANGLES', 'rafList-semanticVertexCount-TRIANGLE_STRIP', 'rafList-semanticVertexCount-TRIANGLE_FAN']]\n",
    "df_raf_stat_subset"
   ]
  },
  {
   "attachments": {},
   "cell_type": "markdown",
   "metadata": {},
   "source": [
    "# Save to disk"
   ]
  },
  {
   "cell_type": "code",
   "execution_count": null,
   "metadata": {
    "ExecuteTime": {
     "end_time": "2023-04-17T09:27:44.572875Z",
     "start_time": "2023-04-17T09:27:44.570314Z"
    }
   },
   "outputs": [],
   "source": [
    "pickle_output_path = Path('output/pickle')\n",
    "excel_output_path = Path('output/excel')"
   ]
  },
  {
   "cell_type": "code",
   "execution_count": null,
   "metadata": {
    "ExecuteTime": {
     "end_time": "2023-04-17T09:27:44.578166Z",
     "start_time": "2023-04-17T09:27:44.575432Z"
    }
   },
   "outputs": [],
   "source": [
    "pickle_output_path.mkdir(parents=True, exist_ok=True)\n",
    "excel_output_path.mkdir(parents=True, exist_ok=True)"
   ]
  },
  {
   "cell_type": "code",
   "execution_count": null,
   "metadata": {
    "ExecuteTime": {
     "end_time": "2023-04-17T09:28:00.834368Z",
     "start_time": "2023-04-17T09:27:44.586444Z"
    }
   },
   "outputs": [],
   "source": [
    "# save to pickle first\n",
    "df_url.to_pickle(pickle_output_path / '0417-raf_url.pkl.zstd', compression='zstd')\n",
    "df_context.to_pickle(pickle_output_path / '0417-raf_context.pkl.zstd', compression='zstd')\n",
    "df_program.to_pickle(pickle_output_path / '0417-raf_program.pkl.zstd', compression='zstd')\n",
    "df_raflist_abc.to_pickle(pickle_output_path / '0417-raf_raflist_abc.pkl.zstd', compression='zstd')\n",
    "df_raf_stat.to_pickle(pickle_output_path / '0417-raf_stat.pkl.zstd', compression='zstd')"
   ]
  },
  {
   "cell_type": "code",
   "execution_count": null,
   "metadata": {
    "ExecuteTime": {
     "end_time": "2023-04-17T09:28:58.021183Z",
     "start_time": "2023-04-17T09:28:00.836064Z"
    }
   },
   "outputs": [],
   "source": [
    "# df_url.to_excel(excel_output_path / '0417-raf_url.xlsx', index=True)\n",
    "# df_context.to_excel(excel_output_path / '0417-raf_context.xlsx', index=True)\n",
    "# df_raf_stat_subset.to_excel(excel_output_path / '0417-raf_stat_subset.xlsx', index=True)"
   ]
  }
 ],
 "metadata": {
  "kernelspec": {
   "display_name": "Python 3",
   "language": "python",
   "name": "python3"
  },
  "language_info": {
   "codemirror_mode": {
    "name": "ipython",
    "version": 3
   },
   "file_extension": ".py",
   "mimetype": "text/x-python",
   "name": "python",
   "nbconvert_exporter": "python",
   "pygments_lexer": "ipython3",
   "version": "3.10.6"
  },
  "orig_nbformat": 4
 },
 "nbformat": 4,
 "nbformat_minor": 2
}
