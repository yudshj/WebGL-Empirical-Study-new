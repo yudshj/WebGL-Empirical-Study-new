{
 "cells": [
  {
   "cell_type": "code",
   "execution_count": 1,
   "metadata": {
    "ExecuteTime": {
     "end_time": "2023-05-02T03:34:29.068914311Z",
     "start_time": "2023-05-02T03:34:28.740913668Z"
    }
   },
   "outputs": [],
   "source": [
    "import pandas as pd\n",
    "import gzip\n",
    "import json\n",
    "from pathlib import Path\n",
    "import tqdm\n",
    "\n",
    "raf_path = Path('../2-9.playwright/output/raf/')\n",
    "imr = Path('./imr')\n",
    "\n",
    "imr.mkdir(parents=True, exist_ok=True)\n",
    "\n",
    "def deal(path):\n",
    "    with gzip.open(path, 'rt') as fp:\n",
    "        ret = json.load(fp)\n",
    "    ret['raf_path'] = path.as_posix()\n",
    "    idx = path.as_posix().split('/')[-1].split('.')[0]\n",
    "    try:\n",
    "        ret['idx'] = int(idx)\n",
    "    except ValueError:\n",
    "        ret['idx'] = idx\n",
    "    return ret"
   ]
  },
  {
   "cell_type": "code",
   "execution_count": 2,
   "metadata": {},
   "outputs": [
    {
     "data": {
      "text/html": [
       "<div>\n",
       "<style scoped>\n",
       "    .dataframe tbody tr th:only-of-type {\n",
       "        vertical-align: middle;\n",
       "    }\n",
       "\n",
       "    .dataframe tbody tr th {\n",
       "        vertical-align: top;\n",
       "    }\n",
       "\n",
       "    .dataframe thead th {\n",
       "        text-align: right;\n",
       "    }\n",
       "</style>\n",
       "<table border=\"1\" class=\"dataframe\">\n",
       "  <thead>\n",
       "    <tr style=\"text-align: right;\">\n",
       "      <th></th>\n",
       "      <th>url</th>\n",
       "      <th>category</th>\n",
       "      <th>label_ERROR</th>\n",
       "      <th>label_usecase</th>\n",
       "      <th>label_interactions</th>\n",
       "      <th>label_comments</th>\n",
       "    </tr>\n",
       "  </thead>\n",
       "  <tbody>\n",
       "    <tr>\n",
       "      <th>0</th>\n",
       "      <td>http://0ldsk00l.ca/</td>\n",
       "      <td>['bq']</td>\n",
       "      <td>0</td>\n",
       "      <td>1</td>\n",
       "      <td>0</td>\n",
       "      <td></td>\n",
       "    </tr>\n",
       "    <tr>\n",
       "      <th>1</th>\n",
       "      <td>http://1000.chromeexperiments.com</td>\n",
       "      <td>[awwwards]</td>\n",
       "      <td>0</td>\n",
       "      <td>1</td>\n",
       "      <td>1</td>\n",
       "      <td></td>\n",
       "    </tr>\n",
       "    <tr>\n",
       "      <th>2</th>\n",
       "      <td>http://1000000-lives.com/</td>\n",
       "      <td>['bq']</td>\n",
       "      <td>0</td>\n",
       "      <td>3</td>\n",
       "      <td>0</td>\n",
       "      <td></td>\n",
       "    </tr>\n",
       "    <tr>\n",
       "      <th>3</th>\n",
       "      <td>http://10k.global/</td>\n",
       "      <td>['bq']</td>\n",
       "      <td>0</td>\n",
       "      <td>1</td>\n",
       "      <td>1</td>\n",
       "      <td></td>\n",
       "    </tr>\n",
       "    <tr>\n",
       "      <th>4</th>\n",
       "      <td>http://123screenprotector.com/</td>\n",
       "      <td>['bq']</td>\n",
       "      <td>0</td>\n",
       "      <td>3</td>\n",
       "      <td>0</td>\n",
       "      <td></td>\n",
       "    </tr>\n",
       "    <tr>\n",
       "      <th>...</th>\n",
       "      <td>...</td>\n",
       "      <td>...</td>\n",
       "      <td>...</td>\n",
       "      <td>...</td>\n",
       "      <td>...</td>\n",
       "      <td>...</td>\n",
       "    </tr>\n",
       "    <tr>\n",
       "      <th>29237</th>\n",
       "      <td>https://map.e-mangistau.kz/</td>\n",
       "      <td>['bq']</td>\n",
       "      <td>1</td>\n",
       "      <td>&lt;NA&gt;</td>\n",
       "      <td>&lt;NA&gt;</td>\n",
       "      <td>&lt;NA&gt;</td>\n",
       "    </tr>\n",
       "    <tr>\n",
       "      <th>29238</th>\n",
       "      <td>https://map.e-zhetisu.kz/</td>\n",
       "      <td>['bq']</td>\n",
       "      <td>0</td>\n",
       "      <td>1</td>\n",
       "      <td>1</td>\n",
       "      <td></td>\n",
       "    </tr>\n",
       "    <tr>\n",
       "      <th>29239</th>\n",
       "      <td>https://map.iturkistan.kz/</td>\n",
       "      <td>['bq']</td>\n",
       "      <td>1</td>\n",
       "      <td>&lt;NA&gt;</td>\n",
       "      <td>&lt;NA&gt;</td>\n",
       "      <td>&lt;NA&gt;</td>\n",
       "    </tr>\n",
       "    <tr>\n",
       "      <th>29240</th>\n",
       "      <td>https://qrg.geoportal.kz/</td>\n",
       "      <td>['bq']</td>\n",
       "      <td>1</td>\n",
       "      <td>&lt;NA&gt;</td>\n",
       "      <td>&lt;NA&gt;</td>\n",
       "      <td>&lt;NA&gt;</td>\n",
       "    </tr>\n",
       "    <tr>\n",
       "      <th>29241</th>\n",
       "      <td>https://shieldeck.com/</td>\n",
       "      <td>['bq']</td>\n",
       "      <td>0</td>\n",
       "      <td>1</td>\n",
       "      <td>1</td>\n",
       "      <td></td>\n",
       "    </tr>\n",
       "  </tbody>\n",
       "</table>\n",
       "<p>29242 rows × 6 columns</p>\n",
       "</div>"
      ],
      "text/plain": [
       "                                     url    category  label_ERROR   \n",
       "0                    http://0ldsk00l.ca/      ['bq']            0  \\\n",
       "1      http://1000.chromeexperiments.com  [awwwards]            0   \n",
       "2              http://1000000-lives.com/      ['bq']            0   \n",
       "3                     http://10k.global/      ['bq']            0   \n",
       "4         http://123screenprotector.com/      ['bq']            0   \n",
       "...                                  ...         ...          ...   \n",
       "29237        https://map.e-mangistau.kz/      ['bq']            1   \n",
       "29238          https://map.e-zhetisu.kz/      ['bq']            0   \n",
       "29239         https://map.iturkistan.kz/      ['bq']            1   \n",
       "29240          https://qrg.geoportal.kz/      ['bq']            1   \n",
       "29241             https://shieldeck.com/      ['bq']            0   \n",
       "\n",
       "       label_usecase  label_interactions label_comments  \n",
       "0                  1                   0                 \n",
       "1                  1                   1                 \n",
       "2                  3                   0                 \n",
       "3                  1                   1                 \n",
       "4                  3                   0                 \n",
       "...              ...                 ...            ...  \n",
       "29237           <NA>                <NA>           <NA>  \n",
       "29238              1                   1                 \n",
       "29239           <NA>                <NA>           <NA>  \n",
       "29240           <NA>                <NA>           <NA>  \n",
       "29241              1                   1                 \n",
       "\n",
       "[29242 rows x 6 columns]"
      ]
     },
     "execution_count": 2,
     "metadata": {},
     "output_type": "execute_result"
    }
   ],
   "source": [
    "# 0413 + 0504_czy = 0504-df_label\n",
    "df_label = pd.read_pickle('./output/0501-df_label-raf.pkl.zst.bak', compression='zstd')\n",
    "df_label"
   ]
  },
  {
   "cell_type": "markdown",
   "metadata": {},
   "source": [
    "## RAF"
   ]
  },
  {
   "cell_type": "code",
   "execution_count": null,
   "metadata": {
    "ExecuteTime": {
     "end_time": "2023-05-02T03:38:31.389101236Z",
     "start_time": "2023-05-02T03:34:29.055599998Z"
    }
   },
   "outputs": [],
   "source": [
    "if Path('imr/0504-df_raw_all-raf.pkl.zst').exists():\n",
    "    df = pd.read_pickle('imr/0504-df_raw_all-raf.pkl.zst', compression='zstd')\n",
    "else:\n",
    "    df = pd.DataFrame([deal(p) for p in tqdm.tqdm(sorted(raf_path.glob(\"*.gz\")))]).set_index('idx')\n",
    "    df = df_label.drop(columns=['url']).join(df)\n",
    "    df.to_pickle('imr/0504-df_raw_all-raf.pkl.zst', compression='zstd')"
   ]
  },
  {
   "cell_type": "code",
   "execution_count": 4,
   "metadata": {
    "ExecuteTime": {
     "end_time": "2023-05-02T03:39:06.909139405Z",
     "start_time": "2023-05-02T03:38:31.388909443Z"
    }
   },
   "outputs": [],
   "source": [
    "if Path('imr/0504-df_frame-raf.pkl.zst').exists():\n",
    "    df_frame = pd.read_pickle('imr/0504-df_frame-raf.pkl.zst', compression='zstd')\n",
    "else:\n",
    "    df.dropna(subset=['frame'], inplace=True)\n",
    "    df_frame = df.drop(columns=['frame', 'events_time_hp']).join(pd.DataFrame(df['frame'].to_list(), index=df.index)['gl_rafs'].explode()).reset_index(drop=False).rename(columns={'index': 'idx'})\n",
    "    df_frame = df_frame.drop(columns=['gl_rafs']).join(pd.DataFrame(df_frame['gl_rafs'].str['value'].to_list(), index=df_frame.index)['data'])\n",
    "    df_frame = df_frame.drop(columns=['data']).join(pd.json_normalize(df_frame['data']).add_prefix('frame.'), how='right').dropna(subset=['frame.counter.usedWebGL']) #.drop_duplicates(subset=['frame.url']).reset_index(drop=True)\n",
    "    df_frame.to_pickle('imr/0504-df_frame-raf.pkl.zst', compression='zstd')"
   ]
  },
  {
   "cell_type": "code",
   "execution_count": 5,
   "metadata": {
    "ExecuteTime": {
     "start_time": "2023-05-02T03:39:06.908969396Z"
    }
   },
   "outputs": [],
   "source": [
    "if Path('imr/0504-df_context-raf.pkl.zst').exists():\n",
    "    df_context = pd.read_pickle('imr/0504-df_context-raf.pkl.zst', compression='zstd')\n",
    "else:\n",
    "    df_context = df_frame.explode('frame.contextInfo').reset_index(drop=False).rename(columns={'index': 'idx-frame'})\n",
    "    df_context = df_context.drop(columns=['frame.contextInfo']).join(\n",
    "        pd.json_normalize(df_context['frame.contextInfo']).add_prefix('frame.context.'))\n",
    "    df_context.to_pickle('imr/0504-df_context-raf.pkl.zst', compression='zstd')"
   ]
  },
  {
   "cell_type": "code",
   "execution_count": 6,
   "metadata": {},
   "outputs": [],
   "source": [
    "if Path('imr/0504-df_context-noraf.pkl.zst').exists():\n",
    "    df_context_noraf = pd.read_pickle('imr/0504-df_context-noraf.pkl.zst', compression='zstd')\n",
    "else:\n",
    "    df_context_noraf = df_context.drop(columns=['frame.context.rafList'])\n",
    "    df_context_noraf.to_pickle('imr/0504-df_context-noraf.pkl.zst', compression='zstd')"
   ]
  },
  {
   "cell_type": "code",
   "execution_count": 7,
   "metadata": {},
   "outputs": [],
   "source": [
    "if Path('imr/0504-df_shader-noraf.pkl.zst').exists():\n",
    "    df_shader = pd.read_pickle('imr/0504-df_shader-noraf.pkl.zst', compression='zstd')\n",
    "else:\n",
    "    df_shader = df_context_noraf[['idx-frame','idx','category','label_ERROR','label_usecase','label_interactions','label_comments','url','date','raf_path','frame.url','frame.title','frame.date','frame.when','frame.context.maghsk.shaders',]].explode('frame.context.maghsk.shaders').dropna(subset=['frame.context.maghsk.shaders']).reset_index(drop=False).rename(columns={'index': 'idx-context'})\n",
    "    df_shader = df_shader.drop(columns='frame.context.maghsk.shaders').join(pd.json_normalize(df_shader['frame.context.maghsk.shaders']).add_prefix('frame.context.maghsk.shaders.')).dropna(subset=['frame.context.maghsk.shaders.source'])\n",
    "    df_shader['frame.context.maghsk.shaders.type'] = df_shader['frame.context.maghsk.shaders.type'].astype(str).replace('35632', 'frag').replace('35633', 'vert')\n",
    "    df_shader['frame.context.maghsk.shaders.length'] = df_shader['frame.context.maghsk.shaders.source'].map(lambda x: len(x))\n",
    "    df_shader.to_pickle('imr/0504-df_shader-noraf.pkl.zst', compression='zstd')"
   ]
  },
  {
   "cell_type": "markdown",
   "metadata": {},
   "source": [
    "## Spector"
   ]
  },
  {
   "cell_type": "code",
   "execution_count": 10,
   "metadata": {},
   "outputs": [],
   "source": [
    "import base64\n",
    "import json\n",
    "import tqdm\n",
    "import pandas as pd\n",
    "from pathlib import Path\n",
    "import gzip\n"
   ]
  },
  {
   "cell_type": "code",
   "execution_count": 11,
   "metadata": {},
   "outputs": [],
   "source": [
    "spec_path = Path('../2-9.playwright/output/spector-one/')"
   ]
  },
  {
   "cell_type": "code",
   "execution_count": 12,
   "metadata": {},
   "outputs": [],
   "source": [
    "def spector_deal(p):\n",
    "    ret = json.loads(p.read_text())\n",
    "    ret['spec_path'] = p.as_posix()\n",
    "    frame = []\n",
    "    for spector in ret['spector']:\n",
    "        try:\n",
    "            frame.append({\"url\": spector['value']['url'], \"data\": [base64.b64decode(x[22:]) for x in spector['value']['data']]})\n",
    "        except:\n",
    "            pass\n",
    "    del ret['spector']\n",
    "    ret['frame'] = frame\n",
    "    return ret"
   ]
  },
  {
   "cell_type": "code",
   "execution_count": 13,
   "metadata": {
    "scrolled": true
   },
   "outputs": [
    {
     "name": "stderr",
     "output_type": "stream",
     "text": [
      "100%|███████████████████████████████████████████████████████████████████████████████████████████████████| 29242/29242 [00:43<00:00, 669.77it/s]\n"
     ]
    }
   ],
   "source": [
    "if Path('imr/0504-df_spector.pkl.zst').exists():\n",
    "    df = pd.read_pickle('imr/0504-df_spector.pkl.zst', compression='zstd')\n",
    "else:\n",
    "    df = pd.DataFrame([spector_deal(p) for p in tqdm.tqdm(sorted(spec_path.glob(\"*.json\")))]).set_index('idx')\n",
    "    df = df.explode('frame').dropna(subset=['frame']).reset_index(drop=False).rename(columns={'index': 'idx'})\n",
    "    df = df.drop(columns='frame').join(pd.json_normalize(df['frame']).add_prefix('frame.')).explode('frame.data').dropna(subset='frame.data').reset_index(drop=False).rename(columns={'index': 'idx-frame'})\n",
    "    df['frame.data'] = df['frame.data'].map(lambda x: json.loads(gzip.decompress(x)))\n",
    "    df.to_pickle('imr/0504-df_spector.pkl.zst', compression='zstd')"
   ]
  },
  {
   "cell_type": "markdown",
   "metadata": {},
   "source": [
    "## Simple"
   ]
  },
  {
   "cell_type": "code",
   "execution_count": 12,
   "metadata": {},
   "outputs": [],
   "source": [
    "simple_path = Path('../2-9.playwright/output/simple/')"
   ]
  },
  {
   "cell_type": "code",
   "execution_count": 13,
   "metadata": {},
   "outputs": [],
   "source": [
    "def deal_simple(p):\n",
    "    with gzip.open(p, 'rt') as f:\n",
    "        return json.load(f)"
   ]
  },
  {
   "cell_type": "code",
   "execution_count": 14,
   "metadata": {},
   "outputs": [
    {
     "name": "stderr",
     "output_type": "stream",
     "text": [
      "100%|██████████████████████████████████████████████████████████████████████████████████████████████████| 29241/29241 [00:22<00:00, 1276.63it/s]\n"
     ]
    }
   ],
   "source": [
    "if Path('imr/0504-df_simple.pkl.zst').exists():\n",
    "    df = pd.read_pickle('imr/0504-df_simple.pkl.zst', compression='zstd')\n",
    "else:\n",
    "    df_raw = pd.DataFrame([deal_simple(p) for p in tqdm.tqdm(sorted(simple_path.glob(\"*.gz\")))])\n",
    "    df = df_raw.drop(columns=['frame', 'events_time_hp']).join(pd.json_normalize(df_raw['frame']).drop(columns=['net_idle_counters','gl_simple_counters'])).explode('gl_simples').dropna(subset='gl_simples').reset_index(drop=False).rename(columns={'index': 'idx'})\n",
    "    df = df.drop(columns='gl_simples').join(pd.json_normalize(df['gl_simples'].str['value']).drop(columns=['data', 'error.name']).add_prefix('frame.')).explode('frame.data.contextInfo').dropna(subset=['frame.data.contextInfo']).reset_index(drop=False).rename(columns={'index': 'idx-frame'})\n",
    "    df = df.drop(columns=['frame.data.contextInfo']).join(pd.json_normalize(df['frame.data.contextInfo']).add_prefix('frame.data.contextInfo.'))\n",
    "    df.to_pickle('imr/0504-df_simple.pkl.zst', compression='zstd')"
   ]
  },
  {
   "cell_type": "markdown",
   "metadata": {},
   "source": [
    "## Worker"
   ]
  },
  {
   "cell_type": "code",
   "execution_count": 8,
   "metadata": {},
   "outputs": [],
   "source": [
    "import gzip\n",
    "import json"
   ]
  },
  {
   "cell_type": "code",
   "execution_count": 9,
   "metadata": {},
   "outputs": [],
   "source": [
    "def deal_worker(p):\n",
    "    with gzip.open(p, 'rt') as f:\n",
    "        return json.load(f)\n",
    "        "
   ]
  },
  {
   "cell_type": "code",
   "execution_count": 10,
   "metadata": {},
   "outputs": [
    {
     "data": {
      "text/plain": [
       "{'url': 'http://0ldsk00l.ca/',\n",
       " 'date': 1683039873090,\n",
       " 'events_time_hp': {'start_time_hp': 2221.028041958809,\n",
       "  'net_idle_time_hp': 3057.1718759536743,\n",
       "  'gl_simple_time_hp': 18080.846422970295},\n",
       " 'frame': {'net_idle_counters': [{'status': 'fulfilled',\n",
       "    'value': {'name': '',\n",
       "     'url': 'http://0ldsk00l.ca/',\n",
       "     'data': {'contextsNum': 1,\n",
       "      'usedWebGL': 372.7999999523163,\n",
       "      'usedOffScreenCanvas': True},\n",
       "     'error': None}}],\n",
       "  'gl_simple_counters': [{'status': 'fulfilled',\n",
       "    'value': {'name': '',\n",
       "     'url': 'http://0ldsk00l.ca/',\n",
       "     'data': {'contextsNum': 1,\n",
       "      'usedWebGL': 372.7999999523163,\n",
       "      'usedOffScreenCanvas': True},\n",
       "     'error': None}}],\n",
       "  'gl_simples': [{'status': 'fulfilled',\n",
       "    'value': {'name': '',\n",
       "     'url': 'http://0ldsk00l.ca/',\n",
       "     'data': {'url': 'http://0ldsk00l.ca/',\n",
       "      'title': '0ldsk00l',\n",
       "      'accessTime': 1683039888988,\n",
       "      'usedOffScreenCanvas': True,\n",
       "      'when': 15891.799999952316,\n",
       "      'whenUsedWebgl': 372.7999999523163,\n",
       "      'contextInfo': [{'memoryInfo': {'memory': {'texture': 36,\n",
       "          'buffer': 384,\n",
       "          'renderbuffer': 0,\n",
       "          'drawingbuffer': 11059200,\n",
       "          'total': 11059620},\n",
       "         'resources': {'buffer': 3,\n",
       "          'framebuffer': 0,\n",
       "          'renderbuffer': 0,\n",
       "          'program': 1,\n",
       "          'query': 0,\n",
       "          'shader': 0,\n",
       "          'sampler': 0,\n",
       "          'texture': 4,\n",
       "          'transformFeedback': 0,\n",
       "          'vertexArray': 1,\n",
       "          'sync': 0}},\n",
       "        'maghsk': {'createTime': 372.7999999523163,\n",
       "         'createArguments': {'0': 'webgl2',\n",
       "          '1': {'alpha': True,\n",
       "           'depth': True,\n",
       "           'stencil': True,\n",
       "           'antialias': False,\n",
       "           'premultipliedAlpha': True,\n",
       "           'preserveDrawingBuffer': False,\n",
       "           'powerPreference': 'default',\n",
       "           'failIfMajorPerformanceCaveat': False}}},\n",
       "        'canvasSize': [1280, 720],\n",
       "        'canvasHidden': False,\n",
       "        'canvasContained': True,\n",
       "        'contextAttributes': {'alpha': True,\n",
       "         'antialias': False,\n",
       "         'depth': True,\n",
       "         'desynchronized': False,\n",
       "         'failIfMajorPerformanceCaveat': False,\n",
       "         'powerPreference': 'default',\n",
       "         'premultipliedAlpha': True,\n",
       "         'preserveDrawingBuffer': False,\n",
       "         'stencil': True,\n",
       "         'xrCompatible': False}}]},\n",
       "     'error': None}}]}}"
      ]
     },
     "execution_count": 10,
     "metadata": {},
     "output_type": "execute_result"
    }
   ],
   "source": [
    "deal_worker('../2-9.playwright/output/simple/00000.json.gz')"
   ]
  },
  {
   "cell_type": "code",
   "execution_count": null,
   "metadata": {},
   "outputs": [],
   "source": [
    "worker_path = Path('../2-9.playwright/output/simple/'):\n",
    "df_raw = pd.DataFrame([deal_simple(p) for p in tqdm.tqdm(sorted(worker_path.glob(\"*.gz\")))])"
   ]
  },
  {
   "cell_type": "code",
   "execution_count": null,
   "metadata": {},
   "outputs": [],
   "source": []
  },
  {
   "cell_type": "code",
   "execution_count": null,
   "metadata": {},
   "outputs": [],
   "source": []
  }
 ],
 "metadata": {
  "kernelspec": {
   "display_name": "Python 3 (ipykernel)",
   "language": "python",
   "name": "python3"
  },
  "language_info": {
   "codemirror_mode": {
    "name": "ipython",
    "version": 3
   },
   "file_extension": ".py",
   "mimetype": "text/x-python",
   "name": "python",
   "nbconvert_exporter": "python",
   "pygments_lexer": "ipython3",
   "version": "3.10.6"
  }
 },
 "nbformat": 4,
 "nbformat_minor": 1
}
