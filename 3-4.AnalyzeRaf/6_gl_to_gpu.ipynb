{
 "cells": [
  {
   "cell_type": "code",
   "execution_count": 1,
   "metadata": {},
   "outputs": [],
   "source": [
    "import pandas as pd\n",
    "import matplotlib.pyplot as plt\n",
    "import seaborn as sns\n",
    "from pathlib import Path\n",
    "\n",
    "pickle_output_path = Path('output/pickle')\n",
    "\n",
    "sns.set_context(\"notebook\")\n",
    "sns.set_palette(\"deep\")\n",
    "color_palette = sns.color_palette()\n",
    "color_palette"
   ]
  },
  {
   "cell_type": "code",
   "execution_count": null,
   "metadata": {},
   "outputs": [],
   "source": [
    "# save to pickle first\n",
    "df_url = pd.read_pickle(pickle_output_path / '0417-raf_url.pkl.zstd', compression='zstd')\n",
    "df_context = pd.read_pickle(pickle_output_path / '0417-raf_context.pkl.zstd', compression='zstd')\n",
    "df_program = pd.read_pickle(pickle_output_path / '0417-raf_program.pkl.zstd', compression='zstd')\n",
    "df_raflist_abc = pd.read_pickle(pickle_output_path / '0417-raf_raflist_abc.pkl.zstd', compression='zstd')\n",
    "df_raf_stat = pd.read_pickle(pickle_output_path / '0417-raf_stat.pkl.zstd', compression='zstd')"
   ]
  }
 ],
 "metadata": {
  "kernelspec": {
   "display_name": "Python 3",
   "language": "python",
   "name": "python3"
  },
  "language_info": {
   "codemirror_mode": {
    "name": "ipython",
    "version": 3
   },
   "file_extension": ".py",
   "mimetype": "text/x-python",
   "name": "python",
   "nbconvert_exporter": "python",
   "pygments_lexer": "ipython3",
   "version": "3.10.10"
  },
  "orig_nbformat": 4
 },
 "nbformat": 4,
 "nbformat_minor": 2
}
