{
 "cells": [
  {
   "cell_type": "code",
   "execution_count": 1,
   "metadata": {
    "ExecuteTime": {
     "end_time": "2023-04-17T10:58:25.102438Z",
     "start_time": "2023-04-17T10:58:25.099793Z"
    }
   },
   "outputs": [],
   "source": [
    "# # save to pickle first\n",
    "# df_url.to_pickle('output/0414-raf_url.pkl.zstd', compression='zstd')\n",
    "# df_context.to_pickle('output/0414-raf_context.pkl.zstd', compression='zstd')\n",
    "# df_program.to_pickle('output/0414-raf_program.pkl.zstd', compression='zstd')"
   ]
  },
  {
   "cell_type": "code",
   "execution_count": 2,
   "metadata": {
    "ExecuteTime": {
     "end_time": "2023-04-17T10:58:25.352680Z",
     "start_time": "2023-04-17T10:58:25.105210Z"
    }
   },
   "outputs": [],
   "source": [
    "import pandas as pd\n",
    "import shutil\n",
    "\n",
    "ID=\"0417\""
   ]
  },
  {
   "cell_type": "code",
   "execution_count": 3,
   "metadata": {
    "ExecuteTime": {
     "end_time": "2023-04-17T10:58:26.489642Z",
     "start_time": "2023-04-17T10:58:25.354124Z"
    }
   },
   "outputs": [],
   "source": [
    "df_final_0413 = pd.read_pickle('../final-output/0413-bq-clean-df_huls_label-bq_simple.pkl.zstd', compression='zstd').drop(columns=['get_status', 'dom_load_status', 'webgl_status', 'hundred_frames_status', 'gl_info_status'])"
   ]
  },
  {
   "cell_type": "code",
   "execution_count": 4,
   "metadata": {
    "ExecuteTime": {
     "end_time": "2023-04-17T10:58:26.494938Z",
     "start_time": "2023-04-17T10:58:26.491489Z"
    }
   },
   "outputs": [],
   "source": [
    "idx = df_final_0413['label_comments'] == 'domain'\n",
    "df_final_0413.loc[idx, 'label_ERROR'] = 4"
   ]
  },
  {
   "cell_type": "code",
   "execution_count": 15,
   "metadata": {
    "ExecuteTime": {
     "end_time": "2023-04-17T10:58:26.546857Z",
     "start_time": "2023-04-17T10:58:26.498161Z"
    }
   },
   "outputs": [],
   "source": [
    "df_url = pd.read_pickle('output/pickle/0417-raf_url.pkl.zstd', compression='zstd').add_prefix('raf-').rename(columns={'raf-gl_info_raf': 'gl_info_raf'})"
   ]
  },
  {
   "cell_type": "code",
   "execution_count": 16,
   "metadata": {
    "ExecuteTime": {
     "end_time": "2023-04-17T10:58:38.697704Z",
     "start_time": "2023-04-17T10:58:38.681028Z"
    },
    "collapsed": false
   },
   "outputs": [],
   "source": [
    "# df_url[df_url['raf-instrument-url'] == 'http://frontside.com.au']"
   ]
  },
  {
   "cell_type": "code",
   "execution_count": 17,
   "metadata": {
    "ExecuteTime": {
     "end_time": "2023-04-17T10:03:12.734441Z",
     "start_time": "2023-04-17T10:03:12.729772Z"
    }
   },
   "outputs": [],
   "source": [
    "df_url_update = df_url.set_index(df_url['raf-instrument-filename'].str.split('.').str[0].astype('Int64')).rename_axis(None)\n",
    "df_url_update['raf'] = True"
   ]
  },
  {
   "cell_type": "code",
   "execution_count": 18,
   "metadata": {
    "ExecuteTime": {
     "end_time": "2023-04-17T10:03:12.824306Z",
     "start_time": "2023-04-17T10:03:12.741078Z"
    }
   },
   "outputs": [],
   "source": [
    "df_final = df_final_0413.join(df_url_update, how='left').astype({'raf': 'boolean'}).fillna({'raf': False})"
   ]
  },
  {
   "cell_type": "code",
   "execution_count": 19,
   "metadata": {
    "ExecuteTime": {
     "end_time": "2023-04-17T10:03:14.043688Z",
     "start_time": "2023-04-17T10:03:12.828749Z"
    }
   },
   "outputs": [
    {
     "data": {
      "text/plain": [
       "'../final-output/0417-raf_final.pkl.zstd'"
      ]
     },
     "execution_count": 19,
     "metadata": {},
     "output_type": "execute_result"
    }
   ],
   "source": [
    "df_final.to_pickle(f'output/{ID}-raf_final.pkl.zstd', compression='zstd')\n",
    "# df_final.to_pickle(f'../final-output/{ID}-raf_final.pkl.zstd', compression='zstd')\n",
    "shutil.copy(f'output/{ID}-raf_final.pkl.zstd', f'../final-output/{ID}-raf_final.pkl.zstd')"
   ]
  },
  {
   "cell_type": "code",
   "execution_count": null,
   "metadata": {
    "ExecuteTime": {
     "end_time": "2023-04-17T10:03:14.046707Z",
     "start_time": "2023-04-17T10:03:14.044594Z"
    }
   },
   "outputs": [],
   "source": []
  }
 ],
 "metadata": {
  "kernelspec": {
   "display_name": "Python 3",
   "language": "python",
   "name": "python3"
  },
  "language_info": {
   "codemirror_mode": {
    "name": "ipython",
    "version": 3
   },
   "file_extension": ".py",
   "mimetype": "text/x-python",
   "name": "python",
   "nbconvert_exporter": "python",
   "pygments_lexer": "ipython3",
   "version": "3.9.6"
  },
  "orig_nbformat": 4
 },
 "nbformat": 4,
 "nbformat_minor": 2
}
