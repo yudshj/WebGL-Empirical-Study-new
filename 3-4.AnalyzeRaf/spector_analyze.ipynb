{
 "cells": [
  {
   "cell_type": "code",
   "execution_count": 2,
   "metadata": {
    "ExecuteTime": {
     "end_time": "2023-05-09T03:48:00.226766Z",
     "start_time": "2023-05-09T03:48:00.218168Z"
    }
   },
   "outputs": [],
   "source": [
    "import json\n",
    "import base64\n",
    "import gzip\n",
    "import os\n",
    "import shutil\n",
    "import pandas as pd\n",
    "import copy\n",
    "from pathlib import Path\n",
    "from typing import Union\n",
    "from collections import defaultdict"
   ]
  },
  {
   "cell_type": "code",
   "execution_count": 41,
   "metadata": {
    "ExecuteTime": {
     "end_time": "2023-05-09T03:48:00.235194Z",
     "start_time": "2023-05-09T03:48:00.220474Z"
    }
   },
   "outputs": [],
   "source": [
    "DRAW_COMMANDS = [\n",
    "    \"drawArrays\",\n",
    "    \"drawElements\",\n",
    "    \"drawArraysInstanced\",\n",
    "    \"drawArraysInstancedANGLE\",\n",
    "    \"drawElementsInstanced\",\n",
    "    \"drawElementsInstancedANGLE\",\n",
    "    \"drawRangeElements\",\n",
    "    \"multiDrawArraysWEBGL\",\n",
    "    \"multiDrawElementsWEBGL\",\n",
    "    \"multiDrawArraysInstancedWEBGL\",\n",
    "    \"multiDrawElementsInstancedWEBGL\",\n",
    "    \"multiDrawArraysInstancedBaseInstanceWEBGL\",\n",
    "    \"multiDrawElementsInstancedBaseVertexBaseInstanceWEBGL\",\n",
    "]\n",
    "\n",
    "STATES = [\n",
    "    \"BlendState\",\n",
    "    \"ColorState\",\n",
    "    \"CoverageState\",\n",
    "    \"CullState\",\n",
    "    \"DepthState\",\n",
    "    \"DrawState\",\n",
    "    \"PolygonOffsetState\",\n",
    "    # \"ScissorState\",\n",
    "    \"StencilState\",\n",
    "    # \"VisualState\",\n",
    "    \"DrawCall\",\n",
    "]\n",
    "\n",
    "PURGE_KEYS = [\n",
    "    \"STENCIL_BACK_REF\",\n",
    "    \"STENCIL_REF\",\n",
    "    \"BLEND_COLOR\",\n",
    "    \"VIEWPORT\",\n",
    "    \n",
    "    \"value\",\n",
    "    \"values\",\n",
    "    \"src\",\n",
    "    \"name\",\n",
    "    \"bufferLength\",\n",
    "    \"bufferSourceLength\",\n",
    "    \"vertexAttrib\",\n",
    "    'displayText',\n",
    "    \"translatedSource\",\n",
    "    # \"source\",\n",
    "    # 'name',\n",
    "    # \"bufferLength\",\n",
    "    # \"bufferOffset\",\n",
    "    # \"bufferSourceLength\",\n",
    "    # \"offsetPointer\",\n",
    "]"
   ]
  },
  {
   "cell_type": "code",
   "execution_count": 42,
   "metadata": {
    "ExecuteTime": {
     "end_time": "2023-05-09T03:48:05.503395Z",
     "start_time": "2023-05-09T03:48:05.482353Z"
    }
   },
   "outputs": [],
   "source": [
    "def purge(co: Union[dict,list,int,str,float,bool,None]):\n",
    "    if co is None:\n",
    "        return None\n",
    "    if isinstance(co, str):\n",
    "        if co.startswith('data:') and 'base64' in co:\n",
    "            return co.split(',')[0]\n",
    "    if isinstance(co, (int, str, float, bool)):\n",
    "        return co\n",
    "    if isinstance(co, list):\n",
    "        return [purge(x) for x in co]\n",
    "    if isinstance(co, dict):\n",
    "#         ret = {k: purge(v) for k, v in co.items() if k not in PURGE_KEYS and 'CommandId' not in k}\n",
    "        ret = {k: purge(v) for k, v in co.items() if k not in PURGE_KEYS and not k.startswith(\"__SPECTOR\") and 'CommandId' not in k}\n",
    "        ret = {k: v for k, v in ret.items() if (not isinstance(v, (list, dict))) or (len(v) > 0)}\n",
    "    return ret"
   ]
  },
  {
   "cell_type": "code",
   "execution_count": 43,
   "metadata": {
    "ExecuteTime": {
     "end_time": "2023-05-09T03:48:05.927721Z",
     "start_time": "2023-05-09T03:48:05.911859Z"
    }
   },
   "outputs": [],
   "source": [
    "# def get_duplicity_of_pipeline(obj):\n",
    "#     possible_pipelines_set = defaultdict(lambda : { \"pipeline\": set(), \"before\": 0 })\n",
    "#     for cmd in obj['commands']:\n",
    "#         if cmd['name'] in DRAW_COMMANDS:\n",
    "#             vv = purge({k: cmd[k] for k in STATES})\n",
    "#             possible_pipelines_set[cmd['name']][\"before\"] += 1\n",
    "#             possible_pipelines_set[cmd['name']][\"pipeline\"].add(json.dumps(vv, sort_keys=True, separators=(\",\", \":\"), indent=None))\n",
    "#     return [{\"command\": k, \"pipelines\": list(v[\"pipeline\"]), \"before\": v[\"before\"], \"after\": len(v[\"pipeline\"])} for k, v in possible_pipelines_set.items()]\n",
    "\n",
    "def get_duplicity_of_pipeline(obj):\n",
    "    pipeline_set = set()\n",
    "    bindgroup_set = set()\n",
    "    vertexbuffer_set = set()\n",
    "    for cmd in obj['commands']:\n",
    "        if cmd['name'] in DRAW_COMMANDS:\n",
    "            vv = purge({k: cmd[k] for k in STATES})\n",
    "            pipeline_set.add(json.dumps(vv, sort_keys=True, separators=(\",\", \":\"), indent=None))\n",
    "            try:\n",
    "                bindgroup_set.add(json.dumps(vv['DrawCall']['uniforms'], sort_keys=True, separators=(\",\", \":\"), indent=None))\n",
    "            except:\n",
    "                pass\n",
    "            try:\n",
    "                vertexbuffer_set.add(json.dumps(vv['DrawCall']['attributes'], sort_keys=True, separators=(\",\", \":\"), indent=None))\n",
    "            except:\n",
    "                pass\n",
    "    # result['pipeline_after'] = len(result['pipeline'])\n",
    "    # result['bindgroup_after'] = len(bindgroup_set)\n",
    "    # result['vertexbuffer_after'] = len(vertexbuffer_set)\n",
    "    # result['pipeline'] = list(result['pipeline'])\n",
    "    # return result\n",
    "    return {\n",
    "        \"pipeline\": len(pipeline_set),\n",
    "        \"bindgroup\": len(bindgroup_set),\n",
    "        \"vertexbuffer\": len(vertexbuffer_set),\n",
    "    }"
   ]
  },
  {
   "cell_type": "code",
   "execution_count": null,
   "metadata": {
    "ExecuteTime": {
     "end_time": "2023-05-09T03:48:07.041850Z",
     "start_time": "2023-05-09T03:48:06.120352Z"
    }
   },
   "outputs": [],
   "source": [
    "if Path(\"imr/0504-df_pipeline-merged.pkl.zst\").exists():\n",
    "    df_pipeline = pd.read_pickle(\"imr/0504-df_pipeline-merged.pkl.zst\", compression='zstd')\n",
    "else:\n",
    "    df = pd.read_pickle('imr/0504-df_spector.pkl.zst', compression='zstd')\n",
    "    df_a = df.copy()\n",
    "    df_a['gl_version'] = df['frame.data'].str['context'].str['version']\n",
    "    df_a['frame.data'] = df['frame.data'].map(get_duplicity_of_pipeline)\n",
    "    df_b = df_a.drop(columns='frame.data').join(pd.json_normalize(df_a['frame.data']).add_prefix('frame.data.'))\n",
    "    df_b['frame.data.ratio'] = df_b['frame.data.after'] / df_b['frame.data.before']\n",
    "    df_pipeline = df_b\n",
    "    df_pipeline.to_pickle(\"imr/0504-df_pipeline-merged.pkl.zst\", compression='zstd')"
   ]
  },
  {
   "cell_type": "code",
   "execution_count": 44,
   "metadata": {},
   "outputs": [],
   "source": [
    "df = pd.read_pickle('imr/0504-df_spector.pkl.zst', compression='zstd')\n",
    "df_a = df.copy()\n",
    "df_a['gl_version'] = df['frame.data'].str['context'].str['version']\n",
    "df_a['frame.data'] = df['frame.data'].map(get_duplicity_of_pipeline)\n",
    "df_b = df_a.drop(columns='frame.data').join(pd.json_normalize(df_a['frame.data']).add_prefix('frame.data.'))\n",
    "# df_b['frame.data.ratio'] = df_b['frame.data.after'] / df_b['frame.data.before']\n",
    "df_pipeline = df_b\n",
    "df_pipeline.to_pickle(\"imr/0504-df_pipeline-merged.pkl.zst\", compression='zstd')"
   ]
  },
  {
   "cell_type": "code",
   "execution_count": 31,
   "metadata": {},
   "outputs": [],
   "source": [
    "df_pipeline = df_pipeline[df_pipeline['frame.data.pipeline'] >= 1]"
   ]
  },
  {
   "cell_type": "code",
   "execution_count": 32,
   "metadata": {
    "ExecuteTime": {
     "end_time": "2023-05-09T03:48:07.057800Z",
     "start_time": "2023-05-09T03:48:07.049691Z"
    }
   },
   "outputs": [
    {
     "data": {
      "text/html": [
       "<svg  width=\"550\" height=\"55\"><rect x=\"0\" y=\"0\" width=\"55\" height=\"55\" style=\"fill:#1f77b4;stroke-width:2;stroke:rgb(255,255,255)\"/><rect x=\"55\" y=\"0\" width=\"55\" height=\"55\" style=\"fill:#ff7f0e;stroke-width:2;stroke:rgb(255,255,255)\"/><rect x=\"110\" y=\"0\" width=\"55\" height=\"55\" style=\"fill:#2ca02c;stroke-width:2;stroke:rgb(255,255,255)\"/><rect x=\"165\" y=\"0\" width=\"55\" height=\"55\" style=\"fill:#d62728;stroke-width:2;stroke:rgb(255,255,255)\"/><rect x=\"220\" y=\"0\" width=\"55\" height=\"55\" style=\"fill:#9467bd;stroke-width:2;stroke:rgb(255,255,255)\"/><rect x=\"275\" y=\"0\" width=\"55\" height=\"55\" style=\"fill:#8c564b;stroke-width:2;stroke:rgb(255,255,255)\"/><rect x=\"330\" y=\"0\" width=\"55\" height=\"55\" style=\"fill:#e377c2;stroke-width:2;stroke:rgb(255,255,255)\"/><rect x=\"385\" y=\"0\" width=\"55\" height=\"55\" style=\"fill:#7f7f7f;stroke-width:2;stroke:rgb(255,255,255)\"/><rect x=\"440\" y=\"0\" width=\"55\" height=\"55\" style=\"fill:#bcbd22;stroke-width:2;stroke:rgb(255,255,255)\"/><rect x=\"495\" y=\"0\" width=\"55\" height=\"55\" style=\"fill:#17becf;stroke-width:2;stroke:rgb(255,255,255)\"/></svg>"
      ],
      "text/plain": [
       "[(0.12156862745098039, 0.4666666666666667, 0.7058823529411765),\n",
       " (1.0, 0.4980392156862745, 0.054901960784313725),\n",
       " (0.17254901960784313, 0.6274509803921569, 0.17254901960784313),\n",
       " (0.8392156862745098, 0.15294117647058825, 0.1568627450980392),\n",
       " (0.5803921568627451, 0.403921568627451, 0.7411764705882353),\n",
       " (0.5490196078431373, 0.33725490196078434, 0.29411764705882354),\n",
       " (0.8901960784313725, 0.4666666666666667, 0.7607843137254902),\n",
       " (0.4980392156862745, 0.4980392156862745, 0.4980392156862745),\n",
       " (0.7372549019607844, 0.7411764705882353, 0.13333333333333333),\n",
       " (0.09019607843137255, 0.7450980392156863, 0.8117647058823529)]"
      ]
     },
     "execution_count": 32,
     "metadata": {},
     "output_type": "execute_result"
    }
   ],
   "source": [
    "import seaborn as sns\n",
    "import matplotlib.pyplot as plt\n",
    "\n",
    "sns.set_style(\"whitegrid\")\n",
    "sns.set_context(\"paper\", font_scale=3)\n",
    "# sns.set_palette(\"deep\")\n",
    "color_palette = sns.color_palette()\n",
    "color_palette"
   ]
  },
  {
   "attachments": {},
   "cell_type": "markdown",
   "metadata": {},
   "source": [
    "## Duplicity"
   ]
  },
  {
   "cell_type": "code",
   "execution_count": 45,
   "metadata": {
    "ExecuteTime": {
     "end_time": "2023-05-09T03:48:07.318015Z",
     "start_time": "2023-05-09T03:48:07.057616Z"
    }
   },
   "outputs": [
    {
     "data": {
      "text/html": [
       "<div>\n",
       "<style scoped>\n",
       "    .dataframe tbody tr th:only-of-type {\n",
       "        vertical-align: middle;\n",
       "    }\n",
       "\n",
       "    .dataframe tbody tr th {\n",
       "        vertical-align: top;\n",
       "    }\n",
       "\n",
       "    .dataframe thead th {\n",
       "        text-align: right;\n",
       "    }\n",
       "</style>\n",
       "<table border=\"1\" class=\"dataframe\">\n",
       "  <thead>\n",
       "    <tr style=\"text-align: right;\">\n",
       "      <th></th>\n",
       "      <th>gl_version</th>\n",
       "      <th>frame.data.pipeline</th>\n",
       "      <th>frame.data.bindgroup</th>\n",
       "      <th>frame.data.vertexbuffer</th>\n",
       "    </tr>\n",
       "  </thead>\n",
       "  <tbody>\n",
       "    <tr>\n",
       "      <th>count</th>\n",
       "      <td>3967.000000</td>\n",
       "      <td>3967.000000</td>\n",
       "      <td>3967.000000</td>\n",
       "      <td>3967.000000</td>\n",
       "    </tr>\n",
       "    <tr>\n",
       "      <th>mean</th>\n",
       "      <td>1.413663</td>\n",
       "      <td>5.826065</td>\n",
       "      <td>3.802874</td>\n",
       "      <td>3.397025</td>\n",
       "    </tr>\n",
       "    <tr>\n",
       "      <th>std</th>\n",
       "      <td>0.492552</td>\n",
       "      <td>16.741622</td>\n",
       "      <td>5.768912</td>\n",
       "      <td>12.417836</td>\n",
       "    </tr>\n",
       "    <tr>\n",
       "      <th>min</th>\n",
       "      <td>1.000000</td>\n",
       "      <td>0.000000</td>\n",
       "      <td>0.000000</td>\n",
       "      <td>0.000000</td>\n",
       "    </tr>\n",
       "    <tr>\n",
       "      <th>25%</th>\n",
       "      <td>1.000000</td>\n",
       "      <td>1.000000</td>\n",
       "      <td>1.000000</td>\n",
       "      <td>1.000000</td>\n",
       "    </tr>\n",
       "    <tr>\n",
       "      <th>50%</th>\n",
       "      <td>1.000000</td>\n",
       "      <td>2.000000</td>\n",
       "      <td>2.000000</td>\n",
       "      <td>1.000000</td>\n",
       "    </tr>\n",
       "    <tr>\n",
       "      <th>75%</th>\n",
       "      <td>2.000000</td>\n",
       "      <td>5.000000</td>\n",
       "      <td>4.000000</td>\n",
       "      <td>3.000000</td>\n",
       "    </tr>\n",
       "    <tr>\n",
       "      <th>90%</th>\n",
       "      <td>2.000000</td>\n",
       "      <td>13.000000</td>\n",
       "      <td>9.000000</td>\n",
       "      <td>5.000000</td>\n",
       "    </tr>\n",
       "    <tr>\n",
       "      <th>95%</th>\n",
       "      <td>2.000000</td>\n",
       "      <td>21.000000</td>\n",
       "      <td>14.000000</td>\n",
       "      <td>7.000000</td>\n",
       "    </tr>\n",
       "    <tr>\n",
       "      <th>99%</th>\n",
       "      <td>2.000000</td>\n",
       "      <td>60.340000</td>\n",
       "      <td>30.000000</td>\n",
       "      <td>48.000000</td>\n",
       "    </tr>\n",
       "    <tr>\n",
       "      <th>max</th>\n",
       "      <td>2.000000</td>\n",
       "      <td>404.000000</td>\n",
       "      <td>87.000000</td>\n",
       "      <td>388.000000</td>\n",
       "    </tr>\n",
       "  </tbody>\n",
       "</table>\n",
       "</div>"
      ],
      "text/plain": [
       "        gl_version  frame.data.pipeline  frame.data.bindgroup   \n",
       "count  3967.000000          3967.000000           3967.000000  \\\n",
       "mean      1.413663             5.826065              3.802874   \n",
       "std       0.492552            16.741622              5.768912   \n",
       "min       1.000000             0.000000              0.000000   \n",
       "25%       1.000000             1.000000              1.000000   \n",
       "50%       1.000000             2.000000              2.000000   \n",
       "75%       2.000000             5.000000              4.000000   \n",
       "90%       2.000000            13.000000              9.000000   \n",
       "95%       2.000000            21.000000             14.000000   \n",
       "99%       2.000000            60.340000             30.000000   \n",
       "max       2.000000           404.000000             87.000000   \n",
       "\n",
       "       frame.data.vertexbuffer  \n",
       "count              3967.000000  \n",
       "mean                  3.397025  \n",
       "std                  12.417836  \n",
       "min                   0.000000  \n",
       "25%                   1.000000  \n",
       "50%                   1.000000  \n",
       "75%                   3.000000  \n",
       "90%                   5.000000  \n",
       "95%                   7.000000  \n",
       "99%                  48.000000  \n",
       "max                 388.000000  "
      ]
     },
     "execution_count": 45,
     "metadata": {},
     "output_type": "execute_result"
    }
   ],
   "source": [
    "df_pipeline[['gl_version', 'frame.data.pipeline', 'frame.data.bindgroup', 'frame.data.vertexbuffer']].describe(percentiles=[0.25, 0.5, 0.75, 0.9, 0.95, 0.99])"
   ]
  },
  {
   "cell_type": "code",
   "execution_count": 34,
   "metadata": {},
   "outputs": [
    {
     "data": {
      "text/html": [
       "<div>\n",
       "<style scoped>\n",
       "    .dataframe tbody tr th:only-of-type {\n",
       "        vertical-align: middle;\n",
       "    }\n",
       "\n",
       "    .dataframe tbody tr th {\n",
       "        vertical-align: top;\n",
       "    }\n",
       "\n",
       "    .dataframe thead th {\n",
       "        text-align: right;\n",
       "    }\n",
       "</style>\n",
       "<table border=\"1\" class=\"dataframe\">\n",
       "  <thead>\n",
       "    <tr style=\"text-align: right;\">\n",
       "      <th></th>\n",
       "      <th>idx-frame</th>\n",
       "      <th>idx</th>\n",
       "      <th>url</th>\n",
       "      <th>date</th>\n",
       "      <th>netIdleTimeout</th>\n",
       "      <th>spec_path</th>\n",
       "      <th>frame.url</th>\n",
       "      <th>gl_version</th>\n",
       "      <th>frame.data.pipeline</th>\n",
       "      <th>frame.data.bindgroup</th>\n",
       "      <th>frame.data.vertexbuffer</th>\n",
       "    </tr>\n",
       "  </thead>\n",
       "  <tbody>\n",
       "  </tbody>\n",
       "</table>\n",
       "</div>"
      ],
      "text/plain": [
       "Empty DataFrame\n",
       "Columns: [idx-frame, idx, url, date, netIdleTimeout, spec_path, frame.url, gl_version, frame.data.pipeline, frame.data.bindgroup, frame.data.vertexbuffer]\n",
       "Index: []"
      ]
     },
     "execution_count": 34,
     "metadata": {},
     "output_type": "execute_result"
    }
   ],
   "source": [
    "df_pipeline[df_pipeline['frame.data.pipeline']==0]"
   ]
  },
  {
   "cell_type": "code",
   "execution_count": 35,
   "metadata": {},
   "outputs": [],
   "source": [
    "# for idx,x in enumerate(df_pipeline.loc[3963]['frame.data.pipeline']):\n",
    "#     with open(f\"orig/{idx:05d}.json\", 'w') as fp:\n",
    "#         fp.write(x)"
   ]
  },
  {
   "cell_type": "code",
   "execution_count": 36,
   "metadata": {},
   "outputs": [],
   "source": [
    "# df_pipeline.groupby('gl_version')[['frame.data.before', 'frame.data.after']].agg(['mean', 'median', 'std', 'min', 'max', 'count'])"
   ]
  },
  {
   "cell_type": "code",
   "execution_count": 39,
   "metadata": {},
   "outputs": [
    {
     "data": {
      "text/html": [
       "<div>\n",
       "<style scoped>\n",
       "    .dataframe tbody tr th:only-of-type {\n",
       "        vertical-align: middle;\n",
       "    }\n",
       "\n",
       "    .dataframe tbody tr th {\n",
       "        vertical-align: top;\n",
       "    }\n",
       "\n",
       "    .dataframe thead th {\n",
       "        text-align: right;\n",
       "    }\n",
       "</style>\n",
       "<table border=\"1\" class=\"dataframe\">\n",
       "  <thead>\n",
       "    <tr style=\"text-align: right;\">\n",
       "      <th></th>\n",
       "      <th>Count</th>\n",
       "      <th>Component Name</th>\n",
       "      <th>WebGL version</th>\n",
       "    </tr>\n",
       "  </thead>\n",
       "  <tbody>\n",
       "    <tr>\n",
       "      <th>0</th>\n",
       "      <td>1</td>\n",
       "      <td>pipeline</td>\n",
       "      <td>2</td>\n",
       "    </tr>\n",
       "    <tr>\n",
       "      <th>1</th>\n",
       "      <td>7</td>\n",
       "      <td>pipeline</td>\n",
       "      <td>1</td>\n",
       "    </tr>\n",
       "    <tr>\n",
       "      <th>2</th>\n",
       "      <td>48</td>\n",
       "      <td>pipeline</td>\n",
       "      <td>2</td>\n",
       "    </tr>\n",
       "    <tr>\n",
       "      <th>3</th>\n",
       "      <td>2</td>\n",
       "      <td>pipeline</td>\n",
       "      <td>1</td>\n",
       "    </tr>\n",
       "    <tr>\n",
       "      <th>4</th>\n",
       "      <td>2</td>\n",
       "      <td>pipeline</td>\n",
       "      <td>1</td>\n",
       "    </tr>\n",
       "    <tr>\n",
       "      <th>...</th>\n",
       "      <td>...</td>\n",
       "      <td>...</td>\n",
       "      <td>...</td>\n",
       "    </tr>\n",
       "    <tr>\n",
       "      <th>3962</th>\n",
       "      <td>1</td>\n",
       "      <td>vertexbuffer</td>\n",
       "      <td>1</td>\n",
       "    </tr>\n",
       "    <tr>\n",
       "      <th>3963</th>\n",
       "      <td>50</td>\n",
       "      <td>vertexbuffer</td>\n",
       "      <td>2</td>\n",
       "    </tr>\n",
       "    <tr>\n",
       "      <th>3964</th>\n",
       "      <td>1</td>\n",
       "      <td>vertexbuffer</td>\n",
       "      <td>1</td>\n",
       "    </tr>\n",
       "    <tr>\n",
       "      <th>3965</th>\n",
       "      <td>5</td>\n",
       "      <td>vertexbuffer</td>\n",
       "      <td>2</td>\n",
       "    </tr>\n",
       "    <tr>\n",
       "      <th>3966</th>\n",
       "      <td>1</td>\n",
       "      <td>vertexbuffer</td>\n",
       "      <td>1</td>\n",
       "    </tr>\n",
       "  </tbody>\n",
       "</table>\n",
       "<p>11586 rows × 3 columns</p>\n",
       "</div>"
      ],
      "text/plain": [
       "      Count Component Name  WebGL version\n",
       "0         1       pipeline              2\n",
       "1         7       pipeline              1\n",
       "2        48       pipeline              2\n",
       "3         2       pipeline              1\n",
       "4         2       pipeline              1\n",
       "...     ...            ...            ...\n",
       "3962      1   vertexbuffer              1\n",
       "3963     50   vertexbuffer              2\n",
       "3964      1   vertexbuffer              1\n",
       "3965      5   vertexbuffer              2\n",
       "3966      1   vertexbuffer              1\n",
       "\n",
       "[11586 rows x 3 columns]"
      ]
     },
     "execution_count": 39,
     "metadata": {},
     "output_type": "execute_result"
    }
   ],
   "source": [
    "pipeline_df = pd.DataFrame({'Count': df_pipeline['frame.data.pipeline'], 'Component Name': 'pipeline', 'WebGL version': df_pipeline['gl_version']})\n",
    "bindgroup_df = pd.DataFrame({'Count': df_pipeline['frame.data.bindgroup'], 'Component Name': 'bindgroup', 'WebGL version': df_pipeline['gl_version']})\n",
    "vertexbuffer_df = pd.DataFrame({'Count': df_pipeline['frame.data.vertexbuffer'], 'Component Name': 'vertexbuffer', 'WebGL version': df_pipeline['gl_version']})\n",
    "new_df = pd.concat([pipeline_df, bindgroup_df, vertexbuffer_df])\n",
    "new_df"
   ]
  },
  {
   "cell_type": "code",
   "execution_count": 40,
   "metadata": {},
   "outputs": [
    {
     "data": {
      "image/png": "[encoded data removed]",
      "text/plain": [
       "<Figure size 720x720 with 1 Axes>"
      ]
     },
     "metadata": {},
     "output_type": "display_data"
    }
   ],
   "source": [
    "# fig, axes = plt.subplots(1, 2, figsize=(22,10))\n",
    "plt.figure(figsize=(10,10))\n",
    "sns.boxplot(new_df, x='Component Name', y='Count', hue='WebGL version', showfliers=False)\n",
    "# axes[1].set_ylim((0,1))\n",
    "# sns.boxplot(tmp, x='WebGL version', y='Ratio', ax=axes[1])\n",
    "plt.savefig('fig/results_pipeline_duplication.pdf', bbox_inches='tight')"
   ]
  },
  {
   "cell_type": "code",
   "execution_count": null,
   "metadata": {},
   "outputs": [],
   "source": [
    "sns.boxplot(df_pipeline[df_pipeline['frame.data.before']>1], x='frame.data.ratio', y='frame.data.command', hue='gl_version')\n",
    "plt.legend(bbox_to_anchor=(0.5, 1.5), borderaxespad=0, title='WebGL version', ncol=2, loc='upper center')"
   ]
  },
  {
   "cell_type": "code",
   "execution_count": null,
   "metadata": {
    "ExecuteTime": {
     "end_time": "2023-05-09T03:48:09.766990Z",
     "start_time": "2023-05-09T03:48:09.254962Z"
    }
   },
   "outputs": [],
   "source": [
    "plt.figure(figsize=(14, 10))\n",
    "sns.displot(df_c.reset_index(), x='frame.data.metric.value', hue='frame.data.metric.type', kind=\"ecdf\")"
   ]
  },
  {
   "attachments": {},
   "cell_type": "markdown",
   "metadata": {},
   "source": [
    "## Complexity"
   ]
  },
  {
   "attachments": {},
   "cell_type": "markdown",
   "metadata": {},
   "source": [
    "### resources count in draw"
   ]
  },
  {
   "cell_type": "code",
   "execution_count": null,
   "metadata": {
    "ExecuteTime": {
     "end_time": "2023-05-09T03:48:10.352063Z",
     "start_time": "2023-05-09T03:48:09.765925Z"
    }
   },
   "outputs": [],
   "source": [
    "if Path(\"imr/0504-df_pipeline-detail.pkl.zst\").exists():\n",
    "    df_pipeline_detail = pd.read_pickle(\"imr/0504-df_pipeline-detail.pkl.zst\", compression='zstd')\n",
    "else:\n",
    "    df_a = df_pipeline.explode('frame.data.pipelines').drop(columns=['frame.data.before','frame.data.after','frame.data.ratio']).dropna(subset='frame.data.pipelines')\n",
    "    df_a['frame.data.pipelines'] = df_a['frame.data.pipelines'].map(lambda x: json.loads(x))\n",
    "    df_pipeline_detail = df_a.drop(columns='frame.data.pipelines').join(pd.json_normalize(df_a['frame.data.pipelines'], max_level=0).add_prefix('frame.data.pipeline.'))\n",
    "    df_pipeline_detail.to_pickle(\"imr/0504-df_pipeline-detail.pkl.zst\", compression='zstd')    "
   ]
  },
  {
   "cell_type": "code",
   "execution_count": null,
   "metadata": {
    "ExecuteTime": {
     "end_time": "2023-05-09T03:48:10.437509Z",
     "start_time": "2023-05-09T03:48:10.384325Z"
    }
   },
   "outputs": [],
   "source": [
    "df_pipeline_detail"
   ]
  },
  {
   "cell_type": "code",
   "execution_count": null,
   "metadata": {
    "ExecuteTime": {
     "end_time": "2023-05-09T03:48:10.440092Z",
     "start_time": "2023-05-09T03:48:10.437761Z"
    }
   },
   "outputs": [],
   "source": []
  },
  {
   "attachments": {},
   "cell_type": "markdown",
   "metadata": {},
   "source": [
    "### assemble distance"
   ]
  },
  {
   "cell_type": "code",
   "execution_count": null,
   "metadata": {
    "ExecuteTime": {
     "end_time": "2023-05-09T03:48:10.445837Z",
     "start_time": "2023-05-09T03:48:10.442781Z"
    }
   },
   "outputs": [],
   "source": [
    "import numpy as np\n",
    "import seaborn as sns\n",
    "import pandas as pd\n",
    "import matplotlib.pyplot as plt"
   ]
  },
  {
   "cell_type": "code",
   "execution_count": null,
   "metadata": {
    "ExecuteTime": {
     "end_time": "2023-05-09T03:49:12.713341Z",
     "start_time": "2023-05-09T03:48:13.534383Z"
    }
   },
   "outputs": [],
   "source": [
    "df_spector = pd.read_pickle('imr/0504-df_spector.pkl.zst', compression='zstd')"
   ]
  },
  {
   "cell_type": "code",
   "execution_count": null,
   "metadata": {
    "ExecuteTime": {
     "end_time": "2023-05-09T03:49:12.724151Z",
     "start_time": "2023-05-09T03:49:12.718150Z"
    }
   },
   "outputs": [],
   "source": [
    "# plot average_distance_between_draw\n",
    "sns.set_context(\"paper\", font_scale=2)\n",
    "sns.set_palette(\"deep\")\n",
    "color_palette = sns.color_palette()\n",
    "color_palette"
   ]
  },
  {
   "cell_type": "code",
   "execution_count": null,
   "metadata": {
    "ExecuteTime": {
     "end_time": "2023-05-09T03:49:12.756501Z",
     "start_time": "2023-05-09T03:49:12.726819Z"
    }
   },
   "outputs": [],
   "source": [
    "def get_distance_between_draw(x):\n",
    "    cur = 0\n",
    "    draws = 0\n",
    "    lst = []\n",
    "    for cmd in x['commands']:\n",
    "        if cmd['name'] in DRAW_COMMANDS:\n",
    "            lst.append(cur)\n",
    "            cur = 0\n",
    "            draws += 1\n",
    "        else:\n",
    "            cur += 1\n",
    "    if cur > 0:\n",
    "        lst.append(cur)\n",
    "    if len(lst) == 0:\n",
    "        return None\n",
    "    return {\n",
    "        'mean': np.mean(lst),\n",
    "        'first': lst[0],\n",
    "        # 'std': np.std(lst),\n",
    "        'min': np.min(lst),\n",
    "        'max': np.max(lst),\n",
    "        'median': np.median(lst),\n",
    "        # 'count': len(lst),\n",
    "        'sum': np.sum(lst),\n",
    "        # 'draws': draws,\n",
    "        'max_ratio': np.max(lst) * draws / np.sum(lst),\n",
    "        'first_ratio': lst[0] * draws / np.sum(lst),\n",
    "        'first_over_max': lst[0] / np.max(lst),\n",
    "    }"
   ]
  },
  {
   "cell_type": "code",
   "execution_count": null,
   "metadata": {
    "ExecuteTime": {
     "end_time": "2023-05-09T03:49:13.731746Z",
     "start_time": "2023-05-09T03:49:12.741963Z"
    }
   },
   "outputs": [],
   "source": [
    "distance_between_draw = pd.json_normalize(df_spector['frame.data'].map(get_distance_between_draw))\n",
    "distance_between_draw"
   ]
  },
  {
   "cell_type": "code",
   "execution_count": null,
   "metadata": {
    "ExecuteTime": {
     "end_time": "2023-05-09T03:49:16.262463Z",
     "start_time": "2023-05-09T03:49:13.902672Z"
    }
   },
   "outputs": [],
   "source": [
    "# Get the column names\n",
    "columns = distance_between_draw.columns\n",
    "\n",
    "# Create a set of subplots\n",
    "fig, axs = plt.subplots(nrows=3, ncols=3, figsize=(15, 10))\n",
    "\n",
    "# Flatten the subplots array\n",
    "axs = axs.ravel()\n",
    "\n",
    "# Iterate over the columns and plot the distributions\n",
    "for i, column in enumerate(columns):\n",
    "    # Extract the column values\n",
    "    column_values = distance_between_draw[column]\n",
    "\n",
    "    # Create a histogram of the column values\n",
    "    axs[i].hist(column_values, bins=30)\n",
    "\n",
    "    # Add labels and title to the plot\n",
    "    axs[i].set_xlabel(column)\n",
    "    axs[i].set_ylabel(\"Frequency\")\n",
    "    axs[i].set_title(f\"Distribution of {column}\")\n",
    "\n",
    "# Adjust the layout of the subplots\n",
    "plt.tight_layout()\n",
    "\n",
    "# Show the plot\n",
    "plt.show()"
   ]
  },
  {
   "cell_type": "code",
   "execution_count": null,
   "metadata": {
    "ExecuteTime": {
     "end_time": "2023-05-09T03:49:17.647712Z",
     "start_time": "2023-05-09T03:49:16.411060Z"
    }
   },
   "outputs": [],
   "source": [
    "# Get the column names\n",
    "columns = distance_between_draw.columns\n",
    "\n",
    "# Create a set of subplots\n",
    "fig, axs = plt.subplots(nrows=3, ncols=3, figsize=(15, 10))\n",
    "\n",
    "# Flatten the subplots array\n",
    "axs = axs.ravel()\n",
    "\n",
    "# Iterate over the columns and plot the distributions\n",
    "for i, column in enumerate(columns):\n",
    "    # Extract the column values\n",
    "    column_values = distance_between_draw[column]\n",
    "\n",
    "    # Create a violin plot of the column values\n",
    "    sns.violinplot(data=column_values, inner=\"box\", ax=axs[i])\n",
    "\n",
    "    # Set the title of the subplot\n",
    "    axs[i].set_title(f\"{column} Distribution\")\n",
    "\n",
    "# Adjust the layout of the subplots\n",
    "plt.tight_layout()\n",
    "\n",
    "# Show the plot\n",
    "plt.show()"
   ]
  },
  {
   "cell_type": "code",
   "execution_count": null,
   "metadata": {
    "ExecuteTime": {
     "end_time": "2023-05-09T03:49:17.654916Z",
     "start_time": "2023-05-09T03:49:17.650479Z"
    }
   },
   "outputs": [],
   "source": [
    "((distance_between_draw['first_ratio'] >= 2)).sum() / len(distance_between_draw)"
   ]
  },
  {
   "cell_type": "code",
   "execution_count": null,
   "metadata": {
    "ExecuteTime": {
     "end_time": "2023-05-09T03:49:17.762753Z",
     "start_time": "2023-05-09T03:49:17.657021Z"
    }
   },
   "outputs": [],
   "source": [
    "distance_between_draw.sort_values(by='first_ratio', ascending=False).head(10)"
   ]
  },
  {
   "cell_type": "code",
   "execution_count": null,
   "metadata": {
    "ExecuteTime": {
     "end_time": "2023-05-09T03:49:19.583552Z",
     "start_time": "2023-05-09T03:49:17.690786Z"
    }
   },
   "outputs": [],
   "source": [
    "# Get the column names\n",
    "columns = distance_between_draw.columns\n",
    "\n",
    "# Create a set of subplots\n",
    "fig, axs = plt.subplots(nrows=2, ncols=3, figsize=(12, 7))\n",
    "\n",
    "# Flatten the subplots array\n",
    "axs = axs.ravel()\n",
    "\n",
    "# Iterate over the columns and plot the distributions\n",
    "for i, column in enumerate(columns[:6]):\n",
    "    # Extract the column values\n",
    "    column_values = distance_between_draw[column]\n",
    "    # filter > 80%\n",
    "    column_values = column_values[column_values < column_values.quantile(0.99)]\n",
    "\n",
    "    # Create a violin plot of the column values\n",
    "    sns.histplot(column_values, ax=axs[i], kde=True)\n",
    "\n",
    "    # Set the title of the subplot\n",
    "    axs[i].set_title(f\"{column} Distribution\")\n",
    "\n",
    "# Adjust the layout of the subplots\n",
    "plt.tight_layout()\n",
    "\n",
    "# Show the plot\n",
    "plt.savefig('fig/results_spector.pdf', format=\"pdf\", bbox_inches=\"tight\")"
   ]
  },
  {
   "cell_type": "code",
   "execution_count": null,
   "metadata": {
    "ExecuteTime": {
     "end_time": "2023-05-09T03:49:19.589411Z",
     "start_time": "2023-05-09T03:49:19.585990Z"
    }
   },
   "outputs": [],
   "source": [
    "tmp = distance_between_draw[distance_between_draw['draws']>1]"
   ]
  },
  {
   "cell_type": "code",
   "execution_count": null,
   "metadata": {
    "ExecuteTime": {
     "end_time": "2023-05-09T03:49:19.802904Z",
     "start_time": "2023-05-09T03:49:19.592891Z"
    }
   },
   "outputs": [],
   "source": [
    "first_is_max_in_multiple_draw = (tmp['first'] == tmp['max']).sum() / len(tmp)\n",
    "# pie plot\n",
    "plt.figure(figsize=(14, 10))\n",
    "plt.pie([first_is_max_in_multiple_draw, 1-first_is_max_in_multiple_draw], labels=['first is max', 'first is not max'], autopct='%1.1f%%')\n",
    "plt.title('First is max in a frame with multiple draws')\n",
    "plt.savefig('fig/results_spector_first_is_max_in_multiple_draw.pdf', format=\"pdf\", bbox_inches=\"tight\")"
   ]
  },
  {
   "cell_type": "code",
   "execution_count": null,
   "metadata": {
    "ExecuteTime": {
     "end_time": "2023-05-09T03:49:19.807249Z",
     "start_time": "2023-05-09T03:49:19.804325Z"
    }
   },
   "outputs": [],
   "source": []
  },
  {
   "cell_type": "code",
   "execution_count": null,
   "metadata": {
    "ExecuteTime": {
     "end_time": "2023-05-09T03:49:19.812270Z",
     "start_time": "2023-05-09T03:49:19.809197Z"
    },
    "collapsed": false
   },
   "outputs": [],
   "source": []
  },
  {
   "cell_type": "code",
   "execution_count": null,
   "metadata": {
    "ExecuteTime": {
     "end_time": "2023-05-09T03:49:19.816808Z",
     "start_time": "2023-05-09T03:49:19.814501Z"
    },
    "collapsed": false
   },
   "outputs": [],
   "source": []
  },
  {
   "cell_type": "code",
   "execution_count": null,
   "metadata": {
    "collapsed": false
   },
   "outputs": [],
   "source": []
  }
 ],
 "metadata": {
  "kernelspec": {
   "display_name": "Python 3 (ipykernel)",
   "language": "python",
   "name": "python3"
  },
  "language_info": {
   "codemirror_mode": {
    "name": "ipython",
    "version": 3
   },
   "file_extension": ".py",
   "mimetype": "text/x-python",
   "name": "python",
   "nbconvert_exporter": "python",
   "pygments_lexer": "ipython3",
   "version": "3.10.6"
  }
 },
 "nbformat": 4,
 "nbformat_minor": 2
}
